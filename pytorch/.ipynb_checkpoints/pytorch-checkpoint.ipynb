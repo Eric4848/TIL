{
 "cells": [
  {
   "cell_type": "code",
   "execution_count": 6,
   "id": "0de4092a",
   "metadata": {},
   "outputs": [],
   "source": [
    "import torch\n",
    "import numpy as np"
   ]
  },
  {
   "cell_type": "code",
   "execution_count": 3,
   "id": "bd87dda1",
   "metadata": {},
   "outputs": [
    {
     "data": {
      "text/plain": [
       "'1.13.1+cpu'"
      ]
     },
     "execution_count": 3,
     "metadata": {},
     "output_type": "execute_result"
    }
   ],
   "source": [
    "torch.__version__"
   ]
  },
  {
   "cell_type": "markdown",
   "id": "6719cddb",
   "metadata": {},
   "source": [
    "### 텐서 생성"
   ]
  },
  {
   "cell_type": "code",
   "execution_count": 7,
   "id": "785962d7",
   "metadata": {},
   "outputs": [
    {
     "name": "stdout",
     "output_type": "stream",
     "text": [
      "tensor([[0., 0.],\n",
      "        [0., 0.],\n",
      "        [0., 0.],\n",
      "        [0., 0.]])\n"
     ]
    }
   ],
   "source": [
    "x = torch.empty(4,2)\n",
    "print(x)"
   ]
  },
  {
   "cell_type": "code",
   "execution_count": 8,
   "id": "ac0e621d",
   "metadata": {},
   "outputs": [
    {
     "name": "stdout",
     "output_type": "stream",
     "text": [
      "tensor([[0.7166, 0.1876],\n",
      "        [0.4883, 0.0441],\n",
      "        [0.8297, 0.3395],\n",
      "        [0.9749, 0.0858]])\n"
     ]
    }
   ],
   "source": [
    "x = torch.rand(4,2)\n",
    "print(x)"
   ]
  },
  {
   "cell_type": "code",
   "execution_count": 9,
   "id": "d9721926",
   "metadata": {},
   "outputs": [
    {
     "name": "stdout",
     "output_type": "stream",
     "text": [
      "tensor([[0, 0],\n",
      "        [0, 0],\n",
      "        [0, 0],\n",
      "        [0, 0]])\n"
     ]
    }
   ],
   "source": [
    "x = torch.zeros(4,2, dtype = torch.long)\n",
    "print(x)"
   ]
  },
  {
   "cell_type": "code",
   "execution_count": 10,
   "id": "e63c370c",
   "metadata": {},
   "outputs": [
    {
     "name": "stdout",
     "output_type": "stream",
     "text": [
      "tensor([3.0000, 2.4000])\n"
     ]
    }
   ],
   "source": [
    "x = torch.tensor([3, 2.4])\n",
    "print(x)"
   ]
  },
  {
   "cell_type": "code",
   "execution_count": 11,
   "id": "debcbfa3",
   "metadata": {},
   "outputs": [
    {
     "name": "stdout",
     "output_type": "stream",
     "text": [
      "tensor([[1., 1., 1., 1.],\n",
      "        [1., 1., 1., 1.]], dtype=torch.float64)\n"
     ]
    }
   ],
   "source": [
    "x = torch.ones(2, 4, dtype=torch.double)\n",
    "print(x)"
   ]
  },
  {
   "cell_type": "code",
   "execution_count": 12,
   "id": "3279588f",
   "metadata": {},
   "outputs": [
    {
     "name": "stdout",
     "output_type": "stream",
     "text": [
      "tensor([[-0.6650, -0.0554, -0.9622, -0.2750],\n",
      "        [-0.6924, -0.9781,  0.6159, -0.4801]])\n"
     ]
    }
   ],
   "source": [
    "x = torch.randn_like(x, dtype = torch.float)\n",
    "print(x)"
   ]
  },
  {
   "cell_type": "code",
   "execution_count": 13,
   "id": "b3f341d0",
   "metadata": {},
   "outputs": [
    {
     "name": "stdout",
     "output_type": "stream",
     "text": [
      "torch.Size([2, 4])\n"
     ]
    }
   ],
   "source": [
    "print(x.size())"
   ]
  },
  {
   "cell_type": "markdown",
   "id": "c41897e8",
   "metadata": {},
   "source": [
    "###  데이터 타입"
   ]
  },
  {
   "cell_type": "code",
   "execution_count": 16,
   "id": "3979aa8a",
   "metadata": {},
   "outputs": [
    {
     "name": "stdout",
     "output_type": "stream",
     "text": [
      "tensor([1., 2., 3.])\n",
      "torch.float32\n"
     ]
    }
   ],
   "source": [
    "ft = torch.FloatTensor([1, 2, 3])\n",
    "print(ft)\n",
    "print(ft.dtype)"
   ]
  },
  {
   "cell_type": "code",
   "execution_count": 17,
   "id": "856dab5d",
   "metadata": {},
   "outputs": [
    {
     "name": "stdout",
     "output_type": "stream",
     "text": [
      "tensor([1, 2, 3], dtype=torch.int16)\n",
      "tensor([1, 2, 3], dtype=torch.int32)\n",
      "tensor([1, 2, 3])\n"
     ]
    }
   ],
   "source": [
    "print(ft.short())\n",
    "print(ft.int())\n",
    "print(ft.long()) #int 64"
   ]
  },
  {
   "cell_type": "code",
   "execution_count": 19,
   "id": "cfe3de8a",
   "metadata": {},
   "outputs": [
    {
     "name": "stdout",
     "output_type": "stream",
     "text": [
      "tensor([1, 2, 3], dtype=torch.int32)\n",
      "torch.int32\n"
     ]
    }
   ],
   "source": [
    "it = torch.IntTensor([1, 2, 3])\n",
    "print(it)\n",
    "print(it.dtype)"
   ]
  },
  {
   "cell_type": "code",
   "execution_count": 20,
   "id": "1398d7b9",
   "metadata": {},
   "outputs": [
    {
     "name": "stdout",
     "output_type": "stream",
     "text": [
      "tensor([1., 2., 3.])\n",
      "tensor([1., 2., 3.], dtype=torch.float64)\n",
      "tensor([1., 2., 3.], dtype=torch.float16)\n"
     ]
    }
   ],
   "source": [
    "print(it.float()) #float 32\n",
    "print(it.double())\n",
    "print(it.half())"
   ]
  },
  {
   "cell_type": "markdown",
   "id": "1438cd5e",
   "metadata": {},
   "source": [
    "CUDA Tensors"
   ]
  },
  {
   "cell_type": "code",
   "execution_count": 22,
   "id": "569a8952",
   "metadata": {},
   "outputs": [
    {
     "name": "stdout",
     "output_type": "stream",
     "text": [
      "tensor([-0.1210])\n",
      "-0.12097270786762238\n",
      "torch.float32\n"
     ]
    }
   ],
   "source": [
    "x = torch.randn(1)\n",
    "print(x)\n",
    "print(x.item())\n",
    "print(x.dtype)"
   ]
  },
  {
   "cell_type": "code",
   "execution_count": 27,
   "id": "236fbdf6",
   "metadata": {},
   "outputs": [
    {
     "name": "stdout",
     "output_type": "stream",
     "text": [
      "cpu\n",
      "tensor([1.])\n",
      "tensor([-0.1210])\n"
     ]
    }
   ],
   "source": [
    "device = torch.device('cuda' if torch.cuda.is_available() else 'cpu')\n",
    "print(device)\n",
    "y = torch.ones_like(x, device = device)\n",
    "print(y)\n",
    "x = x.to(device)\n",
    "print(x)"
   ]
  },
  {
   "cell_type": "markdown",
   "id": "f8e59d7d",
   "metadata": {},
   "source": [
    "### 다차원 텐서 표현"
   ]
  },
  {
   "cell_type": "code",
   "execution_count": 29,
   "id": "e049d282",
   "metadata": {},
   "outputs": [
    {
     "name": "stdout",
     "output_type": "stream",
     "text": [
      "0\n",
      "torch.Size([])\n",
      "tensor(0)\n"
     ]
    }
   ],
   "source": [
    "t0 = torch.tensor(0)\n",
    "print(t0.ndim)\n",
    "print(t0.shape)\n",
    "print(t0)"
   ]
  },
  {
   "cell_type": "code",
   "execution_count": 30,
   "id": "a494b7bd",
   "metadata": {},
   "outputs": [
    {
     "name": "stdout",
     "output_type": "stream",
     "text": [
      "1\n",
      "torch.Size([3])\n",
      "tensor([1, 2, 3])\n"
     ]
    }
   ],
   "source": [
    "t1 = torch.tensor([1, 2, 3])\n",
    "print(t1.ndim)\n",
    "print(t1.shape)\n",
    "print(t1)"
   ]
  },
  {
   "cell_type": "code",
   "execution_count": 31,
   "id": "d04d57e4",
   "metadata": {},
   "outputs": [
    {
     "name": "stdout",
     "output_type": "stream",
     "text": [
      "2\n",
      "torch.Size([3, 3])\n",
      "tensor([[1, 2, 3],\n",
      "        [4, 5, 6],\n",
      "        [7, 8, 9]])\n"
     ]
    }
   ],
   "source": [
    "t2 = torch.tensor([[1, 2, 3],\n",
    "                  [4, 5, 6],\n",
    "                  [7, 8, 9]])\n",
    "print(t2.ndim)\n",
    "print(t2.shape)\n",
    "print(t2)"
   ]
  },
  {
   "cell_type": "code",
   "execution_count": 33,
   "id": "8d40ed85",
   "metadata": {},
   "outputs": [
    {
     "name": "stdout",
     "output_type": "stream",
     "text": [
      "3\n",
      "torch.Size([3, 3, 3])\n",
      "tensor([[[1, 2, 3],\n",
      "         [4, 5, 6],\n",
      "         [7, 8, 9]],\n",
      "\n",
      "        [[1, 2, 3],\n",
      "         [4, 5, 6],\n",
      "         [7, 8, 9]],\n",
      "\n",
      "        [[1, 2, 3],\n",
      "         [4, 5, 6],\n",
      "         [7, 8, 9]]])\n"
     ]
    }
   ],
   "source": [
    "t3 = torch.tensor([[[1, 2, 3],\n",
    "                    [4, 5, 6],\n",
    "                    [7, 8, 9]],\n",
    "                   [[1, 2, 3],\n",
    "                    [4, 5, 6],\n",
    "                    [7, 8, 9]],\n",
    "                   [[1, 2, 3],\n",
    "                    [4, 5, 6],\n",
    "                    [7, 8, 9]]])\n",
    "print(t3.ndim)\n",
    "print(t3.shape)\n",
    "print(t3)"
   ]
  },
  {
   "cell_type": "code",
   "execution_count": 34,
   "id": "c53c4772",
   "metadata": {},
   "outputs": [
    {
     "ename": "SyntaxError",
     "evalue": "invalid decimal literal (1964894841.py, line 1)",
     "output_type": "error",
     "traceback": [
      "\u001b[1;36m  Cell \u001b[1;32mIn[34], line 1\u001b[1;36m\u001b[0m\n\u001b[1;33m    4차원 - 컬러 이미지\u001b[0m\n\u001b[1;37m    ^\u001b[0m\n\u001b[1;31mSyntaxError\u001b[0m\u001b[1;31m:\u001b[0m invalid decimal literal\n"
     ]
    }
   ],
   "source": [
    "4차원 - 컬러 이미지\n",
    "5차원 - 컬러 비디오"
   ]
  },
  {
   "cell_type": "code",
   "execution_count": 38,
   "id": "a98b2ea8",
   "metadata": {},
   "outputs": [
    {
     "name": "stdout",
     "output_type": "stream",
     "text": [
      "tensor([[-0.3261,  0.5548]])\n",
      "tensor([[0.3261, 0.5548]])\n",
      "tensor([[-0.3261,  0.5000]])\n"
     ]
    }
   ],
   "source": [
    "import math\n",
    "\n",
    "a = torch.rand(1,2)*2-1\n",
    "print(a)\n",
    "print(torch.abs(a))\n",
    "print(torch.clamp(a, -0.5, 0.5)) #clamp = min max 제한"
   ]
  },
  {
   "cell_type": "code",
   "execution_count": 39,
   "id": "6ce9dd59",
   "metadata": {},
   "outputs": [
    {
     "name": "stdout",
     "output_type": "stream",
     "text": [
      "tensor([[-0.3261,  0.5548]])\n",
      "tensor(-0.3261)\n",
      "tensor(0.5548)\n",
      "tensor(0.1143)\n",
      "tensor(0.6229)\n",
      "tensor(-0.1809)\n"
     ]
    }
   ],
   "source": [
    "print(a)\n",
    "print(torch.min(a))\n",
    "print(torch.max(a))\n",
    "print(torch.mean(a))\n",
    "print(torch.std(a))\n",
    "print(torch.prod(a))"
   ]
  },
  {
   "cell_type": "code",
   "execution_count": 40,
   "id": "153ef906",
   "metadata": {},
   "outputs": [
    {
     "name": "stdout",
     "output_type": "stream",
     "text": [
      "tensor([[0.1258, 0.5048],\n",
      "        [0.8394, 0.2115]])\n",
      "torch.return_types.max(\n",
      "values=tensor([0.8394, 0.5048]),\n",
      "indices=tensor([1, 0]))\n",
      "torch.return_types.max(\n",
      "values=tensor([0.5048, 0.8394]),\n",
      "indices=tensor([1, 0]))\n"
     ]
    }
   ],
   "source": [
    "x = torch.rand(2,2)\n",
    "print(x)\n",
    "print(x.max(dim=0))\n",
    "print(x.max(dim=1))"
   ]
  },
  {
   "cell_type": "code",
   "execution_count": 41,
   "id": "b9ddfaa2",
   "metadata": {},
   "outputs": [
    {
     "name": "stdout",
     "output_type": "stream",
     "text": [
      "tensor([[0.1258, 0.5048],\n",
      "        [0.8394, 0.2115]])\n",
      "torch.return_types.min(\n",
      "values=tensor([0.1258, 0.2115]),\n",
      "indices=tensor([0, 1]))\n",
      "torch.return_types.min(\n",
      "values=tensor([0.1258, 0.2115]),\n",
      "indices=tensor([0, 1]))\n"
     ]
    }
   ],
   "source": [
    "print(x)\n",
    "print(x.min(dim=0))\n",
    "print(x.min(dim=1))"
   ]
  },
  {
   "cell_type": "code",
   "execution_count": 42,
   "id": "0df4c5c3",
   "metadata": {},
   "outputs": [
    {
     "name": "stdout",
     "output_type": "stream",
     "text": [
      "tensor([[0.9121, 0.6486],\n",
      "        [0.5551, 0.5731]])\n",
      "tensor([[0.7737, 0.9065],\n",
      "        [0.5760, 0.6689]])\n"
     ]
    }
   ],
   "source": [
    "x = torch.rand(2,2)\n",
    "print(x)\n",
    "y = torch.rand(2,2)\n",
    "print(y)"
   ]
  },
  {
   "cell_type": "code",
   "execution_count": 43,
   "id": "27146eb6",
   "metadata": {},
   "outputs": [
    {
     "name": "stdout",
     "output_type": "stream",
     "text": [
      "tensor([[1.6858, 1.5550],\n",
      "        [1.1311, 1.2420]])\n",
      "tensor([[1.6858, 1.5550],\n",
      "        [1.1311, 1.2420]])\n"
     ]
    }
   ],
   "source": [
    "print(x+y)\n",
    "print(torch.add(x,y))"
   ]
  },
  {
   "cell_type": "code",
   "execution_count": 48,
   "id": "0bfff1cc",
   "metadata": {},
   "outputs": [
    {
     "name": "stdout",
     "output_type": "stream",
     "text": [
      "tensor([[1.6858, 1.5550],\n",
      "        [1.1311, 1.2420]])\n"
     ]
    },
    {
     "name": "stderr",
     "output_type": "stream",
     "text": [
      "C:\\Users\\하정수\\AppData\\Local\\Temp\\ipykernel_11904\\7703770.py:2: UserWarning: An output with one or more elements was resized since it had shape [2, 4], which does not match the required output shape [2, 2]. This behavior is deprecated, and in a future PyTorch release outputs will not be resized unless they have zero elements. You can explicitly reuse an out tensor t by resizing it, inplace, to zero elements with t.resize_(0). (Triggered internally at ..\\aten\\src\\ATen\\native\\Resize.cpp:24.)\n",
      "  torch.add(x,y,out=result)\n"
     ]
    }
   ],
   "source": [
    "result = torch.empty(2,4)\n",
    "torch.add(x,y,out=result)\n",
    "print(result)"
   ]
  },
  {
   "cell_type": "code",
   "execution_count": 49,
   "id": "cf92db86",
   "metadata": {},
   "outputs": [
    {
     "name": "stdout",
     "output_type": "stream",
     "text": [
      "tensor([[0.9121, 0.6486],\n",
      "        [0.5551, 0.5731]])\n",
      "tensor([[0.7737, 0.9065],\n",
      "        [0.5760, 0.6689]])\n",
      "tensor([[1.6858, 1.5550],\n",
      "        [1.1311, 1.2420]])\n"
     ]
    }
   ],
   "source": [
    "print(x)\n",
    "print(y)\n",
    "y.add_(x) # _를 붙이면 값 자체를 변경한다\n",
    "print(y)"
   ]
  },
  {
   "cell_type": "code",
   "execution_count": 51,
   "id": "94960f0f",
   "metadata": {},
   "outputs": [
    {
     "name": "stdout",
     "output_type": "stream",
     "text": [
      "tensor([[0.7737, 0.9065],\n",
      "        [0.5760, 0.6689]])\n",
      "tensor([[0.7737, 0.9065],\n",
      "        [0.5760, 0.6689]])\n",
      "tensor([[0.7737, 0.9065],\n",
      "        [0.5760, 0.6689]])\n"
     ]
    }
   ],
   "source": [
    "print(y-x)\n",
    "print(torch.sub(y,x))\n",
    "print(y.sub(x))"
   ]
  },
  {
   "cell_type": "code",
   "execution_count": 52,
   "id": "a273f9c6",
   "metadata": {},
   "outputs": [
    {
     "name": "stdout",
     "output_type": "stream",
     "text": [
      "tensor([[1.5377, 1.0086],\n",
      "        [0.6279, 0.7118]])\n",
      "tensor([[1.5377, 1.0086],\n",
      "        [0.6279, 0.7118]])\n",
      "tensor([[1.5377, 1.0086],\n",
      "        [0.6279, 0.7118]])\n"
     ]
    }
   ],
   "source": [
    "print(y*x)\n",
    "print(torch.mul(y,x))\n",
    "print(y.mul(x))"
   ]
  },
  {
   "cell_type": "code",
   "execution_count": 53,
   "id": "1f792b6e",
   "metadata": {},
   "outputs": [
    {
     "name": "stdout",
     "output_type": "stream",
     "text": [
      "tensor([[1.8482, 2.3976],\n",
      "        [2.0378, 2.1671]])\n",
      "tensor([[1.8482, 2.3976],\n",
      "        [2.0378, 2.1671]])\n",
      "tensor([[1.8482, 2.3976],\n",
      "        [2.0378, 2.1671]])\n"
     ]
    }
   ],
   "source": [
    "print(y/x)\n",
    "print(torch.div(y,x))\n",
    "print(y.div(x))"
   ]
  },
  {
   "cell_type": "code",
   "execution_count": 54,
   "id": "89516956",
   "metadata": {},
   "outputs": [
    {
     "name": "stdout",
     "output_type": "stream",
     "text": [
      "tensor([[2.2714, 2.2240],\n",
      "        [1.5840, 1.5750]])\n",
      "tensor([[2.2714, 2.2240],\n",
      "        [1.5840, 1.5750]])\n",
      "torch.return_types.svd(\n",
      "U=tensor([[-0.8182, -0.5749],\n",
      "        [-0.5749,  0.8182]]),\n",
      "S=tensor([3.8852, 0.0140]),\n",
      "V=tensor([[-0.7127, -0.7014],\n",
      "        [-0.7014,  0.7127]]))\n"
     ]
    }
   ],
   "source": [
    "# matmul = 내적\n",
    "print(torch.matmul(x,y))\n",
    "z = torch.mm(x,y)\n",
    "print(z)\n",
    "print(torch.svd(z))"
   ]
  },
  {
   "cell_type": "markdown",
   "id": "ca695fd1",
   "metadata": {},
   "source": [
    "### 텐서의 조작"
   ]
  },
  {
   "cell_type": "code",
   "execution_count": 56,
   "id": "a2689411",
   "metadata": {},
   "outputs": [
    {
     "name": "stdout",
     "output_type": "stream",
     "text": [
      "tensor([[1., 2.],\n",
      "        [3., 4.]])\n",
      "tensor(1.)\n",
      "tensor(2.)\n",
      "tensor(3.)\n",
      "tensor(4.)\n",
      "tensor([1., 3.])\n",
      "tensor([2., 4.])\n",
      "tensor([1., 2.])\n",
      "tensor([3., 4.])\n"
     ]
    }
   ],
   "source": [
    "x = torch.Tensor([[1,2],\n",
    "                  [3,4]])\n",
    "print(x)\n",
    "\n",
    "print(x[0,0])\n",
    "print(x[0,1])\n",
    "print(x[1,0])\n",
    "print(x[1,1])\n",
    "\n",
    "print(x[:,0])\n",
    "print(x[:,1])\n",
    "print(x[0,:])\n",
    "print(x[1,:])"
   ]
  },
  {
   "cell_type": "code",
   "execution_count": 62,
   "id": "21e0cbf9",
   "metadata": {},
   "outputs": [
    {
     "name": "stdout",
     "output_type": "stream",
     "text": [
      "tensor([[-0.1741, -0.3835, -0.1425,  2.7633,  0.2803],\n",
      "        [ 0.8739,  0.6038,  0.6112,  0.2825, -0.7133],\n",
      "        [ 1.3140, -1.5513, -0.1807,  1.2761, -0.5293],\n",
      "        [-0.4913, -0.8793, -0.0173,  0.3852,  1.7912]])\n",
      "tensor([-0.1741, -0.3835, -0.1425,  2.7633,  0.2803,  0.8739,  0.6038,  0.6112,\n",
      "         0.2825, -0.7133,  1.3140, -1.5513, -0.1807,  1.2761, -0.5293, -0.4913,\n",
      "        -0.8793, -0.0173,  0.3852,  1.7912])\n",
      "tensor([[-0.1741, -0.3835, -0.1425,  2.7633],\n",
      "        [ 0.2803,  0.8739,  0.6038,  0.6112],\n",
      "        [ 0.2825, -0.7133,  1.3140, -1.5513],\n",
      "        [-0.1807,  1.2761, -0.5293, -0.4913],\n",
      "        [-0.8793, -0.0173,  0.3852,  1.7912]])\n"
     ]
    }
   ],
   "source": [
    "x = torch.randn(4,5)\n",
    "print(x)\n",
    "y = x.view(20)\n",
    "print(y)\n",
    "z = x.view(5, -1)\n",
    "print(z)"
   ]
  },
  {
   "cell_type": "code",
   "execution_count": 63,
   "id": "18ac51e1",
   "metadata": {},
   "outputs": [
    {
     "name": "stdout",
     "output_type": "stream",
     "text": [
      "tensor([0.4234])\n",
      "0.4234295189380646\n",
      "torch.float32\n"
     ]
    }
   ],
   "source": [
    "x = torch.randn(1)\n",
    "print(x)\n",
    "print(x.item())\n",
    "print(x.dtype)"
   ]
  },
  {
   "cell_type": "code",
   "execution_count": 64,
   "id": "db3c7e28",
   "metadata": {},
   "outputs": [
    {
     "name": "stdout",
     "output_type": "stream",
     "text": [
      "tensor([-1.7067,  1.5451])\n"
     ]
    },
    {
     "ename": "ValueError",
     "evalue": "only one element tensors can be converted to Python scalars",
     "output_type": "error",
     "traceback": [
      "\u001b[1;31m---------------------------------------------------------------------------\u001b[0m",
      "\u001b[1;31mValueError\u001b[0m                                Traceback (most recent call last)",
      "Cell \u001b[1;32mIn[64], line 3\u001b[0m\n\u001b[0;32m      1\u001b[0m x \u001b[38;5;241m=\u001b[39m torch\u001b[38;5;241m.\u001b[39mrandn(\u001b[38;5;241m2\u001b[39m)\n\u001b[0;32m      2\u001b[0m \u001b[38;5;28mprint\u001b[39m(x)\n\u001b[1;32m----> 3\u001b[0m \u001b[38;5;28mprint\u001b[39m(\u001b[43mx\u001b[49m\u001b[38;5;241;43m.\u001b[39;49m\u001b[43mitem\u001b[49m\u001b[43m(\u001b[49m\u001b[43m)\u001b[49m)\n\u001b[0;32m      4\u001b[0m \u001b[38;5;28mprint\u001b[39m(x\u001b[38;5;241m.\u001b[39mdtype)\n",
      "\u001b[1;31mValueError\u001b[0m: only one element tensors can be converted to Python scalars"
     ]
    }
   ],
   "source": [
    "x = torch.randn(2)\n",
    "print(x)\n",
    "print(x.item())# item()은 값이 1개일 때만 가능\n",
    "print(x.dtype)"
   ]
  },
  {
   "cell_type": "code",
   "execution_count": 65,
   "id": "b7b52b42",
   "metadata": {},
   "outputs": [
    {
     "name": "stdout",
     "output_type": "stream",
     "text": [
      "tensor([[[0.9118, 0.8953, 0.4297],\n",
      "         [0.5568, 0.9870, 0.7249],\n",
      "         [0.6420, 0.5974, 0.9670]]])\n",
      "torch.Size([1, 3, 3])\n"
     ]
    }
   ],
   "source": [
    "tensor = torch.rand(1,3,3)\n",
    "print(tensor)\n",
    "print(tensor.shape)"
   ]
  },
  {
   "cell_type": "code",
   "execution_count": 66,
   "id": "0dd4303b",
   "metadata": {},
   "outputs": [
    {
     "name": "stdout",
     "output_type": "stream",
     "text": [
      "tensor([[0.9118, 0.8953, 0.4297],\n",
      "        [0.5568, 0.9870, 0.7249],\n",
      "        [0.6420, 0.5974, 0.9670]])\n",
      "torch.Size([3, 3])\n"
     ]
    }
   ],
   "source": [
    "t = tensor.squeeze() # 차원 삭제\n",
    "print(t)\n",
    "print(t.shape)"
   ]
  },
  {
   "cell_type": "code",
   "execution_count": 67,
   "id": "6822cf72",
   "metadata": {},
   "outputs": [
    {
     "name": "stdout",
     "output_type": "stream",
     "text": [
      "tensor([[0.3707, 0.6504, 0.8172],\n",
      "        [0.9413, 0.0903, 0.6984],\n",
      "        [0.5836, 0.1839, 0.3398]])\n",
      "torch.Size([3, 3])\n"
     ]
    }
   ],
   "source": [
    "t = torch.rand(3,3)\n",
    "print(t)\n",
    "print(t.shape)"
   ]
  },
  {
   "cell_type": "code",
   "execution_count": 69,
   "id": "138c6953",
   "metadata": {},
   "outputs": [
    {
     "name": "stdout",
     "output_type": "stream",
     "text": [
      "tensor([[[0.3707, 0.6504, 0.8172],\n",
      "         [0.9413, 0.0903, 0.6984],\n",
      "         [0.5836, 0.1839, 0.3398]]])\n",
      "torch.Size([1, 3, 3])\n"
     ]
    }
   ],
   "source": [
    "tensor = t.unsqueeze(dim=0) #차원 증가 dim기준\n",
    "print(tensor)\n",
    "print(tensor.shape)"
   ]
  },
  {
   "cell_type": "code",
   "execution_count": 70,
   "id": "1065b399",
   "metadata": {},
   "outputs": [
    {
     "name": "stdout",
     "output_type": "stream",
     "text": [
      "tensor([[[0.3707],\n",
      "         [0.6504],\n",
      "         [0.8172]],\n",
      "\n",
      "        [[0.9413],\n",
      "         [0.0903],\n",
      "         [0.6984]],\n",
      "\n",
      "        [[0.5836],\n",
      "         [0.1839],\n",
      "         [0.3398]]])\n",
      "torch.Size([3, 3, 1])\n"
     ]
    }
   ],
   "source": [
    "tensor = t.unsqueeze(dim=2)\n",
    "print(tensor)\n",
    "print(tensor.shape)"
   ]
  },
  {
   "cell_type": "code",
   "execution_count": 71,
   "id": "e4e5a9f1",
   "metadata": {},
   "outputs": [
    {
     "ename": "IndexError",
     "evalue": "Dimension out of range (expected to be in range of [-3, 2], but got 3)",
     "output_type": "error",
     "traceback": [
      "\u001b[1;31m---------------------------------------------------------------------------\u001b[0m",
      "\u001b[1;31mIndexError\u001b[0m                                Traceback (most recent call last)",
      "Cell \u001b[1;32mIn[71], line 1\u001b[0m\n\u001b[1;32m----> 1\u001b[0m tensor \u001b[38;5;241m=\u001b[39m \u001b[43mt\u001b[49m\u001b[38;5;241;43m.\u001b[39;49m\u001b[43munsqueeze\u001b[49m\u001b[43m(\u001b[49m\u001b[43mdim\u001b[49m\u001b[38;5;241;43m=\u001b[39;49m\u001b[38;5;241;43m3\u001b[39;49m\u001b[43m)\u001b[49m\n\u001b[0;32m      2\u001b[0m \u001b[38;5;28mprint\u001b[39m(tensor)\n\u001b[0;32m      3\u001b[0m \u001b[38;5;28mprint\u001b[39m(tensor\u001b[38;5;241m.\u001b[39mshape)\n",
      "\u001b[1;31mIndexError\u001b[0m: Dimension out of range (expected to be in range of [-3, 2], but got 3)"
     ]
    }
   ],
   "source": [
    "tensor = t.unsqueeze(dim=3)\n",
    "print(tensor)\n",
    "print(tensor.shape)"
   ]
  },
  {
   "cell_type": "code",
   "execution_count": 72,
   "id": "ca764d80",
   "metadata": {},
   "outputs": [
    {
     "name": "stdout",
     "output_type": "stream",
     "text": [
      "tensor([1., 4.])\n",
      "tensor([2., 5.])\n",
      "tensor([3., 6.])\n",
      "tensor([[1., 4.],\n",
      "        [2., 5.],\n",
      "        [3., 6.]])\n"
     ]
    }
   ],
   "source": [
    "# stack 텐서 결합\n",
    "x = torch.FloatTensor([1,4])\n",
    "print(x)\n",
    "y = torch.FloatTensor([2,5])\n",
    "print(y)\n",
    "z = torch.FloatTensor([3,6])\n",
    "print(z)\n",
    "\n",
    "print(torch.stack([x,y,z]))"
   ]
  },
  {
   "cell_type": "code",
   "execution_count": 73,
   "id": "19fc0eec",
   "metadata": {},
   "outputs": [
    {
     "name": "stdout",
     "output_type": "stream",
     "text": [
      "tensor([[[-1.4369, -0.0264,  0.2571],\n",
      "         [-0.3942, -0.4332, -1.5787],\n",
      "         [-0.9919,  0.3666, -0.4952]]])\n",
      "tensor([[[-0.7698, -0.7884, -0.3335],\n",
      "         [-0.1619, -0.1912,  0.9208],\n",
      "         [-0.4724, -0.2950, -1.8339]]])\n",
      "tensor([[[-1.4369, -0.0264,  0.2571],\n",
      "         [-0.3942, -0.4332, -1.5787],\n",
      "         [-0.9919,  0.3666, -0.4952]],\n",
      "\n",
      "        [[-0.7698, -0.7884, -0.3335],\n",
      "         [-0.1619, -0.1912,  0.9208],\n",
      "         [-0.4724, -0.2950, -1.8339]]])\n",
      "torch.Size([2, 3, 3])\n"
     ]
    }
   ],
   "source": [
    "# cat(concatenate) np의 stack과 유사하나 쌓을 dim이 존재해야함\n",
    "a = torch.randn(1,3,3)\n",
    "print(a)\n",
    "b = torch.randn(1,3,3)\n",
    "print(b)\n",
    "c = torch.cat((a,b), dim = 0)\n",
    "print(c)\n",
    "print(c.size())"
   ]
  },
  {
   "cell_type": "code",
   "execution_count": 74,
   "id": "39169f92",
   "metadata": {},
   "outputs": [
    {
     "name": "stdout",
     "output_type": "stream",
     "text": [
      "tensor([[[ 1.6429, -0.9642, -1.4018],\n",
      "         [-1.0315,  0.0393,  0.5406],\n",
      "         [ 1.0826, -0.1138,  1.1458]]])\n",
      "tensor([[[-1.4628,  0.2418, -0.2832],\n",
      "         [-0.1065,  1.5713,  1.0492],\n",
      "         [-0.2317,  0.5444, -0.1737]]])\n",
      "tensor([[[ 1.6429, -0.9642, -1.4018],\n",
      "         [-1.0315,  0.0393,  0.5406],\n",
      "         [ 1.0826, -0.1138,  1.1458],\n",
      "         [-1.4628,  0.2418, -0.2832],\n",
      "         [-0.1065,  1.5713,  1.0492],\n",
      "         [-0.2317,  0.5444, -0.1737]]])\n",
      "torch.Size([1, 6, 3])\n"
     ]
    }
   ],
   "source": [
    "a = torch.randn(1,3,3)\n",
    "print(a)\n",
    "b = torch.randn(1,3,3)\n",
    "print(b)\n",
    "c = torch.cat((a,b), dim = 1)\n",
    "print(c)\n",
    "print(c.size())"
   ]
  },
  {
   "cell_type": "code",
   "execution_count": 75,
   "id": "d23e57b6",
   "metadata": {},
   "outputs": [
    {
     "name": "stdout",
     "output_type": "stream",
     "text": [
      "tensor([[[ 0.1249, -0.7849, -0.1715],\n",
      "         [ 1.4160,  0.0024,  2.0438],\n",
      "         [-0.2762, -0.1419,  1.5231]]])\n",
      "tensor([[[-0.2720, -0.1420,  0.0354],\n",
      "         [ 1.1418, -0.2790,  0.9487],\n",
      "         [ 2.3105, -0.6600,  0.9267]]])\n",
      "tensor([[[ 0.1249, -0.7849, -0.1715, -0.2720, -0.1420,  0.0354],\n",
      "         [ 1.4160,  0.0024,  2.0438,  1.1418, -0.2790,  0.9487],\n",
      "         [-0.2762, -0.1419,  1.5231,  2.3105, -0.6600,  0.9267]]])\n",
      "torch.Size([1, 3, 6])\n"
     ]
    }
   ],
   "source": [
    "a = torch.randn(1,3,3)\n",
    "print(a)\n",
    "b = torch.randn(1,3,3)\n",
    "print(b)\n",
    "c = torch.cat((a,b), dim = 2)\n",
    "print(c)\n",
    "print(c.size())"
   ]
  },
  {
   "cell_type": "code",
   "execution_count": 76,
   "id": "f37db1b4",
   "metadata": {},
   "outputs": [
    {
     "name": "stdout",
     "output_type": "stream",
     "text": [
      "tensor([[0.0241, 0.7695, 0.7842, 0.9538, 0.1410, 0.4827],\n",
      "        [0.3718, 0.0300, 0.9596, 0.9805, 0.9827, 0.9958],\n",
      "        [0.3518, 0.1082, 0.2505, 0.8569, 0.6727, 0.3211]])\n",
      "tensor([[0.0241, 0.7695],\n",
      "        [0.3718, 0.0300],\n",
      "        [0.3518, 0.1082]])\n",
      "tensor([[0.7842, 0.9538],\n",
      "        [0.9596, 0.9805],\n",
      "        [0.2505, 0.8569]])\n",
      "tensor([[0.1410, 0.4827],\n",
      "        [0.9827, 0.9958],\n",
      "        [0.6727, 0.3211]])\n"
     ]
    }
   ],
   "source": [
    "#chunk 텐서를 나눌 때 사용->개수기준\n",
    "tensor = torch.rand(3,6)\n",
    "print(tensor)\n",
    "\n",
    "t1, t2, t3 = torch.chunk(tensor, 3, dim=1)\n",
    "print(t1)\n",
    "print(t2)\n",
    "print(t3)"
   ]
  },
  {
   "cell_type": "code",
   "execution_count": 77,
   "id": "041e5cb6",
   "metadata": {},
   "outputs": [
    {
     "name": "stdout",
     "output_type": "stream",
     "text": [
      "tensor([[0.0160, 0.2845, 0.3912, 0.2582, 0.1319, 0.9237],\n",
      "        [0.5497, 0.6727, 0.4278, 0.6088, 0.2623, 0.9858],\n",
      "        [0.8647, 0.3963, 0.7233, 0.8260, 0.6085, 0.9563]])\n",
      "tensor([[0.0160, 0.2845, 0.3912, 0.2582, 0.1319, 0.9237]])\n",
      "tensor([[0.5497, 0.6727, 0.4278, 0.6088, 0.2623, 0.9858]])\n",
      "tensor([[0.8647, 0.3963, 0.7233, 0.8260, 0.6085, 0.9563]])\n"
     ]
    }
   ],
   "source": [
    "tensor = torch.rand(3,6)\n",
    "print(tensor)\n",
    "\n",
    "t1, t2, t3 = torch.chunk(tensor, 3, dim=0)\n",
    "print(t1)\n",
    "print(t2)\n",
    "print(t3)"
   ]
  },
  {
   "cell_type": "code",
   "execution_count": 79,
   "id": "e93119e6",
   "metadata": {},
   "outputs": [
    {
     "name": "stdout",
     "output_type": "stream",
     "text": [
      "tensor([[0.3507, 0.6236, 0.3144, 0.6312, 0.7792, 0.6394],\n",
      "        [0.0341, 0.4591, 0.2962, 0.2194, 0.7299, 0.4545],\n",
      "        [0.4402, 0.9114, 0.4837, 0.7464, 0.5133, 0.8122]])\n",
      "tensor([[0.3507, 0.6236, 0.3144],\n",
      "        [0.0341, 0.4591, 0.2962],\n",
      "        [0.4402, 0.9114, 0.4837]])\n",
      "tensor([[0.6312, 0.7792, 0.6394],\n",
      "        [0.2194, 0.7299, 0.4545],\n",
      "        [0.7464, 0.5133, 0.8122]])\n"
     ]
    }
   ],
   "source": [
    "# split chunk와 동일하지만 약간 다름->크기 기준\n",
    "tensor = torch.rand(3,6)\n",
    "t1, t2 = torch.split(tensor, 3, dim=1)\n",
    "print(tensor)\n",
    "print(t1)\n",
    "print(t2)"
   ]
  },
  {
   "cell_type": "markdown",
   "id": "fd5f5932",
   "metadata": {},
   "source": [
    "### torch<->numpy"
   ]
  },
  {
   "cell_type": "code",
   "execution_count": 85,
   "id": "19464397",
   "metadata": {},
   "outputs": [
    {
     "name": "stdout",
     "output_type": "stream",
     "text": [
      "tensor([1., 1., 1., 1., 1., 1., 1.])\n"
     ]
    }
   ],
   "source": [
    "a = torch.ones(7)\n",
    "print(a)"
   ]
  },
  {
   "cell_type": "code",
   "execution_count": 92,
   "id": "11ca4920",
   "metadata": {},
   "outputs": [
    {
     "ename": "AttributeError",
     "evalue": "'numpy.ndarray' object has no attribute 'numpy'",
     "output_type": "error",
     "traceback": [
      "\u001b[1;31m---------------------------------------------------------------------------\u001b[0m",
      "\u001b[1;31mAttributeError\u001b[0m                            Traceback (most recent call last)",
      "Cell \u001b[1;32mIn[92], line 1\u001b[0m\n\u001b[1;32m----> 1\u001b[0m b \u001b[38;5;241m=\u001b[39m \u001b[43ma\u001b[49m\u001b[38;5;241;43m.\u001b[39;49m\u001b[43mnumpy\u001b[49m()\n\u001b[0;32m      2\u001b[0m \u001b[38;5;28mprint\u001b[39m(b)\n",
      "\u001b[1;31mAttributeError\u001b[0m: 'numpy.ndarray' object has no attribute 'numpy'"
     ]
    }
   ],
   "source": [
    "b = a.numpy()\n",
    "print(b)"
   ]
  },
  {
   "cell_type": "code",
   "execution_count": 95,
   "id": "92410256",
   "metadata": {},
   "outputs": [
    {
     "name": "stdout",
     "output_type": "stream",
     "text": [
      "[1. 1. 1. 1. 1. 1. 1.]\n"
     ]
    },
    {
     "ename": "RuntimeError",
     "evalue": "Numpy is not available",
     "output_type": "error",
     "traceback": [
      "\u001b[1;31m---------------------------------------------------------------------------\u001b[0m",
      "\u001b[1;31mRuntimeError\u001b[0m                              Traceback (most recent call last)",
      "Cell \u001b[1;32mIn[95], line 3\u001b[0m\n\u001b[0;32m      1\u001b[0m a \u001b[38;5;241m=\u001b[39m np\u001b[38;5;241m.\u001b[39mones(\u001b[38;5;241m7\u001b[39m)\n\u001b[0;32m      2\u001b[0m \u001b[38;5;28mprint\u001b[39m(a)\n\u001b[1;32m----> 3\u001b[0m b \u001b[38;5;241m=\u001b[39m \u001b[43mtorch\u001b[49m\u001b[38;5;241;43m.\u001b[39;49m\u001b[43mfrom_numpy\u001b[49m\u001b[43m(\u001b[49m\u001b[43ma\u001b[49m\u001b[43m)\u001b[49m\n\u001b[0;32m      4\u001b[0m \u001b[38;5;28mprint\u001b[39m(b)\n",
      "\u001b[1;31mRuntimeError\u001b[0m: Numpy is not available"
     ]
    }
   ],
   "source": [
    "a = np.ones(7)\n",
    "print(a)\n",
    "b = torch.from_numpy(a)\n",
    "print(b)"
   ]
  },
  {
   "cell_type": "code",
   "execution_count": null,
   "id": "2a7b6f9f",
   "metadata": {},
   "outputs": [],
   "source": []
  }
 ],
 "metadata": {
  "kernelspec": {
   "display_name": "Python 3",
   "language": "python",
   "name": "python3"
  },
  "language_info": {
   "codemirror_mode": {
    "name": "ipython",
    "version": 3
   },
   "file_extension": ".py",
   "mimetype": "text/x-python",
   "name": "python",
   "nbconvert_exporter": "python",
   "pygments_lexer": "ipython3",
   "version": "3.10.6 (tags/v3.10.6:9c7b4bd, Aug  1 2022, 21:53:49) [MSC v.1932 64 bit (AMD64)]"
  },
  "vscode": {
   "interpreter": {
    "hash": "dbf32d3228aa89d02b234d14177a33921e98abc1f74f5fd8389f3dc65b727003"
   }
  }
 },
 "nbformat": 4,
 "nbformat_minor": 5
}
