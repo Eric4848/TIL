{
 "cells": [
  {
   "cell_type": "markdown",
   "id": "452979f2",
   "metadata": {
    "id": "157b171f"
   },
   "source": [
    "# [KDT] ch3 가설 검정"
   ]
  },
  {
   "cell_type": "code",
   "execution_count": 1,
   "id": "e1e6bb56",
   "metadata": {
    "colab": {
     "base_uri": "https://localhost:8080/",
     "height": 206
    },
    "executionInfo": {
     "elapsed": 2854,
     "status": "ok",
     "timestamp": 1671083794235,
     "user": {
      "displayName": "jinyang park",
      "userId": "06576046992691541404"
     },
     "user_tz": -540
    },
    "id": "e1e6bb56",
    "outputId": "8d285338-3a1a-45ab-91eb-5b7787fad5cb",
    "scrolled": false
   },
   "outputs": [],
   "source": [
    "import pandas as pd\n",
    "import numpy as np\n",
    "\n",
    "import matplotlib.pyplot as plt\n",
    "import seaborn as sns\n",
    "import warnings\n",
    "warnings.filterwarnings('ignore')"
   ]
  },
  {
   "cell_type": "code",
   "execution_count": 6,
   "id": "f6a2fd92",
   "metadata": {
    "colab": {
     "base_uri": "https://localhost:8080/",
     "height": 206
    },
    "executionInfo": {
     "elapsed": 2854,
     "status": "ok",
     "timestamp": 1671083794235,
     "user": {
      "displayName": "jinyang park",
      "userId": "06576046992691541404"
     },
     "user_tz": -540
    },
    "id": "e1e6bb56",
    "outputId": "8d285338-3a1a-45ab-91eb-5b7787fad5cb",
    "scrolled": false
   },
   "outputs": [
    {
     "data": {
      "text/html": [
       "<div>\n",
       "<style scoped>\n",
       "    .dataframe tbody tr th:only-of-type {\n",
       "        vertical-align: middle;\n",
       "    }\n",
       "\n",
       "    .dataframe tbody tr th {\n",
       "        vertical-align: top;\n",
       "    }\n",
       "\n",
       "    .dataframe thead th {\n",
       "        text-align: right;\n",
       "    }\n",
       "</style>\n",
       "<table border=\"1\" class=\"dataframe\">\n",
       "  <thead>\n",
       "    <tr style=\"text-align: right;\">\n",
       "      <th></th>\n",
       "      <th>name</th>\n",
       "      <th>jumin7</th>\n",
       "      <th>gender</th>\n",
       "      <th>height</th>\n",
       "      <th>age</th>\n",
       "      <th>blood_type</th>\n",
       "      <th>company</th>\n",
       "      <th>grades</th>\n",
       "      <th>salary</th>\n",
       "      <th>expenditure</th>\n",
       "    </tr>\n",
       "  </thead>\n",
       "  <tbody>\n",
       "    <tr>\n",
       "      <th>0</th>\n",
       "      <td>hkd1</td>\n",
       "      <td>990623-2</td>\n",
       "      <td>F</td>\n",
       "      <td>161.9</td>\n",
       "      <td>22</td>\n",
       "      <td>A</td>\n",
       "      <td>A</td>\n",
       "      <td>A</td>\n",
       "      <td>4100</td>\n",
       "      <td>1975</td>\n",
       "    </tr>\n",
       "    <tr>\n",
       "      <th>1</th>\n",
       "      <td>hkd10</td>\n",
       "      <td>900303-2</td>\n",
       "      <td>F</td>\n",
       "      <td>169.4</td>\n",
       "      <td>31</td>\n",
       "      <td>A</td>\n",
       "      <td>A</td>\n",
       "      <td>B</td>\n",
       "      <td>4720</td>\n",
       "      <td>2970</td>\n",
       "    </tr>\n",
       "    <tr>\n",
       "      <th>2</th>\n",
       "      <td>hkd100</td>\n",
       "      <td>681205-2</td>\n",
       "      <td>F</td>\n",
       "      <td>168.3</td>\n",
       "      <td>55</td>\n",
       "      <td>A</td>\n",
       "      <td>A</td>\n",
       "      <td>B</td>\n",
       "      <td>7280</td>\n",
       "      <td>5905</td>\n",
       "    </tr>\n",
       "    <tr>\n",
       "      <th>3</th>\n",
       "      <td>hkd101</td>\n",
       "      <td>931226-2</td>\n",
       "      <td>F</td>\n",
       "      <td>155.3</td>\n",
       "      <td>28</td>\n",
       "      <td>AB</td>\n",
       "      <td>B</td>\n",
       "      <td>B</td>\n",
       "      <td>4060</td>\n",
       "      <td>2935</td>\n",
       "    </tr>\n",
       "    <tr>\n",
       "      <th>4</th>\n",
       "      <td>hkd102</td>\n",
       "      <td>920123-1</td>\n",
       "      <td>M</td>\n",
       "      <td>188.6</td>\n",
       "      <td>29</td>\n",
       "      <td>O</td>\n",
       "      <td>B</td>\n",
       "      <td>F</td>\n",
       "      <td>4390</td>\n",
       "      <td>4015</td>\n",
       "    </tr>\n",
       "  </tbody>\n",
       "</table>\n",
       "</div>"
      ],
      "text/plain": [
       "     name    jumin7 gender  height  age blood_type company grades  salary  \\\n",
       "0    hkd1  990623-2      F   161.9   22          A       A      A    4100   \n",
       "1   hkd10  900303-2      F   169.4   31          A       A      B    4720   \n",
       "2  hkd100  681205-2      F   168.3   55          A       A      B    7280   \n",
       "3  hkd101  931226-2      F   155.3   28         AB       B      B    4060   \n",
       "4  hkd102  920123-1      M   188.6   29          O       B      F    4390   \n",
       "\n",
       "   expenditure  \n",
       "0         1975  \n",
       "1         2970  \n",
       "2         5905  \n",
       "3         2935  \n",
       "4         4015  "
      ]
     },
     "execution_count": 6,
     "metadata": {},
     "output_type": "execute_result"
    }
   ],
   "source": [
    "# 파일 로딩 \n",
    "df_hk = pd.read_csv('.\\\\data\\hk_221206.csv')\n",
    "df_hk[:5]"
   ]
  },
  {
   "cell_type": "code",
   "execution_count": 8,
   "id": "yvXLZvub_PBT",
   "metadata": {
    "colab": {
     "base_uri": "https://localhost:8080/"
    },
    "executionInfo": {
     "elapsed": 8,
     "status": "ok",
     "timestamp": 1670758863969,
     "user": {
      "displayName": "jinyang park",
      "userId": "06576046992691541404"
     },
     "user_tz": -540
    },
    "id": "yvXLZvub_PBT",
    "outputId": "6c8272bd-ec9a-4ce3-d2b3-11a82da8f9e2",
    "scrolled": true
   },
   "outputs": [
    {
     "name": "stdout",
     "output_type": "stream",
     "text": [
      "<class 'pandas.core.frame.DataFrame'>\n",
      "RangeIndex: 250 entries, 0 to 249\n",
      "Data columns (total 10 columns):\n",
      " #   Column       Non-Null Count  Dtype  \n",
      "---  ------       --------------  -----  \n",
      " 0   name         250 non-null    object \n",
      " 1   jumin7       250 non-null    object \n",
      " 2   gender       250 non-null    object \n",
      " 3   height       250 non-null    float64\n",
      " 4   age          250 non-null    int64  \n",
      " 5   blood_type   250 non-null    object \n",
      " 6   company      250 non-null    object \n",
      " 7   grades       250 non-null    object \n",
      " 8   salary       250 non-null    int64  \n",
      " 9   expenditure  250 non-null    int64  \n",
      "dtypes: float64(1), int64(3), object(6)\n",
      "memory usage: 19.7+ KB\n"
     ]
    }
   ],
   "source": [
    "# Data type을 살펴보고 EDA를 수행 \n",
    "df_hk.info()"
   ]
  },
  {
   "cell_type": "markdown",
   "id": "2908c943",
   "metadata": {
    "id": "2908c943"
   },
   "source": [
    "## 1 sample t-test\n",
    "\n",
    "$ H_0 : \\mu = \\mu_0$\n",
    "\n",
    "$ H_1 : \\mu \\neq \\mu_0$"
   ]
  },
  {
   "cell_type": "code",
   "execution_count": null,
   "id": "ljuFZhXpbmby",
   "metadata": {
    "colab": {
     "base_uri": "https://localhost:8080/"
    },
    "executionInfo": {
     "elapsed": 4,
     "status": "ok",
     "timestamp": 1671085494957,
     "user": {
      "displayName": "jinyang park",
      "userId": "06576046992691541404"
     },
     "user_tz": -540
    },
    "id": "ljuFZhXpbmby",
    "outputId": "83bc7c58-e86a-4ceb-da90-2c8bdb39baaf",
    "scrolled": true
   },
   "outputs": [],
   "source": [
    "# 1 sample t-test\n"
   ]
  },
  {
   "cell_type": "code",
   "execution_count": 7,
   "id": "QfXxTzTEbquj",
   "metadata": {
    "colab": {
     "base_uri": "https://localhost:8080/"
    },
    "executionInfo": {
     "elapsed": 3,
     "status": "ok",
     "timestamp": 1671085082243,
     "user": {
      "displayName": "jinyang park",
      "userId": "06576046992691541404"
     },
     "user_tz": -540
    },
    "id": "QfXxTzTEbquj",
    "outputId": "0b1990ce-9408-46e6-aef4-7fe5393ea5c9"
   },
   "outputs": [
    {
     "data": {
      "text/plain": [
       "39.24"
      ]
     },
     "execution_count": 7,
     "metadata": {},
     "output_type": "execute_result"
    }
   ],
   "source": [
    "# t-test를 할 data의 mean\n",
    "df_hk['age'].mean()"
   ]
  },
  {
   "cell_type": "code",
   "execution_count": null,
   "id": "QorxgXtpfBc3",
   "metadata": {
    "colab": {
     "base_uri": "https://localhost:8080/"
    },
    "executionInfo": {
     "elapsed": 3,
     "status": "ok",
     "timestamp": 1671085968148,
     "user": {
      "displayName": "jinyang park",
      "userId": "06576046992691541404"
     },
     "user_tz": -540
    },
    "id": "QorxgXtpfBc3",
    "outputId": "f036b761-9fec-4f05-f1e2-23393be88013"
   },
   "outputs": [],
   "source": [
    "# describe\n"
   ]
  },
  {
   "cell_type": "code",
   "execution_count": 16,
   "id": "mGD-P4u6c1I_",
   "metadata": {
    "colab": {
     "base_uri": "https://localhost:8080/",
     "height": 283
    },
    "executionInfo": {
     "elapsed": 637,
     "status": "ok",
     "timestamp": 1671085535288,
     "user": {
      "displayName": "jinyang park",
      "userId": "06576046992691541404"
     },
     "user_tz": -540
    },
    "id": "mGD-P4u6c1I_",
    "outputId": "a11a48a7-ec1f-4814-d055-96509a0c003a"
   },
   "outputs": [
    {
     "data": {
      "image/png": "[encoded data removed]",
      "text/plain": [
       "<Figure size 640x480 with 1 Axes>"
      ]
     },
     "metadata": {},
     "output_type": "display_data"
    }
   ],
   "source": [
    "# age의 histogram\n",
    "df_hk['age'].plot.hist(bins = 71)\n",
    "plt.show()"
   ]
  },
  {
   "cell_type": "code",
   "execution_count": 19,
   "id": "7a68dc76",
   "metadata": {
    "colab": {
     "base_uri": "https://localhost:8080/"
    },
    "executionInfo": {
     "elapsed": 528,
     "status": "ok",
     "timestamp": 1671085425030,
     "user": {
      "displayName": "jinyang park",
      "userId": "06576046992691541404"
     },
     "user_tz": -540
    },
    "id": "7a68dc76",
    "outputId": "9b153cbb-43a2-415b-b740-308a44adf9a2"
   },
   "outputs": [
    {
     "data": {
      "text/plain": [
       "TtestResult(statistic=16.882244149646134, pvalue=3.847271424260211e-43, df=249)"
      ]
     },
     "execution_count": 19,
     "metadata": {},
     "output_type": "execute_result"
    }
   ],
   "source": [
    "# t-test를 할 data의 mean 근처의 값으로 t-test후 t통계량과 p_value 관찰\n",
    "from scipy.stats import ttest_1samp\n",
    "ttest_1samp(df_hk['age'], popmean=30)"
   ]
  },
  {
   "cell_type": "code",
   "execution_count": 22,
   "id": "20g2Zex5djCH",
   "metadata": {
    "colab": {
     "base_uri": "https://localhost:8080/"
    },
    "executionInfo": {
     "elapsed": 4,
     "status": "ok",
     "timestamp": 1671085579617,
     "user": {
      "displayName": "jinyang park",
      "userId": "06576046992691541404"
     },
     "user_tz": -540
    },
    "id": "20g2Zex5djCH",
    "outputId": "7b0a0e22-bc78-4fe5-b128-e1bd9656c6ad"
   },
   "outputs": [
    {
     "data": {
      "text/plain": [
       "TtestResult(statistic=2.265582548220913, pvalue=0.024336341875188777, df=249)"
      ]
     },
     "execution_count": 22,
     "metadata": {},
     "output_type": "execute_result"
    }
   ],
   "source": [
    "# t-test를 할 data의 mean 근처의 값으로 t-test후 t통계량과 p_value 관찰\n",
    "from scipy.stats import ttest_1samp\n",
    "ttest_1samp(df_hk['age'], popmean=38)"
   ]
  },
  {
   "cell_type": "code",
   "execution_count": 27,
   "id": "ca30a621",
   "metadata": {},
   "outputs": [
    {
     "data": {
      "text/plain": [
       "TtestResult(statistic=1.3520411981318365, pvalue=0.17758890053555884, df=249)"
      ]
     },
     "execution_count": 27,
     "metadata": {},
     "output_type": "execute_result"
    }
   ],
   "source": [
    "# t-test를 할 data의 mean 근처의 값으로 t-test후 t통계량과 p_value 관찰\n",
    "from scipy.stats import ttest_1samp\n",
    "ttest_1samp(df_hk['age'], popmean=38.5)"
   ]
  },
  {
   "cell_type": "code",
   "execution_count": 28,
   "id": "5NCUC_EmdpTO",
   "metadata": {
    "colab": {
     "base_uri": "https://localhost:8080/"
    },
    "executionInfo": {
     "elapsed": 407,
     "status": "ok",
     "timestamp": 1671085605001,
     "user": {
      "displayName": "jinyang park",
      "userId": "06576046992691541404"
     },
     "user_tz": -540
    },
    "id": "5NCUC_EmdpTO",
    "outputId": "a169dad7-09fe-44ab-e709-c1eb8f64ad2a"
   },
   "outputs": [
    {
     "data": {
      "text/plain": [
       "TtestResult(statistic=0.43849984804276027, pvalue=0.6614041860727076, df=249)"
      ]
     },
     "execution_count": 28,
     "metadata": {},
     "output_type": "execute_result"
    }
   ],
   "source": [
    "# t-test를 할 data의 mean 근처의 값으로 t-test후 t통계량과 p_value 관찰\n",
    "from scipy.stats import ttest_1samp\n",
    "ttest_1samp(df_hk['age'], popmean=39)"
   ]
  },
  {
   "cell_type": "markdown",
   "id": "7873d50c",
   "metadata": {},
   "source": [
    "### 2 sample t-test\n",
    "\n",
    "\n",
    "$ H_0 : \\mu_0 = \\mu_1$\n",
    "\n",
    "$ H_1 : \\mu_0 \\neq \\mu_1$"
   ]
  },
  {
   "cell_type": "code",
   "execution_count": 37,
   "id": "aea9cf9b",
   "metadata": {
    "colab": {
     "base_uri": "https://localhost:8080/"
    },
    "executionInfo": {
     "elapsed": 329,
     "status": "ok",
     "timestamp": 1671086612546,
     "user": {
      "displayName": "jinyang park",
      "userId": "06576046992691541404"
     },
     "user_tz": -540
    },
    "id": "aea9cf9b",
    "outputId": "1233b53d-a0ae-4431-ba46-ebe0adbeb477"
   },
   "outputs": [
    {
     "name": "stdout",
     "output_type": "stream",
     "text": [
      "6522.5 5364.4 8013.6\n"
     ]
    }
   ],
   "source": [
    "# A,B,C회사 연봉 평균\n",
    "salary_a = df_hk[df_hk['company'] == 'A'].salary.mean()\n",
    "salary_b = df_hk[df_hk['company'] == 'B'].salary.mean()\n",
    "salary_c = df_hk[df_hk['company'] == 'C'].salary.mean()\n",
    "\n",
    "print(salary_a, salary_b, salary_c)"
   ]
  },
  {
   "cell_type": "code",
   "execution_count": 36,
   "id": "417a29c1",
   "metadata": {
    "colab": {
     "base_uri": "https://localhost:8080/"
    },
    "executionInfo": {
     "elapsed": 329,
     "status": "ok",
     "timestamp": 1671086612546,
     "user": {
      "displayName": "jinyang park",
      "userId": "06576046992691541404"
     },
     "user_tz": -540
    },
    "id": "aea9cf9b",
    "outputId": "1233b53d-a0ae-4431-ba46-ebe0adbeb477"
   },
   "outputs": [
    {
     "data": {
      "text/plain": [
       "Ttest_indResult(statistic=5.941362455469809, pvalue=1.2532322871358408e-08)"
      ]
     },
     "execution_count": 36,
     "metadata": {},
     "output_type": "execute_result"
    }
   ],
   "source": [
    "# 2 sample t-test (A=B)\n",
    "from scipy.stats import ttest_ind\n",
    "\n",
    "sala = df_hk[df_hk['company'] == 'A'].salary\n",
    "salb = df_hk[df_hk['company'] == 'B'].salary\n",
    "\n",
    "ttest_ind(sala, salb)"
   ]
  },
  {
   "cell_type": "code",
   "execution_count": 39,
   "id": "31134640",
   "metadata": {
    "colab": {
     "base_uri": "https://localhost:8080/"
    },
    "executionInfo": {
     "elapsed": 329,
     "status": "ok",
     "timestamp": 1671086612546,
     "user": {
      "displayName": "jinyang park",
      "userId": "06576046992691541404"
     },
     "user_tz": -540
    },
    "id": "aea9cf9b",
    "outputId": "1233b53d-a0ae-4431-ba46-ebe0adbeb477"
   },
   "outputs": [
    {
     "data": {
      "text/plain": [
       "Ttest_indResult(statistic=5.941362455469809, pvalue=0.9999999937338386)"
      ]
     },
     "execution_count": 39,
     "metadata": {},
     "output_type": "execute_result"
    }
   ],
   "source": [
    "# 2 sample t-test (A>=B) less\n",
    "ttest_ind(sala, salb, alternative='less')"
   ]
  },
  {
   "cell_type": "code",
   "execution_count": 40,
   "id": "efbcc98b",
   "metadata": {
    "colab": {
     "base_uri": "https://localhost:8080/"
    },
    "executionInfo": {
     "elapsed": 329,
     "status": "ok",
     "timestamp": 1671086612546,
     "user": {
      "displayName": "jinyang park",
      "userId": "06576046992691541404"
     },
     "user_tz": -540
    },
    "id": "aea9cf9b",
    "outputId": "1233b53d-a0ae-4431-ba46-ebe0adbeb477"
   },
   "outputs": [
    {
     "data": {
      "text/plain": [
       "Ttest_indResult(statistic=5.941362455469809, pvalue=6.266161435679204e-09)"
      ]
     },
     "execution_count": 40,
     "metadata": {},
     "output_type": "execute_result"
    }
   ],
   "source": [
    "# 2 sample t-test (A<=B) greater\n",
    "ttest_ind(sala, salb, alternative='greater')"
   ]
  },
  {
   "cell_type": "markdown",
   "id": "e88c2765",
   "metadata": {},
   "source": [
    "-----------------------------------------------------------------------"
   ]
  },
  {
   "cell_type": "markdown",
   "id": "a05a6876",
   "metadata": {},
   "source": [
    "## Quiz 1\n",
    "\n",
    "1) iris 데이터를 사용하여('iris.csv') species column 'virginica'의 'sepal_width' 모평균이 3.14와 같은지 가설을 수립하고 \n",
    "   유의수준 0.05에서 검정하시오\n",
    "\n",
    "2) 'setosa'와 'versicolor'의 sepal_length 평균이 같은지 가설을 수립하고 유의수준 0.05에서 검정하시오"
   ]
  },
  {
   "cell_type": "code",
   "execution_count": 41,
   "id": "d95d2336",
   "metadata": {},
   "outputs": [
    {
     "data": {
      "text/html": [
       "<div>\n",
       "<style scoped>\n",
       "    .dataframe tbody tr th:only-of-type {\n",
       "        vertical-align: middle;\n",
       "    }\n",
       "\n",
       "    .dataframe tbody tr th {\n",
       "        vertical-align: top;\n",
       "    }\n",
       "\n",
       "    .dataframe thead th {\n",
       "        text-align: right;\n",
       "    }\n",
       "</style>\n",
       "<table border=\"1\" class=\"dataframe\">\n",
       "  <thead>\n",
       "    <tr style=\"text-align: right;\">\n",
       "      <th></th>\n",
       "      <th>sepal_length</th>\n",
       "      <th>sepal_width</th>\n",
       "      <th>petal_length</th>\n",
       "      <th>petal_width</th>\n",
       "      <th>species</th>\n",
       "    </tr>\n",
       "  </thead>\n",
       "  <tbody>\n",
       "    <tr>\n",
       "      <th>0</th>\n",
       "      <td>5.1</td>\n",
       "      <td>3.5</td>\n",
       "      <td>1.4</td>\n",
       "      <td>0.2</td>\n",
       "      <td>setosa</td>\n",
       "    </tr>\n",
       "    <tr>\n",
       "      <th>1</th>\n",
       "      <td>4.9</td>\n",
       "      <td>3.0</td>\n",
       "      <td>1.4</td>\n",
       "      <td>0.2</td>\n",
       "      <td>setosa</td>\n",
       "    </tr>\n",
       "    <tr>\n",
       "      <th>2</th>\n",
       "      <td>4.7</td>\n",
       "      <td>3.2</td>\n",
       "      <td>1.3</td>\n",
       "      <td>0.2</td>\n",
       "      <td>setosa</td>\n",
       "    </tr>\n",
       "    <tr>\n",
       "      <th>3</th>\n",
       "      <td>4.6</td>\n",
       "      <td>3.1</td>\n",
       "      <td>1.5</td>\n",
       "      <td>0.2</td>\n",
       "      <td>setosa</td>\n",
       "    </tr>\n",
       "    <tr>\n",
       "      <th>4</th>\n",
       "      <td>5.0</td>\n",
       "      <td>3.6</td>\n",
       "      <td>1.4</td>\n",
       "      <td>0.2</td>\n",
       "      <td>setosa</td>\n",
       "    </tr>\n",
       "  </tbody>\n",
       "</table>\n",
       "</div>"
      ],
      "text/plain": [
       "   sepal_length  sepal_width  petal_length  petal_width species\n",
       "0           5.1          3.5           1.4          0.2  setosa\n",
       "1           4.9          3.0           1.4          0.2  setosa\n",
       "2           4.7          3.2           1.3          0.2  setosa\n",
       "3           4.6          3.1           1.5          0.2  setosa\n",
       "4           5.0          3.6           1.4          0.2  setosa"
      ]
     },
     "execution_count": 41,
     "metadata": {},
     "output_type": "execute_result"
    }
   ],
   "source": [
    "# 파일 로딩 \n",
    "df_iris = pd.read_csv('.\\\\data\\\\iris.csv')\n",
    "df_iris[:5]"
   ]
  },
  {
   "cell_type": "code",
   "execution_count": null,
   "id": "ba4955bf",
   "metadata": {},
   "outputs": [],
   "source": [
    "# 가설검정\n",
    "# H0 : 'virginica'의 'sepal_width' 모평균이 3.14 와 같다고 볼 수 있다 (유의수준 0.05)\n",
    "# H1 : 'virginica'의 'sepal_width' 모평균이 3.14 와 같다고 볼 수 없다 (유의수준 0.05)"
   ]
  },
  {
   "cell_type": "code",
   "execution_count": 48,
   "id": "c98d4ef2",
   "metadata": {},
   "outputs": [
    {
     "name": "stdout",
     "output_type": "stream",
     "text": [
      "False\n",
      "True\n"
     ]
    }
   ],
   "source": [
    "from scipy.stats import ttest_1samp, ttest_ind\n",
    "\n",
    "iris_vir = df_iris[df_iris['species'] == 'virginica']\n",
    "\n",
    "print(ttest_1samp(iris_vir['sepal_width'], 3.14)[1] > 0.05)\n",
    "print(ttest_1samp(iris_vir['sepal_width'], 3.14)[1] < 0.05)"
   ]
  },
  {
   "cell_type": "code",
   "execution_count": null,
   "id": "627d7a4c",
   "metadata": {},
   "outputs": [],
   "source": [
    "# 가설검정\n",
    "# H0 : 'setosa'와 'versicolor' 의 sepal_length 평균이 같다고 볼 수 있다 (유의수준 0.05)\n",
    "# H1 : 'setosa'와 'versicolor' 의 sepal_length 평균이 같다고 볼 수 없다 (유의수준 0.05)"
   ]
  },
  {
   "cell_type": "code",
   "execution_count": 52,
   "id": "249f3045",
   "metadata": {},
   "outputs": [
    {
     "name": "stdout",
     "output_type": "stream",
     "text": [
      "False\n",
      "True\n"
     ]
    }
   ],
   "source": [
    "from scipy.stats import ttest_1samp, ttest_ind\n",
    "iris_set = df_iris[df_iris['species'] == 'setosa']\n",
    "iris_ver = df_iris[df_iris['species'] == 'versicolor']\n",
    "\n",
    "print(ttest_ind(iris_set['sepal_length'], iris_ver['sepal_length'])[1] > 0.05)\n",
    "print(ttest_ind(iris_set['sepal_length'], iris_ver['sepal_length'])[1] < 0.05)"
   ]
  },
  {
   "cell_type": "markdown",
   "id": "64d757dd",
   "metadata": {},
   "source": [
    "-----------------------------------------------------------------------"
   ]
  },
  {
   "cell_type": "markdown",
   "id": "396f3ed9",
   "metadata": {
    "id": "396f3ed9"
   },
   "source": [
    "## ANOVA\n",
    "\n",
    "$ H_0 : \\mu_1 = \\mu_2 = \\mu_3$\n",
    "\n",
    "$ H_1 : \\mu_1 \\neq \\mu_2  \\quad or  \\quad  \\mu_2 \\neq \\mu_3  \\quad   or  \\quad  \\mu_1 \\neq \\mu_3$"
   ]
  },
  {
   "cell_type": "code",
   "execution_count": null,
   "id": "3ab4ed45",
   "metadata": {
    "colab": {
     "base_uri": "https://localhost:8080/"
    },
    "executionInfo": {
     "elapsed": 329,
     "status": "ok",
     "timestamp": 1671086612546,
     "user": {
      "displayName": "jinyang park",
      "userId": "06576046992691541404"
     },
     "user_tz": -540
    },
    "id": "aea9cf9b",
    "outputId": "1233b53d-a0ae-4431-ba46-ebe0adbeb477"
   },
   "outputs": [],
   "source": [
    "# A,B,C회사 연봉 평균이 같은지 검정\n"
   ]
  },
  {
   "cell_type": "code",
   "execution_count": null,
   "id": "6a35e56b",
   "metadata": {
    "colab": {
     "base_uri": "https://localhost:8080/"
    },
    "executionInfo": {
     "elapsed": 9,
     "status": "ok",
     "timestamp": 1671087313671,
     "user": {
      "displayName": "jinyang park",
      "userId": "06576046992691541404"
     },
     "user_tz": -540
    },
    "id": "6a35e56b",
    "outputId": "ca5ea3e9-66f4-405f-9b4e-5094b24f7b86"
   },
   "outputs": [],
   "source": [
    "# ANOVA scipy.stats 사용\n"
   ]
  },
  {
   "cell_type": "code",
   "execution_count": null,
   "id": "JW_GAZaNkou3",
   "metadata": {
    "colab": {
     "base_uri": "https://localhost:8080/",
     "height": 112
    },
    "executionInfo": {
     "elapsed": 5,
     "status": "ok",
     "timestamp": 1671087950020,
     "user": {
      "displayName": "jinyang park",
      "userId": "06576046992691541404"
     },
     "user_tz": -540
    },
    "id": "JW_GAZaNkou3",
    "outputId": "d704ddb7-455f-4adc-9241-2acc459786c6"
   },
   "outputs": [],
   "source": [
    "# ANOVA statsmodels 사용\n"
   ]
  },
  {
   "cell_type": "code",
   "execution_count": null,
   "id": "iQHJgTk1nQ7P",
   "metadata": {
    "colab": {
     "base_uri": "https://localhost:8080/",
     "height": 265
    },
    "executionInfo": {
     "elapsed": 434,
     "status": "ok",
     "timestamp": 1671088149023,
     "user": {
      "displayName": "jinyang park",
      "userId": "06576046992691541404"
     },
     "user_tz": -540
    },
    "id": "iQHJgTk1nQ7P",
    "outputId": "48332a23-f390-443c-ae0f-91422606be1a"
   },
   "outputs": [],
   "source": [
    "# 시각화 box plot\n"
   ]
  },
  {
   "cell_type": "code",
   "execution_count": null,
   "id": "5HqJKr3pnRgN",
   "metadata": {
    "colab": {
     "base_uri": "https://localhost:8080/"
    },
    "executionInfo": {
     "elapsed": 404,
     "status": "ok",
     "timestamp": 1671088534684,
     "user": {
      "displayName": "jinyang park",
      "userId": "06576046992691541404"
     },
     "user_tz": -540
    },
    "id": "5HqJKr3pnRgN",
    "outputId": "eaecddfe-2709-4913-934b-eae1f6e28770"
   },
   "outputs": [],
   "source": [
    "# ANOVA 사후검정\n"
   ]
  },
  {
   "cell_type": "code",
   "execution_count": null,
   "id": "876b6733",
   "metadata": {},
   "outputs": [],
   "source": [
    "# grade별 연봉 평균\n",
    "# ANOVA scipy.stats 사용\n"
   ]
  },
  {
   "cell_type": "code",
   "execution_count": null,
   "id": "560779dd",
   "metadata": {},
   "outputs": [],
   "source": [
    "# pairwise_tukeyhsd 확인\n"
   ]
  },
  {
   "cell_type": "code",
   "execution_count": null,
   "id": "ee05748a",
   "metadata": {
    "scrolled": false
   },
   "outputs": [],
   "source": [
    "# ANOVA statsmodels 사용\n"
   ]
  },
  {
   "cell_type": "markdown",
   "id": "b2e68b3a",
   "metadata": {},
   "source": [
    "## Quiz 2\n",
    "\n",
    "1) 'setosa' , 'versicolor', 'virginica'의 sepal_length 평균이 같은지 가설을 수립하고 유의수준 0.05에서 검정하시오\n",
    "\n",
    "2) bike 데이터(bike.cvs)를 사용하여, 요일별 registered 평균이 같은지 가설을 수립하고 유의수준 0.05에서 검정하시오\n",
    "\n",
    "3) 평균이 같지 않을때, 평균이 유의수준 0.05에서 차이나지 않는 조합(False)은 몇 개인가 ? "
   ]
  },
  {
   "cell_type": "code",
   "execution_count": null,
   "id": "f33d097a",
   "metadata": {},
   "outputs": [],
   "source": [
    "# 파일 로딩 \n"
   ]
  },
  {
   "cell_type": "code",
   "execution_count": null,
   "id": "317b83a5",
   "metadata": {},
   "outputs": [],
   "source": [
    "# 가설검정\n",
    "# H0 :  'setosa' , 'versicolor', 'virginica'의 'sepal_length' 평균이 같다고 볼 수 있다 (유의수준 0.05)\n",
    "# H1 :  'setosa' , 'versicolor', 'virginica'의 'sepal_length' 평균이 셋 중 어느 하나는 다르다고 볼 수 있다 (유의수준 0.05)"
   ]
  },
  {
   "cell_type": "code",
   "execution_count": null,
   "id": "09722c67",
   "metadata": {},
   "outputs": [],
   "source": [
    "# ANOVA scipy.stats 사용\n"
   ]
  },
  {
   "cell_type": "code",
   "execution_count": null,
   "id": "9078dcd8",
   "metadata": {},
   "outputs": [],
   "source": [
    "# ANOVA statsmodels 사용\n"
   ]
  },
  {
   "cell_type": "code",
   "execution_count": null,
   "id": "a48b99ac",
   "metadata": {
    "scrolled": false
   },
   "outputs": [],
   "source": [
    "# ANOVA 사후검정\n"
   ]
  },
  {
   "cell_type": "markdown",
   "id": "baadac5b",
   "metadata": {},
   "source": [
    "## Quiz 3\n",
    "\n",
    "1) bike 데이터(bike.cvs)를 사용하여, 요일별 registered 평균이 같은지 가설을 수립하고 유의수준 0.05에서 검정하시오\n",
    "\n",
    "2) 평균이 같지 않을때, 평균이 유의수준 0.05에서 차이나지 않는 조합(False)은 몇 개인가 ? "
   ]
  },
  {
   "cell_type": "code",
   "execution_count": null,
   "id": "4a6abebf",
   "metadata": {},
   "outputs": [],
   "source": [
    "# 파일 로딩 \n"
   ]
  },
  {
   "cell_type": "code",
   "execution_count": null,
   "id": "7a4636e7",
   "metadata": {},
   "outputs": [],
   "source": [
    "# 요일변수 생성\n"
   ]
  },
  {
   "cell_type": "code",
   "execution_count": null,
   "id": "aba96acc",
   "metadata": {},
   "outputs": [],
   "source": [
    "# ANOVA statsmodels 사용\n",
    "\n",
    "from statsmodels.formula.api import ols\n",
    "from statsmodels.stats.anova import anova_lm\n"
   ]
  },
  {
   "cell_type": "code",
   "execution_count": null,
   "id": "190fbd2a",
   "metadata": {},
   "outputs": [],
   "source": [
    "# ANOVA 사후검정\n",
    "\n",
    "from statsmodels.stats.multicomp import pairwise_tukeyhsd\n"
   ]
  },
  {
   "cell_type": "markdown",
   "id": "3a5cedbc",
   "metadata": {
    "id": "3a5cedbc"
   },
   "source": [
    "## 상관분석"
   ]
  },
  {
   "cell_type": "code",
   "execution_count": null,
   "id": "f39d8781",
   "metadata": {
    "scrolled": true
   },
   "outputs": [],
   "source": [
    "# 파일 로딩\n"
   ]
  },
  {
   "cell_type": "code",
   "execution_count": null,
   "id": "d7c00fe1",
   "metadata": {},
   "outputs": [],
   "source": [
    "# Correlation analysis\n"
   ]
  },
  {
   "cell_type": "code",
   "execution_count": null,
   "id": "wno51XISqbYh",
   "metadata": {
    "id": "wno51XISqbYh"
   },
   "outputs": [],
   "source": [
    "# pearsonr, spearmanr, kendalltau"
   ]
  },
  {
   "cell_type": "code",
   "execution_count": null,
   "id": "Y7if1mGIr2CY",
   "metadata": {
    "colab": {
     "base_uri": "https://localhost:8080/"
    },
    "executionInfo": {
     "elapsed": 447,
     "status": "ok",
     "timestamp": 1671089321395,
     "user": {
      "displayName": "jinyang park",
      "userId": "06576046992691541404"
     },
     "user_tz": -540
    },
    "id": "Y7if1mGIr2CY",
    "outputId": "05bc7d4a-2758-419e-8404-a7cedcf0ee45"
   },
   "outputs": [],
   "source": [
    "# pearsonr\n"
   ]
  },
  {
   "cell_type": "code",
   "execution_count": null,
   "id": "m30J32eiq3dH",
   "metadata": {
    "colab": {
     "base_uri": "https://localhost:8080/"
    },
    "executionInfo": {
     "elapsed": 814,
     "status": "ok",
     "timestamp": 1671089078501,
     "user": {
      "displayName": "jinyang park",
      "userId": "06576046992691541404"
     },
     "user_tz": -540
    },
    "id": "m30J32eiq3dH",
    "outputId": "626ee05b-832e-4a36-aed8-67fbabe9bd8c"
   },
   "outputs": [],
   "source": [
    "# spearmanr\n"
   ]
  },
  {
   "cell_type": "code",
   "execution_count": null,
   "id": "0aLhk1hdq3ne",
   "metadata": {
    "colab": {
     "base_uri": "https://localhost:8080/"
    },
    "executionInfo": {
     "elapsed": 361,
     "status": "ok",
     "timestamp": 1671089074933,
     "user": {
      "displayName": "jinyang park",
      "userId": "06576046992691541404"
     },
     "user_tz": -540
    },
    "id": "0aLhk1hdq3ne",
    "outputId": "6a245f80-2cbc-4bee-9e6a-1297ac1dd0e5"
   },
   "outputs": [],
   "source": [
    "# kendalltau\n"
   ]
  },
  {
   "cell_type": "code",
   "execution_count": null,
   "id": "6ef0378f",
   "metadata": {
    "colab": {
     "base_uri": "https://localhost:8080/",
     "height": 297
    },
    "executionInfo": {
     "elapsed": 581,
     "status": "ok",
     "timestamp": 1671089135366,
     "user": {
      "displayName": "jinyang park",
      "userId": "06576046992691541404"
     },
     "user_tz": -540
    },
    "id": "6ef0378f",
    "outputId": "b3b500e6-a54e-4552-8f10-2fd5a68d922e",
    "scrolled": false
   },
   "outputs": [],
   "source": [
    "# scatterplot 시각화\n"
   ]
  },
  {
   "cell_type": "markdown",
   "id": "2277ce51",
   "metadata": {},
   "source": [
    "## Quiz 4\n",
    "\n",
    "bike 데이터(bike.cvs)를 사용하여\n",
    "\n",
    "1) temp, atemp, humidity, registered의 상관 계수중 가장 높은것은 ?\n",
    "\n",
    "2) season별로 자전거 총 대여 숫자(count)와의 상관분석을 실시하고 상관 계수가 가장 높은 계절을 구하시오 \n",
    "\n",
    "3) 날씨가 맑은날(weather = 1) 과 그렇지 않은날 온도(temp)와 자전거 대여 숫자(casual)의 상관계수의 절대값은 얼마인가 ?"
   ]
  },
  {
   "cell_type": "code",
   "execution_count": null,
   "id": "4fb455d3",
   "metadata": {
    "scrolled": true
   },
   "outputs": [],
   "source": [
    "# 파일 로딩 \n"
   ]
  },
  {
   "cell_type": "code",
   "execution_count": null,
   "id": "b1dc41a9",
   "metadata": {},
   "outputs": [],
   "source": [
    "# 1) temp, atemp, humidity, registered의 상관 계수중 가장 높은것은 ?\n"
   ]
  },
  {
   "cell_type": "code",
   "execution_count": null,
   "id": "5dd402cb",
   "metadata": {},
   "outputs": [],
   "source": [
    "# 2) season별로 atemp와 자전거 대여 숫자(casual)와의 상관분석을 실시하고 상관 계수가 가장 높은 계절을 구하시오\n"
   ]
  },
  {
   "cell_type": "code",
   "execution_count": null,
   "id": "aa3267c1",
   "metadata": {},
   "outputs": [],
   "source": [
    "# 3) 날씨가 맑은날(weather = 1) 과 그렇지 않은날 온도(temp)와 자전거 대여 숫자(casual)의 상관계수의 절대값은 얼마인가 ?\n"
   ]
  },
  {
   "cell_type": "markdown",
   "id": "9ed1430b",
   "metadata": {
    "id": "9ed1430b"
   },
   "source": [
    "## 카이스퀘어 검정\n",
    "\n",
    "$H_0:$ 두 변수는 서로 독립임 (연관이 없음)\n",
    "\n",
    "$H_1:$ 두 변수는 서로 독립이 아님 (연관이 있음)"
   ]
  },
  {
   "cell_type": "code",
   "execution_count": null,
   "id": "beb3b9e3",
   "metadata": {},
   "outputs": [],
   "source": [
    "# 파일 로딩"
   ]
  },
  {
   "cell_type": "code",
   "execution_count": null,
   "id": "44b94e60",
   "metadata": {
    "colab": {
     "base_uri": "https://localhost:8080/",
     "height": 143
    },
    "executionInfo": {
     "elapsed": 322,
     "status": "ok",
     "timestamp": 1671090083141,
     "user": {
      "displayName": "jinyang park",
      "userId": "06576046992691541404"
     },
     "user_tz": -540
    },
    "id": "44b94e60",
    "outputId": "13aad208-2d02-4aca-e8c9-69dcf80a0586",
    "scrolled": true
   },
   "outputs": [],
   "source": [
    "# chi-squared test 1"
   ]
  },
  {
   "cell_type": "code",
   "execution_count": null,
   "id": "cVQWOBgLuX9u",
   "metadata": {
    "colab": {
     "base_uri": "https://localhost:8080/"
    },
    "executionInfo": {
     "elapsed": 555,
     "status": "ok",
     "timestamp": 1671090133555,
     "user": {
      "displayName": "jinyang park",
      "userId": "06576046992691541404"
     },
     "user_tz": -540
    },
    "id": "cVQWOBgLuX9u",
    "outputId": "4bc3dba6-740e-4291-a108-a8e2ea564825",
    "scrolled": true
   },
   "outputs": [],
   "source": [
    "# chi2_contingency\n"
   ]
  },
  {
   "cell_type": "code",
   "execution_count": null,
   "id": "b74c541f",
   "metadata": {
    "colab": {
     "base_uri": "https://localhost:8080/",
     "height": 143
    },
    "executionInfo": {
     "elapsed": 322,
     "status": "ok",
     "timestamp": 1671090083141,
     "user": {
      "displayName": "jinyang park",
      "userId": "06576046992691541404"
     },
     "user_tz": -540
    },
    "id": "44b94e60",
    "outputId": "13aad208-2d02-4aca-e8c9-69dcf80a0586",
    "scrolled": true
   },
   "outputs": [],
   "source": [
    "# chi-squared test 2\n"
   ]
  },
  {
   "cell_type": "markdown",
   "id": "52d9d524",
   "metadata": {},
   "source": [
    "## Quiz 5\n",
    "\n",
    "bike 데이터(bike.cvs)를 사용하여\n",
    "\n",
    "1) season과 weather dtype을 문자형으로 변환하고 \n",
    "\n",
    "   두 변수가 관련있는지 적절한 검정을 하고 검정통계량과 p-value를 구하시오  \n",
    "\n",
    "2) 자전거 총 대여수(count)가 상위 30%일때 'high', 그 미만 일때 'low' 인 파생변수(count_high)를 생성하고\n",
    "   count_high와 workingday의 독립성 여부를 검정하고 검정 통계량을 구하시오 (소숫점 넷째자리 반올림하여 표기)"
   ]
  },
  {
   "cell_type": "code",
   "execution_count": null,
   "id": "189afad7",
   "metadata": {
    "scrolled": true
   },
   "outputs": [],
   "source": [
    "# 파일 로딩 \n"
   ]
  },
  {
   "cell_type": "code",
   "execution_count": null,
   "id": "2d4428d0",
   "metadata": {
    "scrolled": false
   },
   "outputs": [],
   "source": [
    "# 1) season과 weather dtype을 문자형으로 변환하고\n",
    "#    두 변수가 관련있는지 적절한 검정을 하고 검정통계량과 p-value를 구하시오\n"
   ]
  },
  {
   "cell_type": "code",
   "execution_count": null,
   "id": "9f49f628",
   "metadata": {
    "scrolled": true
   },
   "outputs": [],
   "source": [
    "# 2) 자전거 총 대여수(count)가 상위 30%일때 'high', 그 미만 일때 'low' 인 파생변수(count_high)를 생성하고\n",
    "#    count_high와 workingday의 연관성 여부를 검정하고 검정 통계량을 구하시오 (소숫점 넷째자리 반올림하여 표기)\n"
   ]
  },
  {
   "cell_type": "markdown",
   "id": "526bd9d1",
   "metadata": {},
   "source": [
    "## Quiz 6\n",
    "\n",
    "<br>교육 전문기관 분석팀에서는 교육 수강자의 정보를 바탕으로 진로설계 프로그램을 운영하기 위해 다음 정보를 수집하였다.\n",
    "<br>DS_Sample_2.csv (구분자: comma(“,”), 19,158 Rows, 15 Columns, UTF-8 인코딩)\n",
    "\n",
    "<br>분석을 수행하기 전, 상기 데이터를 이용하여 아래의 전처리를 수행하시오.\n",
    "\n",
    "<br>단계 1: 분석에 사용하지 않을 city, company_size, company_type 컬럼을 제거하시오.\n",
    "<br>단계 2: 각 문자형(String Type) 컬럼에 결측치(null/empty space)가 하나라도 존재하는 행(row)은 모두 제거하시오.\n",
    "<br>단계 3: experience 컬럼의 값이 ‘>20’ 또는 ‘<1’인 값을 제거하고 experience 컬럼의 타입을 정수형(Integer)으로 변환하시오.\n",
    "<br>단계 4: last_new_job 컬럼의 값이 ‘>4’ 또는 ‘never’인 값을 제거하고 last_new_job컬럼의 타입을 정수형(Integer)으로 변환하시오.\n",
    "\n",
    "<br>상기 전처리를 완료한 데이터셋(데이터셋명: job2, 7,522 Rows)을 이용하여 다음 문제에 답하시오.\n",
    "\n",
    "<br>(job2를 이용하여) ‘관련 분야 경험 여부(relevant_experience)’에 따른 ‘이직 희망 여부(target)’를 기술통계량으로 확인하고자 한다.\n",
    "<br>관련 분야 경험이 없는(relevant_experience=‘No relevant experience’) 수료자 중 이직을 희망(target=’1’)하는 수료자의 비율을 A,\n",
    "<br>관련 분야 경험이 있는(relevant_experience=’Has relevant experience’) 수료자 중 이직을 희망(target=’1’)하는 수료자의 비율을 B라 할때, A/B를 구하시오.\n",
    "-\t소수점 셋째 자리에서 반올림하여 소수점 둘째 자리까지 기술하시오.\n",
    "<br>(답안예시) 12.34\n"
   ]
  },
  {
   "cell_type": "code",
   "execution_count": null,
   "id": "8582d71c",
   "metadata": {},
   "outputs": [],
   "source": [
    "# 파일 로딩\n"
   ]
  },
  {
   "cell_type": "code",
   "execution_count": null,
   "id": "28e4b7b3",
   "metadata": {},
   "outputs": [],
   "source": [
    "# 단계 1: 분석에 사용하지 않을 city, company_size, company_type 컬럼을 제거하시오\n"
   ]
  },
  {
   "cell_type": "code",
   "execution_count": null,
   "id": "69079f34",
   "metadata": {},
   "outputs": [],
   "source": [
    "# 단계 2: 각 문자형(String Type) 컬럼에 결측치(null/empty space)가 하나라도 존재하는 행(row)은 모두 제거하시오.\n"
   ]
  },
  {
   "cell_type": "code",
   "execution_count": null,
   "id": "4c02cc9b",
   "metadata": {},
   "outputs": [],
   "source": [
    "# 단계 3: experience 컬럼의 값이 ‘>20’ 또는 ‘<1’인 값을 제거하고 experience 컬럼의 타입을 정수형(Integer)으로 변환하시오.\n"
   ]
  },
  {
   "cell_type": "code",
   "execution_count": null,
   "id": "174f1134",
   "metadata": {},
   "outputs": [],
   "source": [
    "# 단계 4: last_new_job 컬럼의 값이 ‘>4’ 또는 ‘never’인 값을 제거하고 last_new_job컬럼의 타입을 정수형(Integer)으로 변환하시오.\n"
   ]
  },
  {
   "cell_type": "code",
   "execution_count": null,
   "id": "b41655b7",
   "metadata": {},
   "outputs": [],
   "source": [
    "# No relevant experience 중 target = 1 을 A,\n",
    "# Has relevant experience 중 target = 1 을 B라 할때, A/B를 구하시오\n"
   ]
  },
  {
   "cell_type": "code",
   "execution_count": null,
   "id": "63baa80c",
   "metadata": {},
   "outputs": [],
   "source": []
  }
 ],
 "metadata": {
  "colab": {
   "provenance": [
    {
     "file_id": "1JCIWRPQ6yvopC-0wzFMsykN_2iEQbRI8",
     "timestamp": 1671083690777
    },
    {
     "file_id": "18qobvw6GMkmHwAdy8Ih613266g0cGRiC",
     "timestamp": 1670384944774
    }
   ]
  },
  "kernelspec": {
   "display_name": "Python 3 (ipykernel)",
   "language": "python",
   "name": "python3"
  },
  "language_info": {
   "codemirror_mode": {
    "name": "ipython",
    "version": 3
   },
   "file_extension": ".py",
   "mimetype": "text/x-python",
   "name": "python",
   "nbconvert_exporter": "python",
   "pygments_lexer": "ipython3",
   "version": "3.10.6"
  }
 },
 "nbformat": 4,
 "nbformat_minor": 5
}
