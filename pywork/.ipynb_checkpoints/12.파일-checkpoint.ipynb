{
 "cells": [
  {
   "cell_type": "markdown",
   "id": "45def6c8",
   "metadata": {},
   "source": [
    "# 1. 파일"
   ]
  },
  {
   "cell_type": "markdown",
   "id": "2572366f",
   "metadata": {},
   "source": [
    "# 1) 파일 입력"
   ]
  },
  {
   "cell_type": "code",
   "execution_count": 1,
   "id": "d59d2830",
   "metadata": {},
   "outputs": [],
   "source": [
    "f = open(\"files.txt\", \"w\")\n",
    "\n",
    "f.write(\"1번 라인입니다\\n\")\n",
    "f.write(\"2번 라인입니다\\n\")\n",
    "f.write(\"3번 라인입니다\\n\")\n",
    "\n",
    "f.close()"
   ]
  },
  {
   "cell_type": "markdown",
   "id": "5e411da6",
   "metadata": {},
   "source": [
    "# 2)파일 읽기"
   ]
  },
  {
   "cell_type": "code",
   "execution_count": 21,
   "id": "463d563b",
   "metadata": {},
   "outputs": [
    {
     "name": "stdout",
     "output_type": "stream",
     "text": [
      "1번 라인입니다\n",
      "2번 라인입니다\n",
      "3번 라인입니다\n",
      "4번 라인입니다.\n",
      "5번 라인입니다.\n",
      "\n",
      "<class 'str'>\n"
     ]
    }
   ],
   "source": [
    "f = open(\"files.txt\",\"r\")\n",
    "\n",
    "a = f.read()\n",
    "\n",
    "f.close()\n",
    "\n",
    "print(a)\n",
    "print(type(a))"
   ]
  },
  {
   "cell_type": "code",
   "execution_count": 22,
   "id": "ca3283d7",
   "metadata": {},
   "outputs": [
    {
     "name": "stdout",
     "output_type": "stream",
     "text": [
      "1번 라인입니다\n",
      " 2번 라인입니다\n",
      " 3번 라인입니다\n",
      "\n",
      "1번 라인입니다\n",
      "\n",
      "2번 라인입니다\n",
      "\n",
      "3번 라인입니다\n",
      "\n",
      "<class 'str'>\n"
     ]
    }
   ],
   "source": [
    "f = open(\"files.txt\",\"r\")\n",
    "\n",
    "a = f.readline()\n",
    "b = f.readline()\n",
    "c = f.readline()\n",
    "\n",
    "print(a,b,c)\n",
    "\n",
    "print(a)\n",
    "print(b)\n",
    "print(c)\n",
    "\n",
    "print(type(a))\n",
    "\n",
    "f.close()"
   ]
  },
  {
   "cell_type": "code",
   "execution_count": 23,
   "id": "66dc3955",
   "metadata": {},
   "outputs": [
    {
     "name": "stdout",
     "output_type": "stream",
     "text": [
      "['1번 라인입니다\\n', '2번 라인입니다\\n', '3번 라인입니다\\n', '4번 라인입니다.\\n', '5번 라인입니다.\\n']\n",
      "<class 'list'>\n"
     ]
    }
   ],
   "source": [
    "f = open(\"files.txt\",\"r\")\n",
    "\n",
    "lines = f.readlines()\n",
    "\n",
    "f.close\n",
    "\n",
    "print(lines)\n",
    "print(type(lines))"
   ]
  },
  {
   "cell_type": "markdown",
   "id": "24b039b6",
   "metadata": {},
   "source": [
    "# 3) 내용 추가"
   ]
  },
  {
   "cell_type": "code",
   "execution_count": 37,
   "id": "e6a097b1",
   "metadata": {},
   "outputs": [],
   "source": [
    "f = open(\"files.txt\",\"a\")\n",
    "\n",
    "f.write(\"4번 라인입니다.\\n\")\n",
    "f.write(\"5번 라인입니다.\\n\")\n",
    "\n",
    "f.close()"
   ]
  },
  {
   "cell_type": "markdown",
   "id": "e57d2e20",
   "metadata": {},
   "source": [
    "# 4) with 구문"
   ]
  },
  {
   "cell_type": "code",
   "execution_count": 34,
   "id": "b16a84fe",
   "metadata": {},
   "outputs": [],
   "source": [
    "with open(\"files.txt\", \"a\") as f:\n",
    "    f.write(\"with구문으로 파일 자동 close함\\n\")"
   ]
  },
  {
   "cell_type": "markdown",
   "id": "5294043c",
   "metadata": {},
   "source": [
    "# 2. 파일 관리"
   ]
  },
  {
   "cell_type": "markdown",
   "id": "8df0b7d0",
   "metadata": {},
   "source": [
    "# 1) 파일 관리"
   ]
  },
  {
   "cell_type": "code",
   "execution_count": 2,
   "id": "b2340b5c",
   "metadata": {},
   "outputs": [
    {
     "data": {
      "text/plain": [
       "'files_move.txt'"
      ]
     },
     "execution_count": 2,
     "metadata": {},
     "output_type": "execute_result"
    }
   ],
   "source": [
    "import shutil\n",
    "\n",
    "shutil.copy(\"files.txt\", \"files_copy.txt\")\n",
    "shutil.move(\"files.txt\", \"files_move.txt\")"
   ]
  },
  {
   "cell_type": "code",
   "execution_count": 3,
   "id": "28d49711",
   "metadata": {},
   "outputs": [
    {
     "data": {
      "text/plain": [
       "'C:\\\\KDTWork\\\\pywork'"
      ]
     },
     "execution_count": 3,
     "metadata": {},
     "output_type": "execute_result"
    }
   ],
   "source": [
    "import os\n",
    "\n",
    "os.getcwd()"
   ]
  },
  {
   "cell_type": "code",
   "execution_count": 5,
   "id": "ba714780",
   "metadata": {},
   "outputs": [
    {
     "data": {
      "text/plain": [
       "['.ipynb_checkpoints',\n",
       " '02.변수.ipynb',\n",
       " '03.자료형.ipynb',\n",
       " '04.연산자.ipynb',\n",
       " '05.문자열.ipynb',\n",
       " '06.리스트,튜플.ipynb',\n",
       " '07.딕셔너리, 집합, 부울.ipynb',\n",
       " '08. 컬렉션 관리.ipynb',\n",
       " '09.조건문.ipynb',\n",
       " '10.반복문.ipynb',\n",
       " '11.함수.ipynb',\n",
       " '12.파일.ipynb',\n",
       " '2일차(12.29).txt',\n",
       " 'files_copy.txt',\n",
       " 'files_move.txt',\n",
       " 'python 실습코드 2일차 (12.29일).zip',\n",
       " 'python 실습코드 3일차 (12.30일).zip',\n",
       " 'python 참고 사이트.txt',\n",
       " 'test file.txt',\n",
       " 'test.py',\n",
       " 'untitled']"
      ]
     },
     "execution_count": 5,
     "metadata": {},
     "output_type": "execute_result"
    }
   ],
   "source": [
    "os.listdir()"
   ]
  },
  {
   "cell_type": "code",
   "execution_count": null,
   "id": "9aae2df7",
   "metadata": {
    "collapsed": true
   },
   "outputs": [],
   "source": []
  }
 ],
 "metadata": {
  "kernelspec": {
   "display_name": "Python 3 (ipykernel)",
   "language": "python",
   "name": "python3"
  },
  "language_info": {
   "codemirror_mode": {
    "name": "ipython",
    "version": 3
   },
   "file_extension": ".py",
   "mimetype": "text/x-python",
   "name": "python",
   "nbconvert_exporter": "python",
   "pygments_lexer": "ipython3",
   "version": "3.10.6"
  }
 },
 "nbformat": 4,
 "nbformat_minor": 5
}
