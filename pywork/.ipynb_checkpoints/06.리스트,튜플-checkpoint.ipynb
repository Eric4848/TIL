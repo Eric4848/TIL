{
 "cells": [
  {
   "cell_type": "markdown",
   "id": "8a9f244e",
   "metadata": {},
   "source": [
    "# 1. 리스트"
   ]
  },
  {
   "cell_type": "markdown",
   "id": "4b98fb20",
   "metadata": {},
   "source": [
    "# 1) 리스트 생성"
   ]
  },
  {
   "cell_type": "code",
   "execution_count": 1,
   "id": "e069a32b",
   "metadata": {},
   "outputs": [
    {
     "name": "stdout",
     "output_type": "stream",
     "text": [
      "<class 'list'>\n",
      "list[1, 2, 3, 'yellow', True, 4]\n"
     ]
    }
   ],
   "source": [
    "a = list\n",
    "b = list [1, 2, 3, \"yellow\", True , 4]\n",
    "\n",
    "c = list[1234]\n",
    "\n",
    "print(a)\n",
    "print(b)"
   ]
  },
  {
   "cell_type": "markdown",
   "id": "5ca7d562",
   "metadata": {},
   "source": [
    "# 2) 인덱싱 / 슬라이싱"
   ]
  },
  {
   "cell_type": "code",
   "execution_count": 2,
   "id": "5f8f9b3f",
   "metadata": {
    "scrolled": true
   },
   "outputs": [
    {
     "name": "stdout",
     "output_type": "stream",
     "text": [
      "1\n",
      "9\n",
      "3\n",
      "[1, 2, 3]\n",
      "[2, 3, 4, 5, 6, 7, 8, 9]\n",
      "[3, 4, 5, 6]\n",
      "[1, 2, 3, 4, 5, 6, 7, 8, 9]\n",
      "[8, 9]\n",
      "[8, 7]\n"
     ]
    }
   ],
   "source": [
    "a = [1, 2, 3, 4, 5, 6, 7, 8, 9]\n",
    "\n",
    "print(a[0])\n",
    "print(a[-1])\n",
    "print(a[2])\n",
    "print(a[:3])\n",
    "print(a[1:])\n",
    "print(a[2:6])\n",
    "print(a[::])\n",
    "print(a[-2:])\n",
    "print(a[-2:-4:-1])"
   ]
  },
  {
   "cell_type": "markdown",
   "id": "eaf1f699",
   "metadata": {},
   "source": [
    "# 3) 변경 / 삭제"
   ]
  },
  {
   "cell_type": "code",
   "execution_count": 24,
   "id": "dc74b5ba",
   "metadata": {},
   "outputs": [
    {
     "name": "stdout",
     "output_type": "stream",
     "text": [
      "20\n",
      "[10, 100, 'AB', 40, 3.14, 60]\n"
     ]
    }
   ],
   "source": [
    "#변경\n",
    "points = [10, 20, \"AB\", 40, 3.14, 60]\n",
    "\n",
    "print(points[1])\n",
    "points[1] = 100\n",
    "print(points)"
   ]
  },
  {
   "cell_type": "code",
   "execution_count": 25,
   "id": "06a99712",
   "metadata": {},
   "outputs": [
    {
     "name": "stdout",
     "output_type": "stream",
     "text": [
      "[10, 100, 'AB', 1, 5, 60]\n",
      "[10, 100, 'AB', 1000, 2000, 3000, 5, 60]\n"
     ]
    }
   ],
   "source": [
    "#삽입\n",
    "points[3:5] = [1, 5]\n",
    "print(points)\n",
    "\n",
    "points[3:4] = [1000, 2000, 3000]\n",
    "print(points)"
   ]
  },
  {
   "cell_type": "code",
   "execution_count": 4,
   "id": "13f1c61e",
   "metadata": {},
   "outputs": [
    {
     "name": "stdout",
     "output_type": "stream",
     "text": [
      "[10, [], 'AB', 40, 3.14, 60]\n",
      "[10, 'AB', 40, 3.14, 60]\n",
      "[10, 3.14, 60]\n"
     ]
    }
   ],
   "source": [
    "#삭제\n",
    "points = [10, 20, \"AB\", 40, 3.14, 60]\n",
    "\n",
    "points[1] = []\n",
    "print(points)\n",
    "\n",
    "points[1:2] = []\n",
    "print(points)\n",
    "\n",
    "points[1:3] = []\n",
    "print(points)"
   ]
  },
  {
   "cell_type": "markdown",
   "id": "0554ae4c",
   "metadata": {},
   "source": [
    "# 4) 리스트 연결"
   ]
  },
  {
   "cell_type": "code",
   "execution_count": 5,
   "id": "75e4deb8",
   "metadata": {},
   "outputs": [
    {
     "name": "stdout",
     "output_type": "stream",
     "text": [
      "[1, 2, 3, 4, 5, 6, 7, 8, 9, 10]\n"
     ]
    }
   ],
   "source": [
    "points1 = [1, 2, 3, 4, 5]\n",
    "points2 = [6, 7, 8, 9, 10]\n",
    "\n",
    "points = points1 + points2\n",
    "print(points)"
   ]
  },
  {
   "cell_type": "markdown",
   "id": "a477b99c",
   "metadata": {},
   "source": [
    "# 5) 이중 리스트"
   ]
  },
  {
   "cell_type": "code",
   "execution_count": 6,
   "id": "50514cfb",
   "metadata": {},
   "outputs": [
    {
     "name": "stdout",
     "output_type": "stream",
     "text": [
      "[10, 20, [31, 32, 33], 40, ['a', 'b', 'c'], 50, 60]\n",
      "10 20 [31, 32, 33] 40 ['a', 'b', 'c'] 50 60\n"
     ]
    }
   ],
   "source": [
    "points = [10, 20, [31, 32, 33], 40, [\"a\", \"b\", \"c\"], 50, 60]\n",
    "print(points)\n",
    "\n",
    "print(points[0], points[1], points[2], points[3], points[4], points[5], points[6])"
   ]
  },
  {
   "cell_type": "code",
   "execution_count": 7,
   "id": "283d43b1",
   "metadata": {},
   "outputs": [
    {
     "name": "stdout",
     "output_type": "stream",
     "text": [
      "31 32 33\n",
      "a b c\n"
     ]
    }
   ],
   "source": [
    "print(points[2][0], points[2][1], points[2][2])\n",
    "print(points[4][0], points[4][1], points[4][2])"
   ]
  },
  {
   "cell_type": "code",
   "execution_count": 8,
   "id": "b3d439a7",
   "metadata": {},
   "outputs": [
    {
     "name": "stdout",
     "output_type": "stream",
     "text": [
      "2\n",
      "b\n",
      "300\n"
     ]
    }
   ],
   "source": [
    "a = [1, 2, 3, [\"a\", \"b\", [100, 200, 300]],\"hello\", \"python\"]\n",
    "print(a[1])\n",
    "print(a[3][1])\n",
    "print(a[3][2][2])"
   ]
  },
  {
   "cell_type": "markdown",
   "id": "fab96639",
   "metadata": {},
   "source": [
    "# 6) 리스트 컴프리헨션"
   ]
  },
  {
   "cell_type": "code",
   "execution_count": 9,
   "id": "5efc5fd7",
   "metadata": {},
   "outputs": [
    {
     "name": "stdout",
     "output_type": "stream",
     "text": [
      "[10, 20, 30, 40, 50, 60, 70, 80, 90, 100]\n",
      "[10, 20, 30, 40, 50, 60, 70, 80, 90, 100]\n",
      "[60, 70, 80, 90, 100]\n",
      "[120, 140, 160, 180, 200]\n"
     ]
    }
   ],
   "source": [
    "points = [10, 20, 30, 40, 50, 60, 70, 80, 90, 100]\n",
    "print(points)\n",
    "\n",
    "print([item for item in points])\n",
    "print([item for item in points if item>=60])\n",
    "print([item*2 for item in points if item>=60])"
   ]
  },
  {
   "cell_type": "markdown",
   "id": "a9076b18",
   "metadata": {},
   "source": [
    "# 7) 리스트 메소드"
   ]
  },
  {
   "cell_type": "code",
   "execution_count": 10,
   "id": "8ec93bc5",
   "metadata": {},
   "outputs": [
    {
     "name": "stdout",
     "output_type": "stream",
     "text": [
      "[1, 2, 3, 4, 5, 11]\n",
      "[1, 2, 3, 4, 5, 100, 11]\n",
      "[1, 2, 3, 4, 5, 100, 11, 'a', 'b', 'c']\n",
      "[1, 2, 3, 4, 5, 100, 11]\n",
      "[1, 2, 3, 4, 5, 100, 11, 'a', 'b', 'c']\n"
     ]
    }
   ],
   "source": [
    "#추가 append, insert, extend\n",
    "\n",
    "a = [1, 2, 3, 4, 5]\n",
    "a.append(11)\n",
    "print(a)\n",
    "\n",
    "a.insert(5,100)\n",
    "print(a)\n",
    "\n",
    "b = [\"a\", \"b\", \"c\"]\n",
    "print(a+b)\n",
    "print(a)\n",
    "a.extend(b)\n",
    "print(a)"
   ]
  },
  {
   "cell_type": "code",
   "execution_count": 11,
   "id": "3a8d8b01",
   "metadata": {},
   "outputs": [
    {
     "name": "stdout",
     "output_type": "stream",
     "text": [
      "['b', 'c', 'd', 'e', 'f', 'g', 'h', 'i', 'j', 'a', 'b', 'c']\n",
      "['b', 'c', 'e', 'f', 'g', 'h', 'i', 'j', 'a', 'b', 'c']\n",
      "['b', 'c', 'e', 'g', 'h', 'i', 'j', 'a', 'b', 'c']\n",
      "['b', 'c', 'e', 'j', 'a', 'b', 'c']\n",
      "['b', 'c', 'e', 'j', 'a', 'b', 'c']\n"
     ]
    }
   ],
   "source": [
    "#삭제 remove, pop, del, clear\n",
    "\n",
    "a = [\"a\", \"b\", \"c\", \"d\", \"e\", \"f\", \"g\", \"h\", \"i\", \"j\", \"a\", \"b\", \"c\"]\n",
    "\n",
    "a.remove(\"a\")\n",
    "print(a)\n",
    "\n",
    "a.pop(2)\n",
    "print(a)\n",
    "\n",
    "del(a[3:4])\n",
    "print(a)\n",
    "\n",
    "del(a[3:6])\n",
    "print(a)\n",
    "\n",
    "a.clear\n",
    "print(a)"
   ]
  },
  {
   "cell_type": "markdown",
   "id": "16389404",
   "metadata": {},
   "source": [
    "# 8) 검색"
   ]
  },
  {
   "cell_type": "code",
   "execution_count": 12,
   "id": "2fe57361",
   "metadata": {},
   "outputs": [
    {
     "name": "stdout",
     "output_type": "stream",
     "text": [
      "1\n",
      "11\n",
      "2\n",
      "13\n"
     ]
    }
   ],
   "source": [
    "a = [\"a\", \"b\", \"c\", \"d\", \"e\", \"f\", \"g\", \"h\", \"i\", \"j\", \"a\", \"b\", \"c\"]\n",
    "\n",
    "print(a.index(\"b\"))\n",
    "print(a.index(\"b\",3))#3 이후의 값\n",
    "print(a.count(\"b\"))\n",
    "\n",
    "print(len(a))"
   ]
  },
  {
   "cell_type": "code",
   "execution_count": 13,
   "id": "ad96bdfa",
   "metadata": {},
   "outputs": [
    {
     "name": "stdout",
     "output_type": "stream",
     "text": [
      "1\n",
      "63\n",
      "False\n",
      "True\n"
     ]
    }
   ],
   "source": [
    "b = [1, 2, 3, 4, 5, 6, 13, 63, 7, 47, 8, 26, 9]\n",
    "\n",
    "print(min(b))\n",
    "\n",
    "print(max(b))\n",
    "\n",
    "print(42 in b)\n",
    "print(\"a\" in a)"
   ]
  },
  {
   "cell_type": "markdown",
   "id": "e91a8bdf",
   "metadata": {},
   "source": [
    "# 9) 정렬"
   ]
  },
  {
   "cell_type": "code",
   "execution_count": 14,
   "id": "e86502cd",
   "metadata": {},
   "outputs": [
    {
     "name": "stdout",
     "output_type": "stream",
     "text": [
      "['a', 'a', 'b', 'b', 'c', 'c', 'd', 'e', 'f', 'g', 'h', 'i', 'j']\n",
      "['j', 'i', 'h', 'g', 'f', 'e', 'd', 'c', 'c', 'b', 'b', 'a', 'a']\n"
     ]
    }
   ],
   "source": [
    "#sort 원본 수정\n",
    "a = [\"a\", \"b\", \"c\", \"d\", \"e\", \"f\", \"g\", \"h\", \"i\", \"j\", \"a\", \"b\", \"c\"]\n",
    "\n",
    "a.sort()\n",
    "print(a)\n",
    "\n",
    "a.sort(reverse = True)\n",
    "print(a)"
   ]
  },
  {
   "cell_type": "code",
   "execution_count": 15,
   "id": "5af71d26",
   "metadata": {},
   "outputs": [
    {
     "name": "stdout",
     "output_type": "stream",
     "text": [
      "['c', 'b', 'a', 'j', 'i', 'h', 'g', 'f', 'e', 'd', 'c', 'b', 'a']\n"
     ]
    }
   ],
   "source": [
    "#reverse\n",
    "a = [\"a\", \"b\", \"c\", \"d\", \"e\", \"f\", \"g\", \"h\", \"i\", \"j\", \"a\", \"b\", \"c\"]\n",
    "\n",
    "a.reverse()\n",
    "print(a)"
   ]
  },
  {
   "cell_type": "code",
   "execution_count": 16,
   "id": "67f78993",
   "metadata": {},
   "outputs": [
    {
     "name": "stdout",
     "output_type": "stream",
     "text": [
      "['a', 'b', 'c', 'd', 'e', 'f', 'g', 'h', 'i', 'j', 'a', 'b', 'c']\n",
      "['a', 'a', 'b', 'b', 'c', 'c', 'd', 'e', 'f', 'g', 'h', 'i', 'j']\n",
      "['j', 'i', 'h', 'g', 'f', 'e', 'd', 'c', 'c', 'b', 'b', 'a', 'a']\n"
     ]
    }
   ],
   "source": [
    "#sorted 원본 유지\n",
    "a = [\"a\", \"b\", \"c\", \"d\", \"e\", \"f\", \"g\", \"h\", \"i\", \"j\", \"a\", \"b\", \"c\"]\n",
    "\n",
    "b = sorted(a)\n",
    "c = sorted(a, reverse = True)\n",
    "print(a)\n",
    "print(b)\n",
    "print(c)"
   ]
  },
  {
   "cell_type": "markdown",
   "id": "b759a017",
   "metadata": {},
   "source": [
    "# 2. 튜플"
   ]
  },
  {
   "cell_type": "markdown",
   "id": "d91f4e4b",
   "metadata": {},
   "source": [
    "# 1) 튜플 생성"
   ]
  },
  {
   "cell_type": "code",
   "execution_count": 17,
   "id": "001e7d02",
   "metadata": {},
   "outputs": [
    {
     "name": "stdout",
     "output_type": "stream",
     "text": [
      "()\n",
      "()\n",
      "(1,)\n",
      "('a', 'b', 'c')\n",
      "<class 'tuple'>\n",
      "<class 'tuple'>\n",
      "<class 'tuple'>\n",
      "<class 'tuple'>\n"
     ]
    }
   ],
   "source": [
    "a = ()\n",
    "b = tuple()\n",
    "c = (1,)\n",
    "d = (\"a\", \"b\", \"c\")\n",
    "\n",
    "print(a)\n",
    "print(b)\n",
    "print(c)\n",
    "print(d)\n",
    "\n",
    "print(type(a))\n",
    "print(type(b))\n",
    "print(type(c))\n",
    "print(type(d))"
   ]
  },
  {
   "cell_type": "markdown",
   "id": "c8471cc1",
   "metadata": {},
   "source": [
    "# 2) 튜플로 가능한 작업"
   ]
  },
  {
   "cell_type": "code",
   "execution_count": 18,
   "id": "c33e218e",
   "metadata": {},
   "outputs": [
    {
     "name": "stdout",
     "output_type": "stream",
     "text": [
      "(1, 2, 3, 4, 5, 6)\n",
      "(1, 2, 3, 1, 2, 3)\n"
     ]
    }
   ],
   "source": [
    "#\n",
    "a = (1,2,3)\n",
    "b = (4,5,6)\n",
    "\n",
    "print(a+b)\n",
    "print(a*2)"
   ]
  },
  {
   "cell_type": "code",
   "execution_count": 19,
   "id": "a1f49e54",
   "metadata": {},
   "outputs": [
    {
     "name": "stdout",
     "output_type": "stream",
     "text": [
      "<class 'tuple'>\n",
      "(1, 2, 3)\n",
      "1 2 3\n",
      "<class 'int'>\n",
      "3 2 1\n"
     ]
    }
   ],
   "source": [
    "num = 1, 2, 3\n",
    "\n",
    "print(type(num))\n",
    "print(num)\n",
    "\n",
    "a, b, c = num\n",
    "\n",
    "print(a, b, c)\n",
    "print(type(a))\n",
    "a, c = c, a\n",
    "print(a, b, c)"
   ]
  },
  {
   "cell_type": "code",
   "execution_count": 20,
   "id": "f2858a0b",
   "metadata": {},
   "outputs": [
    {
     "name": "stdout",
     "output_type": "stream",
     "text": [
      "(1, 2, 3)\n"
     ]
    },
    {
     "ename": "TypeError",
     "evalue": "'tuple' object does not support item assignment",
     "output_type": "error",
     "traceback": [
      "\u001b[1;31m---------------------------------------------------------------------------\u001b[0m",
      "\u001b[1;31mTypeError\u001b[0m                                 Traceback (most recent call last)",
      "Cell \u001b[1;32mIn[20], line 3\u001b[0m\n\u001b[0;32m      1\u001b[0m \u001b[38;5;66;03m#튜플은 값 변경 불가\u001b[39;00m\n\u001b[0;32m      2\u001b[0m \u001b[38;5;28mprint\u001b[39m(num)\n\u001b[1;32m----> 3\u001b[0m \u001b[43mnum\u001b[49m\u001b[43m[\u001b[49m\u001b[38;5;241;43m2\u001b[39;49m\u001b[43m]\u001b[49m \u001b[38;5;241m=\u001b[39m \u001b[38;5;241m4\u001b[39m\n",
      "\u001b[1;31mTypeError\u001b[0m: 'tuple' object does not support item assignment"
     ]
    }
   ],
   "source": [
    "#튜플은 값 변경 불가\n",
    "print(num)\n",
    "num[2] = 4"
   ]
  },
  {
   "cell_type": "code",
   "execution_count": 21,
   "id": "60a63561",
   "metadata": {},
   "outputs": [
    {
     "name": "stdout",
     "output_type": "stream",
     "text": [
      "(30, -10, 200, 0.5)\n",
      "30 -10 200 0.5\n"
     ]
    }
   ],
   "source": [
    "def calc(a, b):\n",
    "    return a + b, a - b, a * b, a / b\n",
    "\n",
    "print(calc(10,20))# 튜플로 반환\n",
    "a, b, c, d = calc(10,20)\n",
    "print(a, b, c, d)"
   ]
  },
  {
   "cell_type": "markdown",
   "id": "e5b9ea44",
   "metadata": {},
   "source": [
    "# 3) 튜플 메소드"
   ]
  },
  {
   "cell_type": "code",
   "execution_count": 22,
   "id": "d6e25d21",
   "metadata": {
    "scrolled": true
   },
   "outputs": [
    {
     "name": "stdout",
     "output_type": "stream",
     "text": [
      "1\n",
      "11\n",
      "2\n",
      "13\n"
     ]
    }
   ],
   "source": [
    "a = (\"a\", \"b\", \"c\", \"d\", \"e\", \"f\", \"g\", \"h\", \"i\", \"j\", \"a\", \"b\", \"c\")\n",
    "\n",
    "print(a.index(\"b\"))\n",
    "print(a.index(\"b\",3))\n",
    "print(a.count(\"b\"))\n",
    "\n",
    "print(len(a))"
   ]
  },
  {
   "cell_type": "code",
   "execution_count": 23,
   "id": "052fcf8a",
   "metadata": {},
   "outputs": [
    {
     "name": "stdout",
     "output_type": "stream",
     "text": [
      "1\n",
      "63\n",
      "False\n",
      "True\n"
     ]
    }
   ],
   "source": [
    "b = (1, 2, 3, 4, 5, 6, 13, 63, 7, 47, 8, 26, 9)\n",
    "\n",
    "print(min(b))\n",
    "\n",
    "print(max(b))\n",
    "\n",
    "print(42 in b)\n",
    "print(\"a\" in a)"
   ]
  }
 ],
 "metadata": {
  "kernelspec": {
   "display_name": "Python 3 (ipykernel)",
   "language": "python",
   "name": "python3"
  },
  "language_info": {
   "codemirror_mode": {
    "name": "ipython",
    "version": 3
   },
   "file_extension": ".py",
   "mimetype": "text/x-python",
   "name": "python",
   "nbconvert_exporter": "python",
   "pygments_lexer": "ipython3",
   "version": "3.10.6"
  }
 },
 "nbformat": 4,
 "nbformat_minor": 5
}
