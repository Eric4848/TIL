{
 "cells": [
  {
   "cell_type": "markdown",
   "id": "b1223e61",
   "metadata": {},
   "source": [
    "# 1)소스 작성 규칙"
   ]
  },
  {
   "cell_type": "code",
   "execution_count": 13,
   "id": "fd77ce60",
   "metadata": {},
   "outputs": [
    {
     "name": "stdout",
     "output_type": "stream",
     "text": [
      "a는 5보다 큽니다\n"
     ]
    }
   ],
   "source": [
    "a = 10\n",
    "\n",
    "if a>5:\n",
    "    print(\"a는 5보다 큽니다\")\n",
    "else:\n",
    "    print(\"a는 5보다 작거나 같습니다\")"
   ]
  },
  {
   "cell_type": "markdown",
   "id": "a3c28fe0",
   "metadata": {},
   "source": [
    "# 2)print()"
   ]
  },
  {
   "cell_type": "code",
   "execution_count": 14,
   "id": "83be0d35",
   "metadata": {},
   "outputs": [
    {
     "name": "stdout",
     "output_type": "stream",
     "text": [
      "3*5\n"
     ]
    }
   ],
   "source": [
    "print(\"3*5\")"
   ]
  },
  {
   "cell_type": "code",
   "execution_count": 15,
   "id": "1f96e665",
   "metadata": {},
   "outputs": [
    {
     "name": "stdout",
     "output_type": "stream",
     "text": [
      "15\n"
     ]
    }
   ],
   "source": [
    "print(3*5)"
   ]
  },
  {
   "cell_type": "code",
   "execution_count": 28,
   "id": "c33a6625",
   "metadata": {},
   "outputs": [
    {
     "name": "stdout",
     "output_type": "stream",
     "text": [
      "Pythonispowerful\n",
      "Pythonispowerful\n"
     ]
    }
   ],
   "source": [
    "print(\"Python\" \"is\" \"powerful\")\n",
    "print(\"Python\" + \"is\" + \"powerful\")"
   ]
  },
  {
   "cell_type": "code",
   "execution_count": 29,
   "id": "aa133eb8",
   "metadata": {},
   "outputs": [
    {
     "name": "stdout",
     "output_type": "stream",
     "text": [
      "Python is powerful\n",
      "Python;is;powerful\n"
     ]
    }
   ],
   "source": [
    "print(\"Python\", \"is\", \"powerful\")\n",
    "print(\"Python\", \"is\", \"powerful\",sep=\";\")"
   ]
  },
  {
   "cell_type": "code",
   "execution_count": 30,
   "id": "8a96786a",
   "metadata": {},
   "outputs": [
    {
     "name": "stdout",
     "output_type": "stream",
     "text": [
      "Python is powerful;Python is powerful;"
     ]
    }
   ],
   "source": [
    "print(\"Python\", \"is\", \"powerful\",end=\";\")\n",
    "print(\"Python\", \"is\", \"powerful\",end=\";\")"
   ]
  },
  {
   "cell_type": "markdown",
   "id": "b7b8a5ca",
   "metadata": {},
   "source": [
    "# 3)input()"
   ]
  },
  {
   "cell_type": "code",
   "execution_count": 32,
   "id": "e5a2df04",
   "metadata": {
    "scrolled": true
   },
   "outputs": [
    {
     "name": "stdout",
     "output_type": "stream",
     "text": [
      "이름을 입력하세요 : 하정수\n",
      "하정수\n"
     ]
    }
   ],
   "source": [
    "name = input(\"이름을 입력하세요 : \")\n",
    "print (name)"
   ]
  },
  {
   "cell_type": "code",
   "execution_count": 34,
   "id": "20109069",
   "metadata": {},
   "outputs": [
    {
     "name": "stdout",
     "output_type": "stream",
     "text": [
      "나이를 입력하세요 : 30\n",
      "30\n"
     ]
    }
   ],
   "source": [
    "age = input(\"나이를 입력하세요 : \")\n",
    "print(age)"
   ]
  },
  {
   "cell_type": "code",
   "execution_count": 37,
   "id": "73e3f226",
   "metadata": {},
   "outputs": [
    {
     "name": "stdout",
     "output_type": "stream",
     "text": [
      "나이를 입력하세요 : 30\n",
      "80\n"
     ]
    }
   ],
   "source": [
    "age = int(input(\"나이를 입력하세요 : \"))\n",
    "age+=50\n",
    "print(age)"
   ]
  },
  {
   "cell_type": "markdown",
   "id": "b8ec7200",
   "metadata": {},
   "source": [
    "# 4)변수"
   ]
  },
  {
   "cell_type": "code",
   "execution_count": 39,
   "id": "f616aba1",
   "metadata": {},
   "outputs": [
    {
     "name": "stdout",
     "output_type": "stream",
     "text": [
      "30\n"
     ]
    }
   ],
   "source": [
    "a = 10\n",
    "b = 20\n",
    "c = a + b\n",
    "print(c)"
   ]
  },
  {
   "cell_type": "code",
   "execution_count": 42,
   "id": "b40d2fa6",
   "metadata": {},
   "outputs": [],
   "source": [
    "inta = 3\n",
    "pi = 3.14\n",
    "boolean = True\n",
    "char = \"A\"\n",
    "str = \"Python\""
   ]
  },
  {
   "cell_type": "code",
   "execution_count": null,
   "id": "dfa30323",
   "metadata": {},
   "outputs": [],
   "source": []
  },
  {
   "cell_type": "code",
   "execution_count": null,
   "id": "403610f4",
   "metadata": {},
   "outputs": [],
   "source": []
  },
  {
   "cell_type": "code",
   "execution_count": null,
   "id": "8d692c9a",
   "metadata": {},
   "outputs": [],
   "source": []
  }
 ],
 "metadata": {
  "kernelspec": {
   "display_name": "Python 3 (ipykernel)",
   "language": "python",
   "name": "python3"
  },
  "language_info": {
   "codemirror_mode": {
    "name": "ipython",
    "version": 3
   },
   "file_extension": ".py",
   "mimetype": "text/x-python",
   "name": "python",
   "nbconvert_exporter": "python",
   "pygments_lexer": "ipython3",
   "version": "3.10.6"
  }
 },
 "nbformat": 4,
 "nbformat_minor": 5
}
