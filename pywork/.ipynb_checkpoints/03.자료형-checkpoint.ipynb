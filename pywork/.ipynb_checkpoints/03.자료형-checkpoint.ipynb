{
 "cells": [
  {
   "cell_type": "markdown",
   "id": "150ab277",
   "metadata": {},
   "source": [
    "# 1. 숫자"
   ]
  },
  {
   "cell_type": "markdown",
   "id": "d1c9eaf5",
   "metadata": {},
   "source": [
    "# 1) 정수형, 실수형 대입"
   ]
  },
  {
   "cell_type": "code",
   "execution_count": 2,
   "id": "58ef597e",
   "metadata": {},
   "outputs": [
    {
     "name": "stdout",
     "output_type": "stream",
     "text": [
      "100\n",
      "<class 'int'>\n"
     ]
    }
   ],
   "source": [
    "a = 100\n",
    "\n",
    "print(a)\n",
    "print(type(a))"
   ]
  },
  {
   "cell_type": "code",
   "execution_count": 4,
   "id": "ae638d3e",
   "metadata": {},
   "outputs": [
    {
     "name": "stdout",
     "output_type": "stream",
     "text": [
      "3.14\n",
      "<class 'float'>\n"
     ]
    }
   ],
   "source": [
    "b = 3.14\n",
    "\n",
    "print(b)\n",
    "print(type(b))"
   ]
  },
  {
   "cell_type": "code",
   "execution_count": 5,
   "id": "7d2e7cbf",
   "metadata": {},
   "outputs": [
    {
     "name": "stdout",
     "output_type": "stream",
     "text": [
      "True\n",
      "<class 'bool'>\n"
     ]
    }
   ],
   "source": [
    "c = True\n",
    "\n",
    "print(c)\n",
    "print(type(c))"
   ]
  },
  {
   "cell_type": "markdown",
   "id": "2478b4c6",
   "metadata": {},
   "source": [
    "# 2) 2,8,16진수"
   ]
  },
  {
   "cell_type": "code",
   "execution_count": 7,
   "id": "f550519f",
   "metadata": {},
   "outputs": [
    {
     "name": "stdout",
     "output_type": "stream",
     "text": [
      "47\n",
      "15\n",
      "13\n"
     ]
    }
   ],
   "source": [
    "print(0x2f)\n",
    "print(0o17)\n",
    "print(0b1101)"
   ]
  },
  {
   "cell_type": "code",
   "execution_count": 8,
   "id": "819fcff6",
   "metadata": {},
   "outputs": [
    {
     "name": "stdout",
     "output_type": "stream",
     "text": [
      "0x2f\n",
      "0o17\n",
      "0b1101\n"
     ]
    }
   ],
   "source": [
    "print(hex(47))\n",
    "print(oct(15))\n",
    "print(bin(13))"
   ]
  },
  {
   "cell_type": "markdown",
   "id": "0fcf5c62",
   "metadata": {},
   "source": [
    "# 3) 수치연산"
   ]
  },
  {
   "cell_type": "code",
   "execution_count": 9,
   "id": "f5fae22e",
   "metadata": {},
   "outputs": [
    {
     "name": "stdout",
     "output_type": "stream",
     "text": [
      "13 5 2.25\n",
      "6561\n",
      "2 1\n"
     ]
    }
   ],
   "source": [
    "a = 9\n",
    "b = 4\n",
    "\n",
    "print(a+b, a-b, a/b)\n",
    "print(a**b)\n",
    "print(a//b, a%b)"
   ]
  },
  {
   "cell_type": "code",
   "execution_count": 11,
   "id": "8c34d99a",
   "metadata": {},
   "outputs": [
    {
     "name": "stdout",
     "output_type": "stream",
     "text": [
      "3140.0\n",
      "0.00314\n"
     ]
    }
   ],
   "source": [
    "a = 3.14e3\n",
    "print(a)\n",
    "\n",
    "b = 3.14e-3\n",
    "print(b)"
   ]
  },
  {
   "cell_type": "markdown",
   "id": "39f1834b",
   "metadata": {},
   "source": [
    "# 4) 진위형"
   ]
  },
  {
   "cell_type": "code",
   "execution_count": 12,
   "id": "269eb7d5",
   "metadata": {},
   "outputs": [
    {
     "name": "stdout",
     "output_type": "stream",
     "text": [
      "<class 'bool'>\n",
      "<class 'bool'>\n"
     ]
    }
   ],
   "source": [
    "a = True\n",
    "b = False\n",
    "\n",
    "print(type(a))\n",
    "print(type(b))"
   ]
  },
  {
   "cell_type": "code",
   "execution_count": 14,
   "id": "613ec440",
   "metadata": {},
   "outputs": [
    {
     "name": "stdout",
     "output_type": "stream",
     "text": [
      "False\n",
      "False\n",
      "False\n",
      "False\n",
      "True\n",
      "True\n"
     ]
    }
   ],
   "source": [
    "print(bool(\"\"))\n",
    "print(bool([]))\n",
    "print(bool(0))\n",
    "print(bool(None))\n",
    "print(bool(\"0\"))\n",
    "print(bool(\"None\"))"
   ]
  },
  {
   "cell_type": "code",
   "execution_count": 18,
   "id": "3778a809",
   "metadata": {},
   "outputs": [
    {
     "name": "stdout",
     "output_type": "stream",
     "text": [
      "참\n"
     ]
    }
   ],
   "source": [
    "a = 3\n",
    "\n",
    "if a:\n",
    "    print(\"참\")\n",
    "else:\n",
    "    print(\"거짓\")"
   ]
  },
  {
   "cell_type": "markdown",
   "id": "e11e5f1f",
   "metadata": {},
   "source": [
    "# 2. 문자"
   ]
  },
  {
   "cell_type": "markdown",
   "id": "03503627",
   "metadata": {},
   "source": [
    "# 1) 문자열 사용"
   ]
  },
  {
   "cell_type": "code",
   "execution_count": 19,
   "id": "3057bb1d",
   "metadata": {},
   "outputs": [
    {
     "name": "stdout",
     "output_type": "stream",
     "text": [
      "hello Python\n",
      "hello Python\n"
     ]
    }
   ],
   "source": [
    "a = 'hello Python'\n",
    "b = \"hello Python\"\n",
    "\n",
    "print(a)\n",
    "print(b)"
   ]
  },
  {
   "cell_type": "code",
   "execution_count": 20,
   "id": "7de73f57",
   "metadata": {},
   "outputs": [
    {
     "name": "stdout",
     "output_type": "stream",
     "text": [
      "hello \"Python\"\n",
      "hello 'Python'\n"
     ]
    }
   ],
   "source": [
    "c = 'hello \"Python\"'# '',\"\"번갈아 사용해서 표시\n",
    "d = \"hello 'Python'\"\n",
    "\n",
    "print(c)\n",
    "print(d)"
   ]
  },
  {
   "cell_type": "code",
   "execution_count": 21,
   "id": "484b1798",
   "metadata": {},
   "outputs": [
    {
     "name": "stdout",
     "output_type": "stream",
     "text": [
      "hello \"Python\"\n",
      "hello 'Python'\n"
     ]
    }
   ],
   "source": [
    "e = \"hello \\\"Python\\\"\"# \\'이나 \\\"로 표시\n",
    "f = 'hello \\'Python\\''\n",
    "\n",
    "print(e)\n",
    "print(f)"
   ]
  },
  {
   "cell_type": "code",
   "execution_count": 24,
   "id": "1fa030a3",
   "metadata": {},
   "outputs": [
    {
     "name": "stdout",
     "output_type": "stream",
     "text": [
      "Hello Python\n",
      "Hello World\n",
      "\n",
      "Hello Python\n",
      "Hello World\n"
     ]
    }
   ],
   "source": [
    "stra = \"\"\"Hello Python\n",
    "Hello World\n",
    "\"\"\"\n",
    "\n",
    "strb = \"Hello Python\\nHello World\"\n",
    "\n",
    "print(stra)\n",
    "print(strb)"
   ]
  },
  {
   "cell_type": "markdown",
   "id": "91642de3",
   "metadata": {},
   "source": [
    "# 2)확장열(이스케이프 코드"
   ]
  },
  {
   "cell_type": "code",
   "execution_count": 25,
   "id": "1ff5d256",
   "metadata": {},
   "outputs": [
    {
     "name": "stdout",
     "output_type": "stream",
     "text": [
      "Hello Python \n",
      "Hello World\n",
      "Hello\tPython\n"
     ]
    }
   ],
   "source": [
    "a = \"Hello Python \\nHello World\"\n",
    "b = \"Hello\\tPython\"\n",
    "\n",
    "print(a)\n",
    "print(b)"
   ]
  },
  {
   "cell_type": "code",
   "execution_count": 28,
   "id": "87d28e37",
   "metadata": {},
   "outputs": [
    {
     "name": "stdout",
     "output_type": "stream",
     "text": [
      "c\\KDTWork\\pywork\\test.py\n"
     ]
    }
   ],
   "source": [
    "c = \"c\\\\KDTWork\\\\pywork\\\\test.py\"\n",
    "\n",
    "print(c)"
   ]
  },
  {
   "cell_type": "markdown",
   "id": "74af071a",
   "metadata": {},
   "source": [
    "# 3) 문자열 연산"
   ]
  },
  {
   "cell_type": "code",
   "execution_count": 32,
   "id": "c456a957",
   "metadata": {},
   "outputs": [
    {
     "name": "stdout",
     "output_type": "stream",
     "text": [
      "Hello Python\n"
     ]
    }
   ],
   "source": [
    "head = \"Hello\"\n",
    "tail = \"Python\"\n",
    "print(head + \" \" + tail)"
   ]
  },
  {
   "cell_type": "code",
   "execution_count": 33,
   "id": "705b6b22",
   "metadata": {},
   "outputs": [
    {
     "name": "stdout",
     "output_type": "stream",
     "text": [
      "----------------------------------------\n"
     ]
    }
   ],
   "source": [
    "stra = \"-\"\n",
    "print(stra*40)"
   ]
  },
  {
   "cell_type": "code",
   "execution_count": 34,
   "id": "a4377b92",
   "metadata": {},
   "outputs": [
    {
     "name": "stdout",
     "output_type": "stream",
     "text": [
      "12\n",
      "4\n"
     ]
    }
   ],
   "source": [
    "print(len(\"Hello Python\"))\n",
    "print(len([1, 2, 3, \"a\"]))"
   ]
  },
  {
   "cell_type": "markdown",
   "id": "cedaa094",
   "metadata": {},
   "source": [
    "# 03. 컬렉션 형 "
   ]
  },
  {
   "cell_type": "code",
   "execution_count": null,
   "id": "7c0d1cd7",
   "metadata": {},
   "outputs": [],
   "source": []
  },
  {
   "cell_type": "code",
   "execution_count": null,
   "id": "3317f4c4",
   "metadata": {},
   "outputs": [],
   "source": []
  },
  {
   "cell_type": "code",
   "execution_count": null,
   "id": "4f70b29d",
   "metadata": {},
   "outputs": [],
   "source": []
  },
  {
   "cell_type": "code",
   "execution_count": null,
   "id": "c041e974",
   "metadata": {},
   "outputs": [],
   "source": []
  },
  {
   "cell_type": "code",
   "execution_count": null,
   "id": "14749bdd",
   "metadata": {},
   "outputs": [],
   "source": []
  }
 ],
 "metadata": {
  "kernelspec": {
   "display_name": "Python 3 (ipykernel)",
   "language": "python",
   "name": "python3"
  },
  "language_info": {
   "codemirror_mode": {
    "name": "ipython",
    "version": 3
   },
   "file_extension": ".py",
   "mimetype": "text/x-python",
   "name": "python",
   "nbconvert_exporter": "python",
   "pygments_lexer": "ipython3",
   "version": "3.10.6"
  }
 },
 "nbformat": 4,
 "nbformat_minor": 5
}
