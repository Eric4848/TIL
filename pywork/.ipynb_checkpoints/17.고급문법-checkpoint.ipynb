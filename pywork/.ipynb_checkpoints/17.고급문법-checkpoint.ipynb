{
 "cells": [
  {
   "cell_type": "markdown",
   "id": "dac4fa05",
   "metadata": {},
   "source": [
    "# 1. 반복자 -> 일회용 자료"
   ]
  },
  {
   "cell_type": "markdown",
   "id": "b6f7cd3e",
   "metadata": {},
   "source": [
    "# 1) 반복자"
   ]
  },
  {
   "cell_type": "code",
   "execution_count": 22,
   "id": "3c838a83",
   "metadata": {},
   "outputs": [
    {
     "name": "stdout",
     "output_type": "stream",
     "text": [
      "['__class__', '__delattr__', '__dir__', '__doc__', '__eq__', '__format__', '__ge__', '__getattribute__', '__gt__', '__hash__', '__init__', '__init_subclass__', '__iter__', '__le__', '__length_hint__', '__lt__', '__ne__', '__new__', '__next__', '__reduce__', '__reduce_ex__', '__repr__', '__setattr__', '__setstate__', '__sizeof__', '__str__', '__subclasshook__']\n",
      "1\n",
      "2\n",
      "3\n",
      "4\n",
      "5\n"
     ]
    },
    {
     "ename": "StopIteration",
     "evalue": "",
     "output_type": "error",
     "traceback": [
      "\u001b[1;31m---------------------------------------------------------------------------\u001b[0m",
      "\u001b[1;31mStopIteration\u001b[0m                             Traceback (most recent call last)",
      "Cell \u001b[1;32mIn[22], line 13\u001b[0m\n\u001b[0;32m     11\u001b[0m \u001b[38;5;28mprint\u001b[39m(\u001b[38;5;28mnext\u001b[39m(it))\n\u001b[0;32m     12\u001b[0m \u001b[38;5;28mprint\u001b[39m(\u001b[38;5;28mnext\u001b[39m(it))\n\u001b[1;32m---> 13\u001b[0m \u001b[38;5;28mprint\u001b[39m(\u001b[38;5;28;43mnext\u001b[39;49m\u001b[43m(\u001b[49m\u001b[43mit\u001b[49m\u001b[43m)\u001b[49m)\n",
      "\u001b[1;31mStopIteration\u001b[0m: "
     ]
    }
   ],
   "source": [
    "#iterator - 한번만 사용\n",
    "nums = [1, 2, 3, 4, 5]\n",
    "\n",
    "it = iter(nums)\n",
    "print(dir(it))\n",
    "# __next__가 존재시 iterator\n",
    "\n",
    "print(next(it))\n",
    "print(next(it))\n",
    "print(next(it))\n",
    "print(next(it))\n",
    "print(next(it))\n",
    "print(next(it))"
   ]
  },
  {
   "cell_type": "code",
   "execution_count": 26,
   "id": "06ef53e3",
   "metadata": {},
   "outputs": [
    {
     "name": "stdout",
     "output_type": "stream",
     "text": [
      "1\n",
      "2\n",
      "3\n",
      "4\n",
      "5\n",
      "StopIteration Error occured\n"
     ]
    }
   ],
   "source": [
    "#iterator - 한번만 사용\n",
    "nums = [1, 2, 3, 4, 5]\n",
    "\n",
    "it = iter(nums)\n",
    "while True:\n",
    "    try:\n",
    "        print(next(it))\n",
    "    except StopIteration as e:\n",
    "        print(\"StopIteration Error occured\")\n",
    "        break"
   ]
  },
  {
   "cell_type": "markdown",
   "id": "07867295",
   "metadata": {},
   "source": [
    "# 2) 제네레이터"
   ]
  },
  {
   "cell_type": "code",
   "execution_count": 36,
   "id": "a798186e",
   "metadata": {},
   "outputs": [
    {
     "name": "stdout",
     "output_type": "stream",
     "text": [
      "gen-fun's first call\n",
      "1\n",
      "gen-fun's second call\n",
      "2\n"
     ]
    },
    {
     "ename": "StopIteration",
     "evalue": "",
     "output_type": "error",
     "traceback": [
      "\u001b[1;31m---------------------------------------------------------------------------\u001b[0m",
      "\u001b[1;31mStopIteration\u001b[0m                             Traceback (most recent call last)",
      "Cell \u001b[1;32mIn[36], line 10\u001b[0m\n\u001b[0;32m      8\u001b[0m \u001b[38;5;28mprint\u001b[39m(\u001b[38;5;28mnext\u001b[39m(g))\n\u001b[0;32m      9\u001b[0m \u001b[38;5;28mprint\u001b[39m(\u001b[38;5;28mnext\u001b[39m(g))\n\u001b[1;32m---> 10\u001b[0m \u001b[38;5;28mprint\u001b[39m(\u001b[38;5;28;43mnext\u001b[39;49m\u001b[43m(\u001b[49m\u001b[43mg\u001b[49m\u001b[43m)\u001b[49m)\n",
      "\u001b[1;31mStopIteration\u001b[0m: "
     ]
    }
   ],
   "source": [
    "def genTest():\n",
    "    print(\"gen-fun's first call\")\n",
    "    yield\"1\"\n",
    "    print(\"gen-fun's second call\")\n",
    "    yield\"2\"\n",
    "    \n",
    "g = genTest()\n",
    "print(next(g))\n",
    "print(next(g))\n",
    "print(next(g))"
   ]
  },
  {
   "cell_type": "code",
   "execution_count": 42,
   "id": "55f6f32e",
   "metadata": {},
   "outputs": [
    {
     "name": "stdout",
     "output_type": "stream",
     "text": [
      "920\n",
      "8856\n",
      "104\n",
      "104\n"
     ]
    }
   ],
   "source": [
    "#제네레이터 사용으로 메모리 사용량 줄이기\n",
    "# [] -> () 제네레이터 사용\n",
    "import sys\n",
    "\n",
    "print(sys.getsizeof([i for i in range(100)]))\n",
    "print(sys.getsizeof([i for i in range(1000)]))\n",
    "\n",
    "print(sys.getsizeof(i for i in range(100)))\n",
    "print(sys.getsizeof(i for i in range(1000)))"
   ]
  },
  {
   "cell_type": "code",
   "execution_count": null,
   "id": "cee5efdf",
   "metadata": {},
   "outputs": [],
   "source": []
  }
 ],
 "metadata": {
  "kernelspec": {
   "display_name": "Python 3 (ipykernel)",
   "language": "python",
   "name": "python3"
  },
  "language_info": {
   "codemirror_mode": {
    "name": "ipython",
    "version": 3
   },
   "file_extension": ".py",
   "mimetype": "text/x-python",
   "name": "python",
   "nbconvert_exporter": "python",
   "pygments_lexer": "ipython3",
   "version": "3.10.6"
  }
 },
 "nbformat": 4,
 "nbformat_minor": 5
}
