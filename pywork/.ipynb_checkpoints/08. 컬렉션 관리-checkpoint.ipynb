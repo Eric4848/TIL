{
 "cells": [
  {
   "cell_type": "markdown",
   "id": "16892e44",
   "metadata": {},
   "source": [
    "# 1. 컬렉션 관리"
   ]
  },
  {
   "cell_type": "markdown",
   "id": "3aec7516",
   "metadata": {},
   "source": [
    "# 1) enumerate()"
   ]
  },
  {
   "cell_type": "code",
   "execution_count": 1,
   "id": "c4511f0c",
   "metadata": {},
   "outputs": [
    {
     "name": "stdout",
     "output_type": "stream",
     "text": [
      "[(1, 31), (2, 28), (3, 31), (4, 30), (5, 31), (6, 30), (7, 31), (8, 31), (9, 30), (10, 31), (11, 30), (12, 31)]\n"
     ]
    }
   ],
   "source": [
    "last_day = [31, 28,31,30,31,30,31,31,30,31,30,31]\n",
    "\n",
    "\n",
    "list = list(enumerate(last_day,1))\n",
    "print(list)"
   ]
  },
  {
   "cell_type": "markdown",
   "id": "91ac9bd3",
   "metadata": {},
   "source": [
    "# 2) zip()"
   ]
  },
  {
   "cell_type": "code",
   "execution_count": 1,
   "id": "c221198a",
   "metadata": {},
   "outputs": [
    {
     "name": "stdout",
     "output_type": "stream",
     "text": [
      "[('1월', 31), ('2월', 28), ('3월', 31), ('4월', 30), ('5월', 31), ('6월', 30), ('7월', 31), ('8월', 31), ('9월', 30), ('10월', 31), ('11월', 30), ('12월', 31)]\n",
      "{'1월': 31, '2월': 28, '3월': 31, '4월': 30, '5월': 31, '6월': 30, '7월': 31, '8월': 31, '9월': 30, '10월': 31, '11월': 30, '12월': 31}\n"
     ]
    }
   ],
   "source": [
    "last_day = [31, 28,31,30,31,30,31,31,30,31,30,31]\n",
    "mon = [\"1월\", \"2월\", \"3월\", \"4월\", \"5월\", \"6월\", \"7월\", \"8월\", \"9월\", \"10월\", \"11월\", \"12월\"]\n",
    "\n",
    "print(list(zip(mon,last_day)))\n",
    "print(dict(zip(mon,last_day)))"
   ]
  },
  {
   "cell_type": "markdown",
   "id": "1315872e",
   "metadata": {},
   "source": [
    "# 2. 람다 함수"
   ]
  },
  {
   "cell_type": "markdown",
   "id": "8a281651",
   "metadata": {},
   "source": [
    "# 1) filter() "
   ]
  },
  {
   "cell_type": "code",
   "execution_count": 2,
   "id": "8f5f3701",
   "metadata": {},
   "outputs": [
    {
     "name": "stdout",
     "output_type": "stream",
     "text": [
      "[50, 60, 70, 80, 90, 100]\n"
     ]
    }
   ],
   "source": [
    "#첫번째 인수 - 조건 선택 \"함수\" - T/F 반환\n",
    "#두번쨰 인수 - 리스트\n",
    "\n",
    "def ftest(a):\n",
    "    return a + 20 > 60\n",
    "points = [10, 20, 30, 40, 50, 60, 70, 80, 90, 100]\n",
    "print(list(filter(ftest, points)))"
   ]
  },
  {
   "cell_type": "markdown",
   "id": "cb915aba",
   "metadata": {},
   "source": [
    "# 2) map()"
   ]
  },
  {
   "cell_type": "code",
   "execution_count": 8,
   "id": "21d49ee3",
   "metadata": {},
   "outputs": [
    {
     "name": "stdout",
     "output_type": "stream",
     "text": [
      "[12.0, 24.0, 36.0, 48.0, 60.0, 72.0, 84.0, 96.0, 108.0, 120.0]\n"
     ]
    }
   ],
   "source": [
    "#모든 값을 계산하여 반환\n",
    "#첫번쨰 인수로 들어가는 함수 정의\n",
    "#두번쨰 인수 리스트를 여러개 받을 수 있음\n",
    "\n",
    "def mtest(a):\n",
    "    return a*1.2\n",
    "points = [10, 20, 30, 40, 50, 60, 70, 80, 90, 100]\n",
    "points2 = [1, 2, 3, 4, 5, 6, 7, 8, 9, 10]\n",
    "\n",
    "print(list(map(mtest, points)))\n",
    "#print(list(map(mtest, points, points2)))"
   ]
  },
  {
   "cell_type": "markdown",
   "id": "89d35b6c",
   "metadata": {},
   "source": [
    "# 3) lambda()"
   ]
  },
  {
   "cell_type": "code",
   "execution_count": 7,
   "id": "09dec03e",
   "metadata": {},
   "outputs": [
    {
     "name": "stdout",
     "output_type": "stream",
     "text": [
      "[50, 60, 70, 80, 90, 100]\n",
      "[12.0, 24.0, 36.0, 48.0, 60.0, 72.0, 84.0, 96.0, 108.0, 120.0]\n"
     ]
    }
   ],
   "source": [
    "#함수의 이름 정의 없이 입,출력으로 함수정의\n",
    "#lambda 입력변수 : 출력식\n",
    "\n",
    "points = [10, 20, 30, 40, 50, 60, 70, 80, 90, 100]\n",
    "print(list(filter(lambda a : a + 20 > 60, points)))\n",
    "print(list(map(lambda a : a*1.2, points)))"
   ]
  },
  {
   "cell_type": "code",
   "execution_count": 9,
   "id": "1f45a40e",
   "metadata": {},
   "outputs": [
    {
     "name": "stdout",
     "output_type": "stream",
     "text": [
      "[100, 120, 140, 160, 180, 200]\n"
     ]
    }
   ],
   "source": [
    "print(list(map(lambda a : a*2,filter(lambda a : a + 20 > 60,points))))"
   ]
  },
  {
   "cell_type": "markdown",
   "id": "d56f0eca",
   "metadata": {},
   "source": [
    "# 3. 컬렉션의 사본"
   ]
  },
  {
   "cell_type": "markdown",
   "id": "3a39520c",
   "metadata": {},
   "source": [
    "# 1) 리스트의 사본"
   ]
  },
  {
   "cell_type": "code",
   "execution_count": 30,
   "id": "a916f835",
   "metadata": {},
   "outputs": [
    {
     "name": "stdout",
     "output_type": "stream",
     "text": [
      "1691272479248\n",
      "1691272479248\n",
      "True\n",
      "-----------\n",
      "1691272479568\n",
      "1691272479248\n",
      "False\n"
     ]
    }
   ],
   "source": [
    "a = 10\n",
    "b = a\n",
    "\n",
    "print(id(a))\n",
    "print(id(b))\n",
    "print(a is b)\n",
    "\n",
    "print(\"-----------\")\n",
    "\n",
    "a = 20\n",
    "\n",
    "print(id(a))\n",
    "print(id(b))\n",
    "print(a is b)"
   ]
  },
  {
   "cell_type": "code",
   "execution_count": 25,
   "id": "f0669e01",
   "metadata": {},
   "outputs": [
    {
     "name": "stdout",
     "output_type": "stream",
     "text": [
      "1691372893568\n",
      "1691372895232\n",
      "1691372895872\n",
      "True\n",
      "False\n",
      "---------\n",
      "[10, 100, 30, 40, 50]\n",
      "[10, 100, 30, 40, 50]\n",
      "[10, 20, 30, 40, 50]\n",
      "[10, 20, 30, 40, 50]\n"
     ]
    }
   ],
   "source": [
    "a = [10, 20, 30, 40, 50]\n",
    "b = a\n",
    "c = a.copy()\n",
    "d = a[:]\n",
    "\n",
    "print(id(b))\n",
    "print(id(c))\n",
    "print(id(d))\n",
    "print(a is b)\n",
    "print(a is c)\n",
    "\n",
    "a[1] = 100\n",
    "\n",
    "print('---------')\n",
    "\n",
    "print(a)\n",
    "print(b)\n",
    "print(c)\n",
    "print(d)"
   ]
  },
  {
   "cell_type": "code",
   "execution_count": 32,
   "id": "5e1356a4",
   "metadata": {
    "scrolled": true
   },
   "outputs": [
    {
     "name": "stdout",
     "output_type": "stream",
     "text": [
      "[10, 20, [110, 120, 130], 30, 40, 50]\n",
      "[10, 20, [110, 120, 130], 30, 40, 50]\n",
      "[10, 20, [110, 120, 130], 30, 40, 50]\n",
      "[10, 20, [110, 120, 130], 30, 40, 50]\n",
      "-----------\n",
      "1691372957440\n",
      "1691372369024\n",
      "1691372945984\n",
      "1691372885440\n",
      "-----------\n",
      "[10, 100, [110, 120, 130], 30, 40, 50]\n",
      "[10, 20, [110, 120, 130], 30, 40, 50]\n",
      "[10, 20, [110, 120, 130], 30, 40, 50]\n",
      "[10, 20, [110, 120, 130], 30, 40, 50]\n",
      "-----------\n",
      "[10, 100, [110, 500, 130], 30, 40, 50]\n",
      "[10, 20, [110, 500, 130], 30, 40, 50]\n",
      "[10, 20, [110, 500, 130], 30, 40, 50]\n",
      "[10, 20, [110, 120, 130], 30, 40, 50]\n"
     ]
    }
   ],
   "source": [
    "#copy or slicing 시 2중리스트는 참조, deepcopy로 2중리스트까지 복사\n",
    "import copy\n",
    "\n",
    "a = [10, 20, [110, 120, 130], 30, 40, 50]\n",
    "b = a.copy()\n",
    "c = a[:]\n",
    "d = copy.deepcopy(a)\n",
    "\n",
    "print(a)\n",
    "print(b)\n",
    "print(c)\n",
    "print(d)\n",
    "print(\"-----------\")\n",
    "\n",
    "print(id(a))\n",
    "print(id(b))\n",
    "print(id(c))\n",
    "print(id(d))\n",
    "\n",
    "print(\"-----------\")\n",
    "\n",
    "a[1] = 100\n",
    "print(a)\n",
    "print(b)\n",
    "print(c)\n",
    "print(d)\n",
    "\n",
    "print(\"-----------\")\n",
    "\n",
    "a[2][1] = 500\n",
    "print(a)\n",
    "print(b)\n",
    "print(c)\n",
    "print(d)"
   ]
  },
  {
   "cell_type": "code",
   "execution_count": null,
   "id": "d2ada06a",
   "metadata": {},
   "outputs": [],
   "source": []
  }
 ],
 "metadata": {
  "kernelspec": {
   "display_name": "Python 3 (ipykernel)",
   "language": "python",
   "name": "python3"
  },
  "language_info": {
   "codemirror_mode": {
    "name": "ipython",
    "version": 3
   },
   "file_extension": ".py",
   "mimetype": "text/x-python",
   "name": "python",
   "nbconvert_exporter": "python",
   "pygments_lexer": "ipython3",
   "version": "3.10.6"
  }
 },
 "nbformat": 4,
 "nbformat_minor": 5
}
