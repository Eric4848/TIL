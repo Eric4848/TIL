{
 "cells": [
  {
   "cell_type": "markdown",
   "id": "a7f53f35",
   "metadata": {},
   "source": [
    "# 1. 내장함수"
   ]
  },
  {
   "cell_type": "code",
   "execution_count": 27,
   "id": "14319942",
   "metadata": {},
   "outputs": [
    {
     "name": "stdout",
     "output_type": "stream",
     "text": [
      "1.3\n",
      "False\n",
      "True\n",
      "97\n",
      "['__add__', '__class__', '__class_getitem__', '__contains__', '__delattr__', '__delitem__', '__dir__', '__doc__', '__eq__', '__format__', '__ge__', '__getattribute__', '__getitem__', '__gt__', '__hash__', '__iadd__', '__imul__', '__init__', '__init_subclass__', '__iter__', '__le__', '__len__', '__lt__', '__mul__', '__ne__', '__new__', '__reduce__', '__reduce_ex__', '__repr__', '__reversed__', '__rmul__', '__setattr__', '__setitem__', '__sizeof__', '__str__', '__subclasshook__', 'append', 'clear', 'copy', 'count', 'extend', 'index', 'insert', 'pop', 'remove', 'reverse', 'sort']\n",
      "['__and__', '__class__', '__class_getitem__', '__contains__', '__delattr__', '__dir__', '__doc__', '__eq__', '__format__', '__ge__', '__getattribute__', '__gt__', '__hash__', '__iand__', '__init__', '__init_subclass__', '__ior__', '__isub__', '__iter__', '__ixor__', '__le__', '__len__', '__lt__', '__ne__', '__new__', '__or__', '__rand__', '__reduce__', '__reduce_ex__', '__repr__', '__ror__', '__rsub__', '__rxor__', '__setattr__', '__sizeof__', '__str__', '__sub__', '__subclasshook__', '__xor__', 'add', 'clear', 'copy', 'difference', 'difference_update', 'discard', 'intersection', 'intersection_update', 'isdisjoint', 'issubset', 'issuperset', 'pop', 'remove', 'symmetric_difference', 'symmetric_difference_update', 'union', 'update']\n",
      "2 1\n",
      "<enumerate object at 0x0000016D7DA6F980>\n"
     ]
    }
   ],
   "source": [
    "print(abs(-1.3))\n",
    "\n",
    "print(all([0, 1, 2, 3]))\n",
    "print(any([0, 1, 2, 3]))\n",
    "\n",
    "print(str(97))\n",
    "\n",
    "print(dir([1, 2, 3]))\n",
    "print(dir({'1', 'a'}))\n",
    "\n",
    "a, b = divmod(7, 3)\n",
    "print(a, b)\n",
    "\n",
    "print(enumerate(['a', 'b', 'c']))"
   ]
  },
  {
   "cell_type": "code",
   "execution_count": 18,
   "id": "0c864cff",
   "metadata": {},
   "outputs": [
    {
     "name": "stdout",
     "output_type": "stream",
     "text": [
      "3\n",
      "(1, 1)\n",
      "[1, 2, 3, 4]\n",
      "1569667285296\n",
      "1569667285296\n",
      "3\n",
      "True\n",
      "5\n"
     ]
    }
   ],
   "source": [
    "print(eval('1+2'))\n",
    "print(eval('divmod(4,3)'))\n",
    "print(list(filter(lambda x : x > 0, [1, 2, 3, 4, -5, -7])))\n",
    "\n",
    "a = 3\n",
    "b = a\n",
    "print(id(a))\n",
    "print(id(b))\n",
    "print(int(3.14))\n",
    "\n",
    "class Person:\n",
    "    pass\n",
    "\n",
    "p = Person()\n",
    "print(isinstance(p,Person))\n",
    "print(len(\"hello\"))"
   ]
  },
  {
   "cell_type": "code",
   "execution_count": 20,
   "id": "c79cfb77",
   "metadata": {},
   "outputs": [
    {
     "name": "stdout",
     "output_type": "stream",
     "text": [
      "['h', 'e', 'l', 'l', 'o']\n",
      "4\n",
      "-7\n",
      "97\n",
      "44032\n",
      "16\n",
      "16\n"
     ]
    }
   ],
   "source": [
    "print(list(\"hello\"))\n",
    "print(max([1, 2, 3, 4, -5, -7]))\n",
    "print(min([1, 2, 3, 4, -5, -7]))\n",
    "print(ord('a'))\n",
    "print(ord('가'))\n",
    "print(pow(2,4))\n",
    "print(2**4)"
   ]
  },
  {
   "cell_type": "code",
   "execution_count": 24,
   "id": "b420a913",
   "metadata": {},
   "outputs": [
    {
     "name": "stdout",
     "output_type": "stream",
     "text": [
      "[1, 0, -1, -2, -3, -4, -5, -6, -7, -8, -9]\n",
      "6\n",
      "5.6\n",
      "[1, 2, 3]\n",
      "3\n",
      "[1, 2, 3]\n",
      "15\n",
      "[('a', 'd'), ('b', 'e'), ('c', 'f')]\n"
     ]
    }
   ],
   "source": [
    "print(list(range(1, -10, -1)))\n",
    "print(round(5.56))\n",
    "print(round(5.56,1))\n",
    "print(sorted([1,3,2]))\n",
    "print(str(3))\n",
    "print(str([1, 2, 3]))\n",
    "print(sum([4, 5, 6]))\n",
    "print(list(zip(\"abc\", \"def\")))"
   ]
  },
  {
   "cell_type": "markdown",
   "id": "c3defe04",
   "metadata": {},
   "source": [
    "# 2. 표준모듈"
   ]
  },
  {
   "cell_type": "markdown",
   "id": "ec681bac",
   "metadata": {},
   "source": [
    "# 1) math"
   ]
  },
  {
   "cell_type": "code",
   "execution_count": 29,
   "id": "01b6a6a9",
   "metadata": {},
   "outputs": [],
   "source": [
    "import math"
   ]
  },
  {
   "cell_type": "code",
   "execution_count": 31,
   "id": "4e00d6db",
   "metadata": {},
   "outputs": [
    {
     "name": "stdout",
     "output_type": "stream",
     "text": [
      "3.1622776601683795\n"
     ]
    }
   ],
   "source": [
    "math.sqrt(10)"
   ]
  },
  {
   "cell_type": "code",
   "execution_count": 33,
   "id": "b22519bb",
   "metadata": {},
   "outputs": [
    {
     "data": {
      "text/plain": [
       "27.0"
      ]
     },
     "execution_count": 33,
     "metadata": {},
     "output_type": "execute_result"
    }
   ],
   "source": [
    "math.pow(3,3)"
   ]
  },
  {
   "cell_type": "code",
   "execution_count": 34,
   "id": "aced328c",
   "metadata": {},
   "outputs": [
    {
     "data": {
      "text/plain": [
       "120"
      ]
     },
     "execution_count": 34,
     "metadata": {},
     "output_type": "execute_result"
    }
   ],
   "source": [
    "math.factorial(5)"
   ]
  },
  {
   "cell_type": "code",
   "execution_count": 39,
   "id": "143603ad",
   "metadata": {},
   "outputs": [
    {
     "name": "stdout",
     "output_type": "stream",
     "text": [
      "0.479425538604203\n",
      "0.8775825618903728\n",
      "0.5463024898437905\n"
     ]
    }
   ],
   "source": [
    "print(math.sin(0.5))\n",
    "print(math.cos(0.5))\n",
    "print(math.tan(0.5))"
   ]
  },
  {
   "cell_type": "code",
   "execution_count": 41,
   "id": "3dd50943",
   "metadata": {},
   "outputs": [
    {
     "data": {
      "text/plain": [
       "21"
      ]
     },
     "execution_count": 41,
     "metadata": {},
     "output_type": "execute_result"
    }
   ],
   "source": [
    "math.ceil(20.33)"
   ]
  },
  {
   "cell_type": "code",
   "execution_count": 43,
   "id": "7d5cce2a",
   "metadata": {},
   "outputs": [
    {
     "data": {
      "text/plain": [
       "20"
      ]
     },
     "execution_count": 43,
     "metadata": {},
     "output_type": "execute_result"
    }
   ],
   "source": [
    "math.floor(20.33)"
   ]
  },
  {
   "cell_type": "code",
   "execution_count": 45,
   "id": "3271c02a",
   "metadata": {},
   "outputs": [
    {
     "data": {
      "text/plain": [
       "30.2"
      ]
     },
     "execution_count": 45,
     "metadata": {},
     "output_type": "execute_result"
    }
   ],
   "source": [
    "math.fabs(-30.2)"
   ]
  },
  {
   "cell_type": "code",
   "execution_count": 47,
   "id": "359d5b4e",
   "metadata": {},
   "outputs": [
    {
     "data": {
      "text/plain": [
       "20"
      ]
     },
     "execution_count": 47,
     "metadata": {},
     "output_type": "execute_result"
    }
   ],
   "source": [
    "math.trunc(20.33)"
   ]
  },
  {
   "cell_type": "code",
   "execution_count": 48,
   "id": "5da70b91",
   "metadata": {},
   "outputs": [
    {
     "data": {
      "text/plain": [
       "20"
      ]
     },
     "execution_count": 48,
     "metadata": {},
     "output_type": "execute_result"
    }
   ],
   "source": [
    "math.trunc(20.66)"
   ]
  },
  {
   "cell_type": "code",
   "execution_count": 49,
   "id": "b4f3c172",
   "metadata": {},
   "outputs": [
    {
     "data": {
      "text/plain": [
       "2.0"
      ]
     },
     "execution_count": 49,
     "metadata": {},
     "output_type": "execute_result"
    }
   ],
   "source": [
    "math.log(100,10)"
   ]
  },
  {
   "cell_type": "code",
   "execution_count": 50,
   "id": "f3cfc83b",
   "metadata": {},
   "outputs": [
    {
     "data": {
      "text/plain": [
       "2.0"
      ]
     },
     "execution_count": 50,
     "metadata": {},
     "output_type": "execute_result"
    }
   ],
   "source": [
    "math.log10(100)"
   ]
  },
  {
   "cell_type": "markdown",
   "id": "e2ad8c31",
   "metadata": {},
   "source": [
    "# 2) statics"
   ]
  },
  {
   "cell_type": "code",
   "execution_count": 68,
   "id": "6f4bb16a",
   "metadata": {},
   "outputs": [
    {
     "name": "stdout",
     "output_type": "stream",
     "text": [
      "[10, 20, 30, 40, 50, 60, 70, 80, 90, 100]\n"
     ]
    }
   ],
   "source": [
    "import statistics as st\n",
    "\n",
    "points = list(range(10,101,10))\n",
    "\n",
    "print(points)"
   ]
  },
  {
   "cell_type": "code",
   "execution_count": 78,
   "id": "fa9b04f3",
   "metadata": {},
   "outputs": [
    {
     "name": "stdout",
     "output_type": "stream",
     "text": [
      "[10, 20, 30, 40, 50, 60, 70, 80, 90, 100]\n",
      "[10, 20, 30, 40, 50, 60, 70, 80, 90]\n"
     ]
    }
   ],
   "source": [
    "st.mean(points)\n",
    "print(points)\n",
    "points.pop(9)\n",
    "print(points)"
   ]
  },
  {
   "cell_type": "code",
   "execution_count": 79,
   "id": "fbcc13e0",
   "metadata": {},
   "outputs": [
    {
     "name": "stdout",
     "output_type": "stream",
     "text": [
      "50\n",
      "[10, 20, 30, 40, 50, 60, 70, 80, 90, 100]\n"
     ]
    }
   ],
   "source": [
    "print(st.median(points))\n",
    "points.append(100)\n",
    "print(points)"
   ]
  },
  {
   "cell_type": "code",
   "execution_count": 71,
   "id": "f69e837d",
   "metadata": {},
   "outputs": [
    {
     "data": {
      "text/plain": [
       "30"
      ]
     },
     "execution_count": 71,
     "metadata": {},
     "output_type": "execute_result"
    }
   ],
   "source": [
    "points2 = [10, 20, 30, 40, 30, 50, 60]\n",
    "st.mode(points2)"
   ]
  },
  {
   "cell_type": "code",
   "execution_count": 72,
   "id": "ebd987c8",
   "metadata": {},
   "outputs": [
    {
     "data": {
      "text/plain": [
       "28.722813232690143"
      ]
     },
     "execution_count": 72,
     "metadata": {},
     "output_type": "execute_result"
    }
   ],
   "source": [
    "st.pstdev(points)"
   ]
  },
  {
   "cell_type": "code",
   "execution_count": 73,
   "id": "cbb90f18",
   "metadata": {},
   "outputs": [
    {
     "data": {
      "text/plain": [
       "30.276503540974915"
      ]
     },
     "execution_count": 73,
     "metadata": {},
     "output_type": "execute_result"
    }
   ],
   "source": [
    "st.stdev(points)"
   ]
  },
  {
   "cell_type": "code",
   "execution_count": 74,
   "id": "d766c4c9",
   "metadata": {},
   "outputs": [
    {
     "data": {
      "text/plain": [
       "916.6666666666666"
      ]
     },
     "execution_count": 74,
     "metadata": {},
     "output_type": "execute_result"
    }
   ],
   "source": [
    "st.variance(points)"
   ]
  },
  {
   "cell_type": "markdown",
   "id": "db1bbc44",
   "metadata": {},
   "source": [
    "# 3) datetime"
   ]
  },
  {
   "cell_type": "code",
   "execution_count": 80,
   "id": "855f6d7d",
   "metadata": {},
   "outputs": [],
   "source": [
    "import datetime as dt"
   ]
  },
  {
   "cell_type": "code",
   "execution_count": 88,
   "id": "a0009c8d",
   "metadata": {},
   "outputs": [
    {
     "name": "stdout",
     "output_type": "stream",
     "text": [
      "2023-01-05 14:00:59.926631\n",
      "2023\n",
      "1\n",
      "5\n",
      "14\n",
      "0\n",
      "59\n",
      "926631\n"
     ]
    }
   ],
   "source": [
    "now = dt.datetime.now()\n",
    "\n",
    "print(now)\n",
    "print(now.year)\n",
    "print(now.month)\n",
    "print(now.day)\n",
    "print(now.hour)\n",
    "print(now.minute)\n",
    "print(now.second)\n",
    "print(now.microsecond)"
   ]
  },
  {
   "cell_type": "code",
   "execution_count": 91,
   "id": "c1f4302c",
   "metadata": {},
   "outputs": [
    {
     "name": "stdout",
     "output_type": "stream",
     "text": [
      "2050-01-05 14:02:26.507759\n"
     ]
    }
   ],
   "source": [
    "now = dt.datetime.now()\n",
    "print(now.replace(year=2050))"
   ]
  },
  {
   "cell_type": "code",
   "execution_count": 92,
   "id": "649cb5b7",
   "metadata": {},
   "outputs": [
    {
     "name": "stdout",
     "output_type": "stream",
     "text": [
      "2023-01-05\n"
     ]
    }
   ],
   "source": [
    "print(dt.date.today())"
   ]
  },
  {
   "cell_type": "code",
   "execution_count": 95,
   "id": "a33e5111",
   "metadata": {},
   "outputs": [
    {
     "name": "stdout",
     "output_type": "stream",
     "text": [
      "2023-01-15 14:02:26.507759\n"
     ]
    }
   ],
   "source": [
    "print(now + dt.timedelta(days = 10))"
   ]
  },
  {
   "cell_type": "markdown",
   "id": "c8aaebcd",
   "metadata": {},
   "source": [
    "# 4) time"
   ]
  },
  {
   "cell_type": "code",
   "execution_count": 96,
   "id": "79486b12",
   "metadata": {},
   "outputs": [],
   "source": [
    "import time"
   ]
  },
  {
   "cell_type": "code",
   "execution_count": 97,
   "id": "e2a96edc",
   "metadata": {},
   "outputs": [
    {
     "data": {
      "text/plain": [
       "1672896057.7173328"
      ]
     },
     "execution_count": 97,
     "metadata": {},
     "output_type": "execute_result"
    }
   ],
   "source": [
    "time.time()"
   ]
  },
  {
   "cell_type": "code",
   "execution_count": 98,
   "id": "fef61d10",
   "metadata": {},
   "outputs": [
    {
     "data": {
      "text/plain": [
       "'Thu Jan  5 14:21:05 2023'"
      ]
     },
     "execution_count": 98,
     "metadata": {},
     "output_type": "execute_result"
    }
   ],
   "source": [
    "time.ctime()"
   ]
  },
  {
   "cell_type": "code",
   "execution_count": 99,
   "id": "f20dd23b",
   "metadata": {},
   "outputs": [
    {
     "data": {
      "text/plain": [
       "time.struct_time(tm_year=2023, tm_mon=1, tm_mday=5, tm_hour=14, tm_min=21, tm_sec=16, tm_wday=3, tm_yday=5, tm_isdst=0)"
      ]
     },
     "execution_count": 99,
     "metadata": {},
     "output_type": "execute_result"
    }
   ],
   "source": [
    "time.localtime()"
   ]
  },
  {
   "cell_type": "code",
   "execution_count": 100,
   "id": "a667f56c",
   "metadata": {},
   "outputs": [
    {
     "data": {
      "text/plain": [
       "'Thu Jan  5 14:21:38 2023'"
      ]
     },
     "execution_count": 100,
     "metadata": {},
     "output_type": "execute_result"
    }
   ],
   "source": [
    "time.asctime()"
   ]
  },
  {
   "cell_type": "code",
   "execution_count": 101,
   "id": "05d885fb",
   "metadata": {},
   "outputs": [
    {
     "name": "stdout",
     "output_type": "stream",
     "text": [
      "1672896373.201951\n",
      "1672896378.2149324\n",
      "5.012981414794922\n"
     ]
    }
   ],
   "source": [
    "start = time.time()\n",
    "print(start)\n",
    "time.sleep(5)\n",
    "end = time.time()\n",
    "print(end)\n",
    "print(end - start)"
   ]
  },
  {
   "cell_type": "markdown",
   "id": "9a71ff88",
   "metadata": {},
   "source": [
    "# 5) calendar"
   ]
  },
  {
   "cell_type": "code",
   "execution_count": 1,
   "id": "46fb9e7a",
   "metadata": {},
   "outputs": [],
   "source": [
    "import calendar"
   ]
  },
  {
   "cell_type": "code",
   "execution_count": 2,
   "id": "7918ad29",
   "metadata": {},
   "outputs": [
    {
     "data": {
      "text/plain": [
       "'                                  2023\\n\\n      January                   February                   March\\nMo Tu We Th Fr Sa Su      Mo Tu We Th Fr Sa Su      Mo Tu We Th Fr Sa Su\\n                   1             1  2  3  4  5             1  2  3  4  5\\n 2  3  4  5  6  7  8       6  7  8  9 10 11 12       6  7  8  9 10 11 12\\n 9 10 11 12 13 14 15      13 14 15 16 17 18 19      13 14 15 16 17 18 19\\n16 17 18 19 20 21 22      20 21 22 23 24 25 26      20 21 22 23 24 25 26\\n23 24 25 26 27 28 29      27 28                     27 28 29 30 31\\n30 31\\n\\n       April                      May                       June\\nMo Tu We Th Fr Sa Su      Mo Tu We Th Fr Sa Su      Mo Tu We Th Fr Sa Su\\n                1  2       1  2  3  4  5  6  7                1  2  3  4\\n 3  4  5  6  7  8  9       8  9 10 11 12 13 14       5  6  7  8  9 10 11\\n10 11 12 13 14 15 16      15 16 17 18 19 20 21      12 13 14 15 16 17 18\\n17 18 19 20 21 22 23      22 23 24 25 26 27 28      19 20 21 22 23 24 25\\n24 25 26 27 28 29 30      29 30 31                  26 27 28 29 30\\n\\n        July                     August                  September\\nMo Tu We Th Fr Sa Su      Mo Tu We Th Fr Sa Su      Mo Tu We Th Fr Sa Su\\n                1  2          1  2  3  4  5  6                   1  2  3\\n 3  4  5  6  7  8  9       7  8  9 10 11 12 13       4  5  6  7  8  9 10\\n10 11 12 13 14 15 16      14 15 16 17 18 19 20      11 12 13 14 15 16 17\\n17 18 19 20 21 22 23      21 22 23 24 25 26 27      18 19 20 21 22 23 24\\n24 25 26 27 28 29 30      28 29 30 31               25 26 27 28 29 30\\n31\\n\\n      October                   November                  December\\nMo Tu We Th Fr Sa Su      Mo Tu We Th Fr Sa Su      Mo Tu We Th Fr Sa Su\\n                   1             1  2  3  4  5                   1  2  3\\n 2  3  4  5  6  7  8       6  7  8  9 10 11 12       4  5  6  7  8  9 10\\n 9 10 11 12 13 14 15      13 14 15 16 17 18 19      11 12 13 14 15 16 17\\n16 17 18 19 20 21 22      20 21 22 23 24 25 26      18 19 20 21 22 23 24\\n23 24 25 26 27 28 29      27 28 29 30               25 26 27 28 29 30 31\\n30 31\\n'"
      ]
     },
     "execution_count": 2,
     "metadata": {},
     "output_type": "execute_result"
    }
   ],
   "source": [
    "calendar.calendar(2023)"
   ]
  },
  {
   "cell_type": "code",
   "execution_count": 3,
   "id": "29b65bb3",
   "metadata": {},
   "outputs": [
    {
     "name": "stdout",
     "output_type": "stream",
     "text": [
      "                                  2023\n",
      "\n",
      "      January                   February                   March\n",
      "Mo Tu We Th Fr Sa Su      Mo Tu We Th Fr Sa Su      Mo Tu We Th Fr Sa Su\n",
      "                   1             1  2  3  4  5             1  2  3  4  5\n",
      " 2  3  4  5  6  7  8       6  7  8  9 10 11 12       6  7  8  9 10 11 12\n",
      " 9 10 11 12 13 14 15      13 14 15 16 17 18 19      13 14 15 16 17 18 19\n",
      "16 17 18 19 20 21 22      20 21 22 23 24 25 26      20 21 22 23 24 25 26\n",
      "23 24 25 26 27 28 29      27 28                     27 28 29 30 31\n",
      "30 31\n",
      "\n",
      "       April                      May                       June\n",
      "Mo Tu We Th Fr Sa Su      Mo Tu We Th Fr Sa Su      Mo Tu We Th Fr Sa Su\n",
      "                1  2       1  2  3  4  5  6  7                1  2  3  4\n",
      " 3  4  5  6  7  8  9       8  9 10 11 12 13 14       5  6  7  8  9 10 11\n",
      "10 11 12 13 14 15 16      15 16 17 18 19 20 21      12 13 14 15 16 17 18\n",
      "17 18 19 20 21 22 23      22 23 24 25 26 27 28      19 20 21 22 23 24 25\n",
      "24 25 26 27 28 29 30      29 30 31                  26 27 28 29 30\n",
      "\n",
      "        July                     August                  September\n",
      "Mo Tu We Th Fr Sa Su      Mo Tu We Th Fr Sa Su      Mo Tu We Th Fr Sa Su\n",
      "                1  2          1  2  3  4  5  6                   1  2  3\n",
      " 3  4  5  6  7  8  9       7  8  9 10 11 12 13       4  5  6  7  8  9 10\n",
      "10 11 12 13 14 15 16      14 15 16 17 18 19 20      11 12 13 14 15 16 17\n",
      "17 18 19 20 21 22 23      21 22 23 24 25 26 27      18 19 20 21 22 23 24\n",
      "24 25 26 27 28 29 30      28 29 30 31               25 26 27 28 29 30\n",
      "31\n",
      "\n",
      "      October                   November                  December\n",
      "Mo Tu We Th Fr Sa Su      Mo Tu We Th Fr Sa Su      Mo Tu We Th Fr Sa Su\n",
      "                   1             1  2  3  4  5                   1  2  3\n",
      " 2  3  4  5  6  7  8       6  7  8  9 10 11 12       4  5  6  7  8  9 10\n",
      " 9 10 11 12 13 14 15      13 14 15 16 17 18 19      11 12 13 14 15 16 17\n",
      "16 17 18 19 20 21 22      20 21 22 23 24 25 26      18 19 20 21 22 23 24\n",
      "23 24 25 26 27 28 29      27 28 29 30               25 26 27 28 29 30 31\n",
      "30 31\n"
     ]
    }
   ],
   "source": [
    "calendar.prcal(2023)"
   ]
  },
  {
   "cell_type": "code",
   "execution_count": null,
   "id": "39250cc1",
   "metadata": {},
   "outputs": [],
   "source": []
  },
  {
   "cell_type": "markdown",
   "id": "73ffbb59",
   "metadata": {},
   "source": [
    "# 6) random"
   ]
  },
  {
   "cell_type": "code",
   "execution_count": 4,
   "id": "d5c13884",
   "metadata": {},
   "outputs": [],
   "source": [
    "import random"
   ]
  },
  {
   "cell_type": "code",
   "execution_count": 6,
   "id": "5e5ae3a2",
   "metadata": {},
   "outputs": [
    {
     "data": {
      "text/plain": [
       "0.6543186509952084"
      ]
     },
     "execution_count": 6,
     "metadata": {},
     "output_type": "execute_result"
    }
   ],
   "source": [
    "random.random()"
   ]
  },
  {
   "cell_type": "code",
   "execution_count": 8,
   "id": "886b9361",
   "metadata": {},
   "outputs": [
    {
     "data": {
      "text/plain": [
       "83"
      ]
     },
     "execution_count": 8,
     "metadata": {},
     "output_type": "execute_result"
    }
   ],
   "source": [
    "#include end\n",
    "random.randint(0,100)"
   ]
  },
  {
   "cell_type": "code",
   "execution_count": 9,
   "id": "f0685cef",
   "metadata": {},
   "outputs": [
    {
     "data": {
      "text/plain": [
       "15"
      ]
     },
     "execution_count": 9,
     "metadata": {},
     "output_type": "execute_result"
    }
   ],
   "source": [
    "#no include end\n",
    "random.randrange(0,100)"
   ]
  },
  {
   "cell_type": "code",
   "execution_count": 10,
   "id": "467227b3",
   "metadata": {},
   "outputs": [
    {
     "data": {
      "text/plain": [
       "9.83584775467542"
      ]
     },
     "execution_count": 10,
     "metadata": {},
     "output_type": "execute_result"
    }
   ],
   "source": [
    "random.uniform(0,100)"
   ]
  },
  {
   "cell_type": "code",
   "execution_count": 11,
   "id": "5730403f",
   "metadata": {},
   "outputs": [
    {
     "data": {
      "text/plain": [
       "6"
      ]
     },
     "execution_count": 11,
     "metadata": {},
     "output_type": "execute_result"
    }
   ],
   "source": [
    "a = [1, 2, 3, 4, 5, 6, 7, 8, 9, 10]\n",
    "random.choice(a)"
   ]
  },
  {
   "cell_type": "code",
   "execution_count": 15,
   "id": "d6ffc921",
   "metadata": {},
   "outputs": [
    {
     "name": "stdout",
     "output_type": "stream",
     "text": [
      "[4, 7, 10, 2, 6, 3, 5, 1, 8, 9]\n"
     ]
    }
   ],
   "source": [
    "random.shuffle(a)\n",
    "print(a)"
   ]
  },
  {
   "cell_type": "code",
   "execution_count": 16,
   "id": "f9c8bec1",
   "metadata": {},
   "outputs": [
    {
     "name": "stdout",
     "output_type": "stream",
     "text": [
      "[4, 5, 10, 6, 9]\n"
     ]
    }
   ],
   "source": [
    "b = random.sample(a,5)\n",
    "print(b)"
   ]
  },
  {
   "cell_type": "markdown",
   "id": "8598f7b2",
   "metadata": {},
   "source": [
    "# 7) sys"
   ]
  },
  {
   "cell_type": "code",
   "execution_count": 17,
   "id": "a75008e0",
   "metadata": {},
   "outputs": [],
   "source": [
    "import sys"
   ]
  },
  {
   "cell_type": "code",
   "execution_count": 18,
   "id": "de933ed0",
   "metadata": {},
   "outputs": [
    {
     "data": {
      "text/plain": [
       "'3.10.6 (tags/v3.10.6:9c7b4bd, Aug  1 2022, 21:53:49) [MSC v.1932 64 bit (AMD64)]'"
      ]
     },
     "execution_count": 18,
     "metadata": {},
     "output_type": "execute_result"
    }
   ],
   "source": [
    "sys.version"
   ]
  },
  {
   "cell_type": "code",
   "execution_count": 19,
   "id": "5ac4aba6",
   "metadata": {},
   "outputs": [
    {
     "data": {
      "text/plain": [
       "'win32'"
      ]
     },
     "execution_count": 19,
     "metadata": {},
     "output_type": "execute_result"
    }
   ],
   "source": [
    "sys.platform"
   ]
  },
  {
   "cell_type": "code",
   "execution_count": 20,
   "id": "d7cb5eca",
   "metadata": {},
   "outputs": [
    {
     "data": {
      "text/plain": [
       "['C:\\\\KDTWork\\\\pywork',\n",
       " 'C:\\\\KDTWork\\\\pywork',\n",
       " 'C:\\\\Python\\\\python310.zip',\n",
       " 'C:\\\\Python\\\\DLLs',\n",
       " 'C:\\\\Python\\\\lib',\n",
       " 'C:\\\\Python',\n",
       " '',\n",
       " 'C:\\\\Python\\\\lib\\\\site-packages',\n",
       " 'C:\\\\Python\\\\lib\\\\site-packages\\\\win32',\n",
       " 'C:\\\\Python\\\\lib\\\\site-packages\\\\win32\\\\lib',\n",
       " 'C:\\\\Python\\\\lib\\\\site-packages\\\\Pythonwin']"
      ]
     },
     "execution_count": 20,
     "metadata": {},
     "output_type": "execute_result"
    }
   ],
   "source": [
    "sys.path"
   ]
  },
  {
   "cell_type": "code",
   "execution_count": 22,
   "id": "9060bcac",
   "metadata": {},
   "outputs": [],
   "source": [
    "# at cmd\n",
    "#python argv_pm.py first second end"
   ]
  },
  {
   "cell_type": "markdown",
   "id": "071a5fe1",
   "metadata": {},
   "source": [
    "# 8) pickle"
   ]
  },
  {
   "cell_type": "code",
   "execution_count": 23,
   "id": "9da12045",
   "metadata": {},
   "outputs": [],
   "source": [
    "import pickle\n",
    "f = open(\"pickle_test.pick\", \"wb\")\n",
    "data = [1, 2, 3, 4, 5]\n",
    "pickle.dump(data,f)\n",
    "f.close()"
   ]
  },
  {
   "cell_type": "code",
   "execution_count": 25,
   "id": "a1701283",
   "metadata": {},
   "outputs": [
    {
     "name": "stdout",
     "output_type": "stream",
     "text": [
      "[1, 2, 3, 4, 5]\n"
     ]
    }
   ],
   "source": [
    "f = open(\"pickle_test.pick\", \"rb\")\n",
    "data2 = pickle.load(f)\n",
    "print(data)\n",
    "f.close()"
   ]
  },
  {
   "cell_type": "markdown",
   "id": "e39e7b14",
   "metadata": {},
   "source": [
    "# 9) webbrowser"
   ]
  },
  {
   "cell_type": "code",
   "execution_count": 26,
   "id": "ae353197",
   "metadata": {},
   "outputs": [],
   "source": [
    "import webbrowser as wb"
   ]
  },
  {
   "cell_type": "code",
   "execution_count": 27,
   "id": "2dcdeb3e",
   "metadata": {},
   "outputs": [
    {
     "data": {
      "text/plain": [
       "True"
      ]
     },
     "execution_count": 27,
     "metadata": {},
     "output_type": "execute_result"
    }
   ],
   "source": [
    "wb.open(\"www.naver.com\")"
   ]
  },
  {
   "cell_type": "code",
   "execution_count": null,
   "id": "02410d33",
   "metadata": {},
   "outputs": [],
   "source": []
  }
 ],
 "metadata": {
  "kernelspec": {
   "display_name": "Python 3 (ipykernel)",
   "language": "python",
   "name": "python3"
  },
  "language_info": {
   "codemirror_mode": {
    "name": "ipython",
    "version": 3
   },
   "file_extension": ".py",
   "mimetype": "text/x-python",
   "name": "python",
   "nbconvert_exporter": "python",
   "pygments_lexer": "ipython3",
   "version": "3.10.6"
  }
 },
 "nbformat": 4,
 "nbformat_minor": 5
}
