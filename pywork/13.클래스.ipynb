{
 "cells": [
  {
   "cell_type": "markdown",
   "id": "cea226e4",
   "metadata": {},
   "source": [
    "# 1. 클래스"
   ]
  },
  {
   "cell_type": "markdown",
   "id": "dabaf1f9",
   "metadata": {},
   "source": [
    "# 1) 클래스"
   ]
  },
  {
   "cell_type": "code",
   "execution_count": 4,
   "id": "2c043f61",
   "metadata": {},
   "outputs": [
    {
     "name": "stdout",
     "output_type": "stream",
     "text": [
      "Person class`s print\n",
      "Person class`s return\n"
     ]
    }
   ],
   "source": [
    "class Person:\n",
    "    def default_print(self):\n",
    "        print(\"Person class`s print\")\n",
    "    def default_return(self):\n",
    "        print(\"Person class`s return\")\n",
    "        \n",
    "p1 = Person()\n",
    "p1.default_print()\n",
    "p1.default_return()"
   ]
  },
  {
   "cell_type": "code",
   "execution_count": 7,
   "id": "a725aa91",
   "metadata": {},
   "outputs": [
    {
     "name": "stdout",
     "output_type": "stream",
     "text": [
      "25\n"
     ]
    }
   ],
   "source": [
    "def call(num):\n",
    "    return num += 5\n",
    "\n",
    "n = 0\n",
    "for i in range(5):\n",
    "    n = call(n) \n",
    "    \n",
    "print(n)"
   ]
  },
  {
   "cell_type": "code",
   "execution_count": 20,
   "id": "f169fe36",
   "metadata": {},
   "outputs": [
    {
     "name": "stdout",
     "output_type": "stream",
     "text": [
      "5\n",
      "10\n",
      "15\n",
      "20\n",
      "25\n",
      "--------------\n",
      "10\n",
      "20\n",
      "30\n",
      "40\n",
      "50\n",
      "--------------\n",
      "20\n",
      "40\n",
      "60\n",
      "80\n",
      "100\n"
     ]
    }
   ],
   "source": [
    "class Add:\n",
    "    def __init__(self):\n",
    "        self.result = 0\n",
    "    def add(self, n):\n",
    "        self.result += n\n",
    "        \n",
    "a1 = Add()\n",
    "for i in range(5):\n",
    "    a1.add(5)\n",
    "    print(a1.result)\n",
    "    \n",
    "print(\"--------------\")\n",
    "\n",
    "a2 = Add()\n",
    "for i in range(5):\n",
    "    a2.add(10)\n",
    "    print(a2.result)\n",
    "    \n",
    "print(\"--------------\")\n",
    "\n",
    "a3 = Add()\n",
    "for i in range(5):\n",
    "    a3.add(20)\n",
    "    print(a3.result)"
   ]
  },
  {
   "cell_type": "markdown",
   "id": "db194d12",
   "metadata": {},
   "source": [
    "# 2) 인스턴스 변수"
   ]
  },
  {
   "cell_type": "code",
   "execution_count": 25,
   "id": "95faef08",
   "metadata": {},
   "outputs": [
    {
     "name": "stdout",
     "output_type": "stream",
     "text": [
      "Student ID : 123 Name : Eric Major : E.E., P.N : 321\n",
      "p1`s phone is 02\n"
     ]
    }
   ],
   "source": [
    "class Person:\n",
    "    def self_data(self, id, name, major, phone):\n",
    "        self.id = id\n",
    "        self.name = name\n",
    "        self.major = major\n",
    "        self.phone = phone\n",
    "        \n",
    "        print(f\"Student ID : {self.id} Name : {self.name} Major : {self.major}, P.N : {self.phone}\")\n",
    "p1 = Person()\n",
    "p1.self_data(\"123\", \"Eric\", \"E.E.\", \"321\")\n",
    "\n",
    "p1.phone = \"02\"\n",
    "\n",
    "print(\"p1`s phone is \"+p1.phone)"
   ]
  },
  {
   "cell_type": "markdown",
   "id": "6cd16333",
   "metadata": {},
   "source": [
    "# 3) 클래스와 인스턴스 관계 확인"
   ]
  },
  {
   "cell_type": "code",
   "execution_count": 28,
   "id": "8255d453",
   "metadata": {},
   "outputs": [
    {
     "name": "stdout",
     "output_type": "stream",
     "text": [
      "True\n",
      "False\n",
      "__________\n",
      "\n",
      "True\n",
      "True\n",
      "__________\n",
      "\n",
      "True\n",
      "False\n",
      "__________\n",
      "\n",
      "True\n",
      "True\n"
     ]
    }
   ],
   "source": [
    "class Person:\n",
    "    pass\n",
    "class ClubMember(Person):\n",
    "    pass\n",
    "class Subject:\n",
    "    pass\n",
    "\n",
    "p, c, s = Person(), ClubMember(), Subject()\n",
    "\n",
    "print(isinstance(p,Person))\n",
    "print(isinstance(p,ClubMember))\n",
    "print(\"__________\\n\")\n",
    "print(isinstance(c,Person))\n",
    "print(isinstance(c,ClubMember))\n",
    "print(\"__________\\n\")\n",
    "print(isinstance(s,Subject))\n",
    "print(isinstance(s,Person))\n",
    "print(\"__________\\n\")\n",
    "print(isinstance(c,object))\n",
    "print(isinstance(s,object))"
   ]
  },
  {
   "cell_type": "markdown",
   "id": "27608523",
   "metadata": {},
   "source": [
    "# 4) 캡슐화"
   ]
  },
  {
   "cell_type": "code",
   "execution_count": 15,
   "id": "ce1daddc",
   "metadata": {},
   "outputs": [
    {
     "name": "stdout",
     "output_type": "stream",
     "text": [
      "Name : Eric, Age : 25\n",
      "30\n",
      "----------\n",
      "30\n",
      "----------\n",
      "10\n",
      "----------\n",
      "10\n"
     ]
    }
   ],
   "source": [
    "class Person:\n",
    "    def __init__(self, name, age):\n",
    "        self.name = name\n",
    "        self.age = age\n",
    "        print(f\"Name : {self.name}, Age : {self.age}\")\n",
    "    def set_age(self, age):\n",
    "        if age > 0:\n",
    "            self.age = age\n",
    "    def get_age(self):\n",
    "        return self.age\n",
    "    \n",
    "p1 = Person(\"Eric\", 25)\n",
    "\n",
    "p1.set_age(30)\n",
    "print(p1.get_age())\n",
    "\n",
    "print(\"----------\")\n",
    "\n",
    "p1.set_age(-10)\n",
    "print(p1.get_age())\n",
    "\n",
    "print(\"----------\")\n",
    "\n",
    "p1.age = 10\n",
    "print(p1.get_age())\n",
    "\n",
    "print(\"----------\")\n",
    "\n",
    "#p1.Person.age = 20\n",
    "print(p1.get_age())"
   ]
  },
  {
   "cell_type": "code",
   "execution_count": 18,
   "id": "f5f5fa51",
   "metadata": {},
   "outputs": [
    {
     "name": "stdout",
     "output_type": "stream",
     "text": [
      "Name : Eric, Age : 25\n",
      "30\n",
      "----------\n",
      "30\n",
      "----------\n",
      "30\n",
      "----------\n",
      "30\n",
      "----------\n"
     ]
    },
    {
     "ename": "AttributeError",
     "evalue": "'Person' object has no attribute 'name'",
     "output_type": "error",
     "traceback": [
      "\u001b[1;31m---------------------------------------------------------------------------\u001b[0m",
      "\u001b[1;31mAttributeError\u001b[0m                            Traceback (most recent call last)",
      "Cell \u001b[1;32mIn[18], line 34\u001b[0m\n\u001b[0;32m     30\u001b[0m \u001b[38;5;28mprint\u001b[39m(p1\u001b[38;5;241m.\u001b[39mget_age())\n\u001b[0;32m     32\u001b[0m \u001b[38;5;28mprint\u001b[39m(\u001b[38;5;124m\"\u001b[39m\u001b[38;5;124m----------\u001b[39m\u001b[38;5;124m\"\u001b[39m)\n\u001b[1;32m---> 34\u001b[0m \u001b[38;5;28mprint\u001b[39m(\u001b[43mp1\u001b[49m\u001b[38;5;241;43m.\u001b[39;49m\u001b[43mname\u001b[49m)\n",
      "\u001b[1;31mAttributeError\u001b[0m: 'Person' object has no attribute 'name'"
     ]
    }
   ],
   "source": [
    "class Person:\n",
    "    def __init__(self, name, age):\n",
    "        self.__name = name\n",
    "        self.__age = age\n",
    "        print(f\"Name : {self.__name}, Age : {self.__age}\")\n",
    "    def set_age(self, age):\n",
    "        if age > 0:\n",
    "            self.__age = age\n",
    "    def get_age(self):\n",
    "        return self.__age\n",
    "    \n",
    "p1 = Person(\"Eric\", 25)\n",
    "\n",
    "p1.set_age(30)\n",
    "print(p1.get_age())\n",
    "\n",
    "print(\"----------\")\n",
    "\n",
    "p1.set_age(-10)\n",
    "print(p1.get_age())\n",
    "\n",
    "print(\"----------\")\n",
    "\n",
    "p1.__age = 10\n",
    "print(p1.get_age())\n",
    "\n",
    "print(\"----------\")\n",
    "\n",
    "p1.__Person__age = 10\n",
    "print(p1.get_age())\n",
    "\n",
    "print(\"----------\")\n",
    "\n",
    "print(p1.name)"
   ]
  },
  {
   "cell_type": "markdown",
   "id": "ec67e144",
   "metadata": {},
   "source": [
    "# 2. 생성자"
   ]
  },
  {
   "cell_type": "markdown",
   "id": "ccc83f20",
   "metadata": {},
   "source": [
    "# 1) 인자값 없는 생성자"
   ]
  },
  {
   "cell_type": "code",
   "execution_count": 20,
   "id": "dd5b2f1a",
   "metadata": {},
   "outputs": [
    {
     "name": "stdout",
     "output_type": "stream",
     "text": [
      "Class generated\n"
     ]
    }
   ],
   "source": [
    "class Person:\n",
    "    def __init__(self):\n",
    "        print(\"Class generated\")\n",
    "\n",
    "p1= Person()"
   ]
  },
  {
   "cell_type": "markdown",
   "id": "35865206",
   "metadata": {},
   "source": [
    "# 2) 인자값 있는 생성자"
   ]
  },
  {
   "cell_type": "code",
   "execution_count": 22,
   "id": "14c007a9",
   "metadata": {},
   "outputs": [
    {
     "name": "stdout",
     "output_type": "stream",
     "text": [
      "Student ID : 123 Name : Eric Major : E.E., P.N : 321\n"
     ]
    }
   ],
   "source": [
    "class Person:\n",
    "    def self_data(self, id, name, major, phone):\n",
    "        self.id = id\n",
    "        self.name = name\n",
    "        self.major = major\n",
    "        self.phone = phone\n",
    "        \n",
    "        print(f\"Student ID : {self.id} Name : {self.name} Major : {self.major}, P.N : {self.phone}\")\n",
    "\n",
    "p1 = Person()\n",
    "p1.self_data(\"123\", \"Eric\", \"E.E.\", \"321\")"
   ]
  },
  {
   "cell_type": "markdown",
   "id": "4fb27342",
   "metadata": {},
   "source": [
    "# 3. 상속"
   ]
  },
  {
   "cell_type": "markdown",
   "id": "192f47a7",
   "metadata": {},
   "source": [
    "# 1) 상속"
   ]
  },
  {
   "cell_type": "code",
   "execution_count": 34,
   "id": "369ada3e",
   "metadata": {},
   "outputs": [
    {
     "name": "stdout",
     "output_type": "stream",
     "text": [
      "['__class__', '__delattr__', '__dict__', '__dir__', '__doc__', '__eq__', '__format__', '__ge__', '__getattribute__', '__gt__', '__hash__', '__init__', '__init_subclass__', '__le__', '__lt__', '__module__', '__ne__', '__new__', '__reduce__', '__reduce_ex__', '__repr__', '__setattr__', '__sizeof__', '__str__', '__subclasshook__', '__weakref__', 'ptest']\n",
      "-------------------\n",
      "['__class__', '__delattr__', '__dict__', '__dir__', '__doc__', '__eq__', '__format__', '__ge__', '__getattribute__', '__gt__', '__hash__', '__init__', '__init_subclass__', '__le__', '__lt__', '__module__', '__ne__', '__new__', '__reduce__', '__reduce_ex__', '__repr__', '__setattr__', '__sizeof__', '__str__', '__subclasshook__', '__weakref__', 'ctest', 'ptest']\n",
      "-------------------\n",
      "True\n",
      "False\n",
      "-------------------\n",
      "True\n",
      "True\n"
     ]
    }
   ],
   "source": [
    "class Person:\n",
    "    def ptest():\n",
    "        pass\n",
    "    \n",
    "class ClubMember(Person):\n",
    "    def ctest():\n",
    "        pass\n",
    "    \n",
    "print(dir(Person))\n",
    "print(\"-------------------\")\n",
    "print(dir(ClubMember))\n",
    "\n",
    "print(\"-------------------\")\n",
    "print(issubclass(ClubMember,Person))\n",
    "print(issubclass(Person,ClubMember))\n",
    "print(\"-------------------\")\n",
    "print(issubclass(Person,object))\n",
    "print(issubclass(ClubMember,object))"
   ]
  },
  {
   "cell_type": "code",
   "execution_count": 33,
   "id": "c16c4efc",
   "metadata": {},
   "outputs": [
    {
     "name": "stdout",
     "output_type": "stream",
     "text": [
      "ID : 123, Name : Eric, Major : E.E.\n",
      "Eric is member of programming\n"
     ]
    }
   ],
   "source": [
    "class Person:\n",
    "    def __init__(self, id, name, major):\n",
    "        self.id = id\n",
    "        self.name = name\n",
    "        self.major = major\n",
    "        print(f\"ID : {self.id}, Name : {self.name}, Major : {self.major}\")\n",
    "        \n",
    "class ClubMember(Person):\n",
    "    def club(self, clubname):\n",
    "        self.clubname = clubname\n",
    "        print(f\"{self.name} is member of {self.clubname}\")\n",
    "        \n",
    "c1 = ClubMember(123, \"Eric\", \"E.E.\")\n",
    "c1.club(\"programming\")"
   ]
  },
  {
   "cell_type": "code",
   "execution_count": 50,
   "id": "ba1b3f07",
   "metadata": {},
   "outputs": [
    {
     "name": "stdout",
     "output_type": "stream",
     "text": [
      "Name : Eric\n",
      "Name : Jack Clubname : Prigramming\n"
     ]
    }
   ],
   "source": [
    "class Person:\n",
    "    def __init__(self, name):\n",
    "        self.name = name\n",
    "    def info(self):\n",
    "        print(f\"Name : {self.name}\")\n",
    "        \n",
    "class Clubmember(Person):\n",
    "    def club(self, clubname):\n",
    "        self.clubname = clubname\n",
    "    def info(self):\n",
    "        print(f\"Name : {self.name} Clubname : {self.clubname}\")\n",
    "        \n",
    "p1 = Person(\"Eric\")\n",
    "p1.info()\n",
    "\n",
    "p2 = Clubmember(\"Jack\")\n",
    "p2.club(\"Prigramming\")\n",
    "p2.info()"
   ]
  },
  {
   "cell_type": "markdown",
   "id": "768c9f4d",
   "metadata": {},
   "source": [
    "# 4. 클래스 변수 "
   ]
  },
  {
   "cell_type": "markdown",
   "id": "ea590681",
   "metadata": {},
   "source": []
  },
  {
   "cell_type": "code",
   "execution_count": 4,
   "id": "909189d8",
   "metadata": {},
   "outputs": [
    {
     "name": "stdout",
     "output_type": "stream",
     "text": [
      "0\n",
      "-----------\n",
      "1\n",
      "1\n",
      "-----------\n",
      "2\n",
      "2\n",
      "2\n"
     ]
    }
   ],
   "source": [
    "class Person:\n",
    "    num = 0\n",
    "    def __init__(self):\n",
    "        Person.num += 1\n",
    "        \n",
    "        \n",
    "print(Person.num)    \n",
    "\n",
    "print(\"-----------\")\n",
    "\n",
    "p1 = Person()\n",
    "print(Person.num)\n",
    "print(p1.num)\n",
    "\n",
    "print(\"-----------\")\n",
    "\n",
    "p2 = Person()\n",
    "print(p1.num)\n",
    "print(p2.num)\n",
    "print(Person.num)"
   ]
  },
  {
   "cell_type": "markdown",
   "id": "fd693363",
   "metadata": {},
   "source": [
    "# 5. 클래스 메소드"
   ]
  },
  {
   "cell_type": "code",
   "execution_count": 6,
   "id": "492a9db2",
   "metadata": {},
   "outputs": [
    {
     "name": "stdout",
     "output_type": "stream",
     "text": [
      "95\n",
      "95\n"
     ]
    }
   ],
   "source": [
    "class SumPoint:\n",
    "    sum = 0\n",
    "    def __init__(self, point):\n",
    "        SumPoint.sum += point\n",
    "        \n",
    "    @classmethod\n",
    "    def getsum(cls):\n",
    "        print(cls.sum)\n",
    "        \n",
    "s1 = SumPoint(95)\n",
    "\n",
    "s1.getsum()\n",
    "SumPoint.getsum()"
   ]
  },
  {
   "cell_type": "code",
   "execution_count": 15,
   "id": "fd0accda",
   "metadata": {},
   "outputs": [
    {
     "name": "stdout",
     "output_type": "stream",
     "text": [
      "3\n",
      "15\n",
      "3\n"
     ]
    }
   ],
   "source": [
    "class ParentPoint:\n",
    "    point = 1\n",
    "    @classmethod\n",
    "    def mul(cls, num):\n",
    "        return cls.point*num\n",
    "    \n",
    "class ChildPoint(ParentPoint):\n",
    "    point = 5\n",
    "    \n",
    "class Point(ParentPoint):\n",
    "    pass\n",
    "\n",
    "print(ParentPoint.mul(3))\n",
    "print(ChildPoint.mul(3))\n",
    "print(Point.mul(3))"
   ]
  },
  {
   "cell_type": "markdown",
   "id": "acc1098a",
   "metadata": {},
   "source": [
    "# 2) 정적 메소드"
   ]
  },
  {
   "cell_type": "code",
   "execution_count": 17,
   "id": "70dc38ac",
   "metadata": {},
   "outputs": [
    {
     "name": "stdout",
     "output_type": "stream",
     "text": [
      "6\n",
      "6\n"
     ]
    }
   ],
   "source": [
    "class SumPoint:\n",
    "    @staticmethod\n",
    "    def plus(a,b,c):\n",
    "        print(a+b+c)\n",
    "        \n",
    "SumPoint.plus(1,2,3)\n",
    "\n",
    "s1 = SumPoint()\n",
    "s1.plus(1,2,3)"
   ]
  },
  {
   "cell_type": "markdown",
   "id": "5bd566e8",
   "metadata": {},
   "source": [
    "# 3) 문자열화 메소드"
   ]
  },
  {
   "cell_type": "code",
   "execution_count": 1,
   "id": "4416b663",
   "metadata": {},
   "outputs": [
    {
     "name": "stdout",
     "output_type": "stream",
     "text": [
      "ID : Eric, Name : Eric, Major : E.E.\n",
      "Eric\n"
     ]
    }
   ],
   "source": [
    "class Person:\n",
    "    def __init__(self, id, name, major):\n",
    "        self.id = id\n",
    "        self.name = name\n",
    "        self.major = major\n",
    "    def __str__(self):\n",
    "        return(f\"ID : {self.name}, Name : {self.name}, Major : {self.major}\")\n",
    "    \n",
    "p1 = Person(123, \"Eric\", \"E.E.\")\n",
    "print(p1)\n",
    "print(p1.name)"
   ]
  }
 ],
 "metadata": {
  "kernelspec": {
   "display_name": "Python 3 (ipykernel)",
   "language": "python",
   "name": "python3"
  },
  "language_info": {
   "codemirror_mode": {
    "name": "ipython",
    "version": 3
   },
   "file_extension": ".py",
   "mimetype": "text/x-python",
   "name": "python",
   "nbconvert_exporter": "python",
   "pygments_lexer": "ipython3",
   "version": "3.10.6"
  }
 },
 "nbformat": 4,
 "nbformat_minor": 5
}
