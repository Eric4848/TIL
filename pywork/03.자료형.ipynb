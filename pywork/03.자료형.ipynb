{
 "cells": [
  {
   "cell_type": "markdown",
   "id": "ec6f86da",
   "metadata": {},
   "source": [
    "# 1. 숫자"
   ]
  },
  {
   "cell_type": "markdown",
   "id": "b5ce49ff",
   "metadata": {},
   "source": [
    "# 1) 정수형, 실수형 대입"
   ]
  },
  {
   "cell_type": "code",
   "execution_count": 1,
   "id": "92203bff",
   "metadata": {},
   "outputs": [
    {
     "name": "stdout",
     "output_type": "stream",
     "text": [
      "100\n",
      "<class 'int'>\n"
     ]
    }
   ],
   "source": [
    "a = 100\n",
    "\n",
    "print(a)\n",
    "print(type(a))"
   ]
  },
  {
   "cell_type": "code",
   "execution_count": 2,
   "id": "7695e56d",
   "metadata": {},
   "outputs": [
    {
     "name": "stdout",
     "output_type": "stream",
     "text": [
      "3.14\n",
      "<class 'float'>\n"
     ]
    }
   ],
   "source": [
    "b = 3.14\n",
    "\n",
    "print(b)\n",
    "print(type(b))"
   ]
  },
  {
   "cell_type": "code",
   "execution_count": 3,
   "id": "be603764",
   "metadata": {},
   "outputs": [
    {
     "name": "stdout",
     "output_type": "stream",
     "text": [
      "True\n",
      "<class 'bool'>\n"
     ]
    }
   ],
   "source": [
    "c = True\n",
    "\n",
    "print(c)\n",
    "print(type(c))"
   ]
  },
  {
   "cell_type": "markdown",
   "id": "bd277dca",
   "metadata": {},
   "source": [
    "# 2) 2,8,16진수"
   ]
  },
  {
   "cell_type": "code",
   "execution_count": 4,
   "id": "85750a06",
   "metadata": {},
   "outputs": [
    {
     "name": "stdout",
     "output_type": "stream",
     "text": [
      "47\n",
      "15\n",
      "13\n"
     ]
    }
   ],
   "source": [
    "print(0x2f)\n",
    "print(0o17)\n",
    "print(0b1101)"
   ]
  },
  {
   "cell_type": "code",
   "execution_count": 5,
   "id": "d95a4a86",
   "metadata": {},
   "outputs": [
    {
     "name": "stdout",
     "output_type": "stream",
     "text": [
      "0x2f\n",
      "0o17\n",
      "0b1101\n"
     ]
    }
   ],
   "source": [
    "print(hex(47))\n",
    "print(oct(15))\n",
    "print(bin(13))"
   ]
  },
  {
   "cell_type": "markdown",
   "id": "db14cc7c",
   "metadata": {},
   "source": [
    "# 3) 수치연산"
   ]
  },
  {
   "cell_type": "code",
   "execution_count": 6,
   "id": "a0e2f4b2",
   "metadata": {},
   "outputs": [
    {
     "name": "stdout",
     "output_type": "stream",
     "text": [
      "13 5 2.25\n",
      "6561\n",
      "2 1\n"
     ]
    }
   ],
   "source": [
    "a = 9\n",
    "b = 4\n",
    "\n",
    "print(a+b, a-b, a/b)\n",
    "print(a**b)\n",
    "print(a//b, a%b)"
   ]
  },
  {
   "cell_type": "code",
   "execution_count": 7,
   "id": "b2c55c89",
   "metadata": {},
   "outputs": [
    {
     "name": "stdout",
     "output_type": "stream",
     "text": [
      "3140.0\n",
      "0.00314\n"
     ]
    }
   ],
   "source": [
    "a = 3.14e3\n",
    "print(a)\n",
    "\n",
    "b = 3.14e-3\n",
    "print(b)"
   ]
  },
  {
   "cell_type": "markdown",
   "id": "00a90f4a",
   "metadata": {},
   "source": [
    "# 4) 진위형"
   ]
  },
  {
   "cell_type": "code",
   "execution_count": 8,
   "id": "648cb4ed",
   "metadata": {},
   "outputs": [
    {
     "name": "stdout",
     "output_type": "stream",
     "text": [
      "<class 'bool'>\n",
      "<class 'bool'>\n"
     ]
    }
   ],
   "source": [
    "a = True\n",
    "b = False\n",
    "\n",
    "print(type(a))\n",
    "print(type(b))"
   ]
  },
  {
   "cell_type": "code",
   "execution_count": 9,
   "id": "516d1df7",
   "metadata": {},
   "outputs": [
    {
     "name": "stdout",
     "output_type": "stream",
     "text": [
      "False\n",
      "False\n",
      "False\n",
      "False\n",
      "True\n",
      "True\n"
     ]
    }
   ],
   "source": [
    "print(bool(\"\"))\n",
    "print(bool([]))\n",
    "print(bool(0))\n",
    "print(bool(None))\n",
    "print(bool(\"0\"))\n",
    "print(bool(\"None\"))"
   ]
  },
  {
   "cell_type": "code",
   "execution_count": 10,
   "id": "ea46c9e7",
   "metadata": {},
   "outputs": [
    {
     "name": "stdout",
     "output_type": "stream",
     "text": [
      "참\n"
     ]
    }
   ],
   "source": [
    "a = 3\n",
    "\n",
    "if a:\n",
    "    print(\"참\")\n",
    "else:\n",
    "    print(\"거짓\")"
   ]
  },
  {
   "cell_type": "markdown",
   "id": "4d3d0c9a",
   "metadata": {},
   "source": [
    "# 2. 문자"
   ]
  },
  {
   "cell_type": "markdown",
   "id": "27809646",
   "metadata": {},
   "source": [
    "# 1) 문자열 사용"
   ]
  },
  {
   "cell_type": "code",
   "execution_count": 11,
   "id": "0abf173b",
   "metadata": {},
   "outputs": [
    {
     "name": "stdout",
     "output_type": "stream",
     "text": [
      "hello Python\n",
      "hello Python\n"
     ]
    }
   ],
   "source": [
    "a = 'hello Python'\n",
    "b = \"hello Python\"\n",
    "\n",
    "print(a)\n",
    "print(b)"
   ]
  },
  {
   "cell_type": "code",
   "execution_count": 12,
   "id": "0afb1eb0",
   "metadata": {},
   "outputs": [
    {
     "name": "stdout",
     "output_type": "stream",
     "text": [
      "hello \"Python\"\n",
      "hello 'Python'\n"
     ]
    }
   ],
   "source": [
    "c = 'hello \"Python\"'# '',\"\"번갈아 사용해서 표시\n",
    "d = \"hello 'Python'\"\n",
    "\n",
    "print(c)\n",
    "print(d)"
   ]
  },
  {
   "cell_type": "code",
   "execution_count": 13,
   "id": "9625bc0f",
   "metadata": {},
   "outputs": [
    {
     "name": "stdout",
     "output_type": "stream",
     "text": [
      "hello \"Python\"\n",
      "hello 'Python'\n"
     ]
    }
   ],
   "source": [
    "e = \"hello \\\"Python\\\"\"# \\'이나 \\\"로 표시\n",
    "f = 'hello \\'Python\\''\n",
    "\n",
    "print(e)\n",
    "print(f)"
   ]
  },
  {
   "cell_type": "code",
   "execution_count": 14,
   "id": "24a51466",
   "metadata": {},
   "outputs": [
    {
     "name": "stdout",
     "output_type": "stream",
     "text": [
      "Hello Python\n",
      "Hello World\n",
      "\n",
      "Hello Python\n",
      "Hello World\n"
     ]
    }
   ],
   "source": [
    "stra = \"\"\"Hello Python\n",
    "Hello World\n",
    "\"\"\"\n",
    "\n",
    "strb = \"Hello Python\\nHello World\"\n",
    "\n",
    "print(stra)\n",
    "print(strb)"
   ]
  },
  {
   "cell_type": "markdown",
   "id": "99cadf50",
   "metadata": {},
   "source": [
    "# 2)확장열(이스케이프 코드"
   ]
  },
  {
   "cell_type": "code",
   "execution_count": 15,
   "id": "40780a25",
   "metadata": {},
   "outputs": [
    {
     "name": "stdout",
     "output_type": "stream",
     "text": [
      "Hello Python \n",
      "Hello World\n",
      "Hello\tPython\n"
     ]
    }
   ],
   "source": [
    "a = \"Hello Python \\nHello World\"\n",
    "b = \"Hello\\tPython\"\n",
    "\n",
    "print(a)\n",
    "print(b)"
   ]
  },
  {
   "cell_type": "code",
   "execution_count": 16,
   "id": "a30284aa",
   "metadata": {},
   "outputs": [
    {
     "name": "stdout",
     "output_type": "stream",
     "text": [
      "c\\KDTWork\\pywork\\test.py\n"
     ]
    }
   ],
   "source": [
    "c = \"c\\\\KDTWork\\\\pywork\\\\test.py\"\n",
    "\n",
    "print(c)"
   ]
  },
  {
   "cell_type": "markdown",
   "id": "9fa36424",
   "metadata": {},
   "source": [
    "# 3) 문자열 연산"
   ]
  },
  {
   "cell_type": "code",
   "execution_count": 17,
   "id": "cffe2291",
   "metadata": {},
   "outputs": [
    {
     "name": "stdout",
     "output_type": "stream",
     "text": [
      "Hello Python\n"
     ]
    }
   ],
   "source": [
    "head = \"Hello\"\n",
    "tail = \"Python\"\n",
    "print(head + \" \" + tail)"
   ]
  },
  {
   "cell_type": "code",
   "execution_count": 18,
   "id": "700edcc4",
   "metadata": {},
   "outputs": [
    {
     "name": "stdout",
     "output_type": "stream",
     "text": [
      "----------------------------------------\n"
     ]
    }
   ],
   "source": [
    "stra = \"-\"\n",
    "print(stra*40)"
   ]
  },
  {
   "cell_type": "code",
   "execution_count": 20,
   "id": "8f61e346",
   "metadata": {},
   "outputs": [
    {
     "name": "stdout",
     "output_type": "stream",
     "text": [
      "12\n",
      "4\n"
     ]
    }
   ],
   "source": [
    "print(len(\"Hello Python\")) \n",
    "print(len([1, 2, 3, \"a\"]))"
   ]
  },
  {
   "cell_type": "markdown",
   "id": "2c023f92",
   "metadata": {},
   "source": [
    "# 03. 컬렉션"
   ]
  },
  {
   "cell_type": "code",
   "execution_count": 4,
   "id": "b4aee501",
   "metadata": {},
   "outputs": [
    {
     "name": "stdout",
     "output_type": "stream",
     "text": [
      "['seoul', 'NewYork', 'Beijing', 'Tokyo']\n",
      "도시명 : seoul\n",
      "도시명 : NewYork\n",
      "도시명 : Beijing\n",
      "도시명 : Tokyo\n"
     ]
    }
   ],
   "source": [
    "city = [\"seoul\", \"NewYork\", \"Beijing\", \"Tokyo\"]\n",
    "print(city)\n",
    "\n",
    "for item in city:\n",
    "    print(\"도시명 :\", item)"
   ]
  },
  {
   "cell_type": "code",
   "execution_count": null,
   "id": "45d20e32",
   "metadata": {},
   "outputs": [],
   "source": []
  }
 ],
 "metadata": {
  "kernelspec": {
   "display_name": "Python 3 (ipykernel)",
   "language": "python",
   "name": "python3"
  },
  "language_info": {
   "codemirror_mode": {
    "name": "ipython",
    "version": 3
   },
   "file_extension": ".py",
   "mimetype": "text/x-python",
   "name": "python",
   "nbconvert_exporter": "python",
   "pygments_lexer": "ipython3",
   "version": "3.10.6"
  }
 },
 "nbformat": 4,
 "nbformat_minor": 5
}
