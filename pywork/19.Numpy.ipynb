{
 "cells": [
  {
   "cell_type": "markdown",
   "id": "8ece6c55",
   "metadata": {},
   "source": [
    "# 1. Numpy"
   ]
  },
  {
   "cell_type": "markdown",
   "id": "5e76c76d",
   "metadata": {},
   "source": [
    "# 1) 다차원 배열 클래스"
   ]
  },
  {
   "cell_type": "code",
   "execution_count": 7,
   "id": "444df8ce",
   "metadata": {},
   "outputs": [],
   "source": [
    "import numpy as np"
   ]
  },
  {
   "cell_type": "code",
   "execution_count": 20,
   "id": "15385086",
   "metadata": {},
   "outputs": [
    {
     "name": "stdout",
     "output_type": "stream",
     "text": [
      "[1 2 3 4 5]\n",
      "<class 'numpy.ndarray'>\n",
      "[[1 2 3]\n",
      " [4 5 6]]\n",
      "<class 'numpy.ndarray'>\n",
      "['Hello' 'Python' 'World']\n",
      "<class 'numpy.ndarray'>\n",
      "shape : (5,)\n",
      "shape : (2, 3)\n",
      "shape : (3,)\n",
      "---------------------\n",
      "ndim : 1\n",
      "ndim : 2\n",
      "ndim : 1\n",
      "---------------------\n",
      "dtype : int32\n",
      "dtype : int32\n",
      "dtype : <U6\n",
      "---------------------\n",
      "itemsize : 4\n",
      "itemsize : 4\n",
      "itemsize : 24\n",
      "---------------------\n",
      "size : 5\n",
      "size : 6\n",
      "size : 3\n"
     ]
    }
   ],
   "source": [
    "a = np.array([1, 2, 3, 4, 5])\n",
    "b = np.array([[1, 2, 3],[4, 5, 6]])\n",
    "c = np.array([\"Hello\", \"Python\", \"World\"])\n",
    "\n",
    "print(a)\n",
    "print(type(a))\n",
    "print(b)\n",
    "print(type(b))\n",
    "print(c)\n",
    "print(type(c))\n",
    "\n",
    "print(\"shape :\", a.shape)\n",
    "print(\"shape :\", b.shape)\n",
    "print(\"shape :\", c.shape)\n",
    "print(\"---------------------\")\n",
    "print(\"ndim :\", a.ndim)\n",
    "print(\"ndim :\", b.ndim)\n",
    "print(\"ndim :\", c.ndim)\n",
    "print(\"---------------------\")\n",
    "print(\"dtype :\", a.dtype)\n",
    "print(\"dtype :\", b.dtype)\n",
    "print(\"dtype :\", c.dtype)\n",
    "print(\"---------------------\")\n",
    "print(\"itemsize :\", a.itemsize)\n",
    "print(\"itemsize :\", b.itemsize)\n",
    "print(\"itemsize :\", c.itemsize)\n",
    "print(\"---------------------\")\n",
    "print(\"size :\", a.size)\n",
    "print(\"size :\", b.size)\n",
    "print(\"size :\", c.size)"
   ]
  },
  {
   "cell_type": "markdown",
   "id": "a5d2bcb6",
   "metadata": {},
   "source": [
    "# 2) 주요 메소드 / 함수"
   ]
  },
  {
   "cell_type": "code",
   "execution_count": 19,
   "id": "d2e5a062",
   "metadata": {},
   "outputs": [
    {
     "name": "stdout",
     "output_type": "stream",
     "text": [
      "5\n",
      "1\n",
      "3.0\n",
      "[1 2 3 4 5 6]\n"
     ]
    }
   ],
   "source": [
    "a = np.array([1, 2, 3, 4, 5])\n",
    "b = np.array([[1, 2, 3],[4, 5, 6]])\n",
    "\n",
    "print(a.max())\n",
    "print(a.min())\n",
    "print(a.mean())\n",
    "print(b.flatten())"
   ]
  },
  {
   "cell_type": "code",
   "execution_count": 35,
   "id": "605449e4",
   "metadata": {},
   "outputs": [
    {
     "name": "stdout",
     "output_type": "stream",
     "text": [
      "[1 2 3 4 5 6 7 8 9]\n",
      "----------------------\n",
      "[[1 2 3]\n",
      " [4 5 6]\n",
      " [7 8 9]]\n",
      "----------------------\n",
      "[[ 4  5  6]\n",
      " [ 7  8  9]\n",
      " [10 11 12]\n",
      " [13 14 15]]\n",
      "----------------------\n",
      "[[ 4  5  6 10 11 12]\n",
      " [ 7  8  9 13 14 15]]\n"
     ]
    }
   ],
   "source": [
    "a = np.array([1, 2, 3])\n",
    "b = np.array([[4, 5, 6,],[7, 8, 9]])\n",
    "c = np.array([[10, 11, 12],[13, 14, 15]])\n",
    "\n",
    "print(np.append(a, b))\n",
    "print(\"----------------------\")\n",
    "print(np.append([a], b, axis=0))\n",
    "print(\"----------------------\")\n",
    "print(np.append(b, c, axis=0))\n",
    "print(\"----------------------\")\n",
    "print(np.append(b, c, axis=1))"
   ]
  },
  {
   "cell_type": "code",
   "execution_count": null,
   "id": "cf416e8e",
   "metadata": {},
   "outputs": [],
   "source": []
  },
  {
   "cell_type": "code",
   "execution_count": 38,
   "id": "2090fada",
   "metadata": {},
   "outputs": [
    {
     "name": "stdout",
     "output_type": "stream",
     "text": [
      "[[ 6  8]\n",
      " [10 12]]\n",
      "[[-4 -4]\n",
      " [-4 -4]]\n",
      "[[ 5 12]\n",
      " [21 32]]\n",
      "[[0.2        0.33333333]\n",
      " [0.42857143 0.5       ]]\n",
      "[[    1    64]\n",
      " [ 2187 65536]]\n",
      "------------------\n",
      "[[19 22]\n",
      " [43 50]]\n",
      "[[19 22]\n",
      " [43 50]]\n"
     ]
    }
   ],
   "source": [
    "a = np.array([[1, 2],[3, 4]])\n",
    "b = np.array([[5, 6],[7, 8]])\n",
    "\n",
    "print(a+b)\n",
    "print(a-b)\n",
    "print(a*b)\n",
    "print(a/b)\n",
    "print(a**b)\n",
    "print(\"------------------\")\n",
    "#행렬곱\n",
    "print(a@b)\n",
    "print(np.matmul(a,b))"
   ]
  },
  {
   "cell_type": "markdown",
   "id": "4cc454ee",
   "metadata": {},
   "source": [
    "# 3) ndarray 생성 함수"
   ]
  },
  {
   "cell_type": "code",
   "execution_count": 44,
   "id": "54eb3622",
   "metadata": {},
   "outputs": [
    {
     "name": "stdout",
     "output_type": "stream",
     "text": [
      "[[0. 0. 0.]\n",
      " [0. 0. 0.]\n",
      " [0. 0. 0.]]\n",
      "[[1. 1. 1.]\n",
      " [1. 1. 1.]\n",
      " [1. 1. 1.]]\n",
      "[[10 10 10]\n",
      " [10 10 10]\n",
      " [10 10 10]]\n",
      "[[1. 0. 0.]\n",
      " [0. 1. 0.]\n",
      " [0. 0. 1.]]\n",
      "[0 2 4 6 8]\n"
     ]
    }
   ],
   "source": [
    "print(np.zeros((3,3)))\n",
    "print(np.ones((3,3)))\n",
    "print(np.full((3,3),10))\n",
    "print(np.eye(3))\n",
    "print(np.arange(0, 10, 2))"
   ]
  },
  {
   "cell_type": "code",
   "execution_count": 46,
   "id": "df4bc561",
   "metadata": {},
   "outputs": [
    {
     "name": "stdout",
     "output_type": "stream",
     "text": [
      "[ 0  1  2  3  4  5  6  7  8  9 10 11 12 13 14]\n",
      "[ 0  1  2  3  4  5  6  7  8  9 10 11 12 13 14]\n",
      "-----------------\n",
      "[[ 0  1  2  3  4]\n",
      " [ 5  6  7  8  9]\n",
      " [10 11 12 13 14]]\n",
      "[[ 0  1  2  3  4]\n",
      " [ 5  6  7  8  9]\n",
      " [10 11 12 13 14]]\n",
      "-----------------\n",
      "[[ 0  5 10]\n",
      " [ 1  6 11]\n",
      " [ 2  7 12]\n",
      " [ 3  8 13]\n",
      " [ 4  9 14]]\n",
      "[[ 0  5 10]\n",
      " [ 1  6 11]\n",
      " [ 2  7 12]\n",
      " [ 3  8 13]\n",
      " [ 4  9 14]]\n"
     ]
    }
   ],
   "source": [
    "a = np.arange(15)\n",
    "print(np.arange(15))\n",
    "print(a)\n",
    "print(\"-----------------\")\n",
    "b = a.reshape(3,5)\n",
    "print(np.arange(15).reshape(3,5))\n",
    "print(b)\n",
    "print(\"-----------------\")\n",
    "c = b.transpose()\n",
    "print(np.arange(15).reshape(3,5).transpose())\n",
    "print(c)"
   ]
  },
  {
   "cell_type": "markdown",
   "id": "b8eee7fc",
   "metadata": {},
   "source": [
    "# 4) 다차원 배열의 축"
   ]
  },
  {
   "cell_type": "code",
   "execution_count": 47,
   "id": "1a4d224e",
   "metadata": {},
   "outputs": [
    {
     "name": "stdout",
     "output_type": "stream",
     "text": [
      "21\n",
      "[ 9 12]\n",
      "[ 3  7 11]\n"
     ]
    }
   ],
   "source": [
    "a = np.arange(1,7).reshape(3,2)\n",
    "print(a.sum())\n",
    "print(a.sum(axis = 0))\n",
    "print(a.sum(axis = 1))"
   ]
  },
  {
   "cell_type": "code",
   "execution_count": 54,
   "id": "8cb91f7f",
   "metadata": {},
   "outputs": [
    {
     "name": "stdout",
     "output_type": "stream",
     "text": [
      "[[1 2]\n",
      " [3 4]\n",
      " [5 6]]\n",
      "----------------\n",
      "[ 1 10  2  3  4  5  6]\n",
      "[[ 1  2]\n",
      " [10 10]\n",
      " [ 3  4]\n",
      " [ 5  6]]\n",
      "[[ 1 10  2]\n",
      " [ 3 10  4]\n",
      " [ 5 10  6]]\n",
      "----------------\n",
      "[[1 2]\n",
      " [5 6]]\n",
      "[[1]\n",
      " [3]\n",
      " [5]]\n"
     ]
    }
   ],
   "source": [
    "a = np.arange(1,7).reshape(3,2)\n",
    "print(a)\n",
    "print(\"----------------\")\n",
    "print(np.insert(a, 1, 10))\n",
    "print(np.insert(a, 1, 10, axis=0))\n",
    "print(np.insert(a, 1, 10, axis=1))\n",
    "print(\"----------------\")\n",
    "print(np.delete(a, 1, axis = 0))\n",
    "print(np.delete(a, 1, axis = 1))"
   ]
  },
  {
   "cell_type": "markdown",
   "id": "12cc491d",
   "metadata": {},
   "source": [
    "# 5) 인덱싱과 슬라이싱"
   ]
  },
  {
   "cell_type": "code",
   "execution_count": 59,
   "id": "04abf5d1",
   "metadata": {},
   "outputs": [
    {
     "name": "stdout",
     "output_type": "stream",
     "text": [
      "[0 1 2 3 4]\n",
      "0 3 4\n",
      "[0 3 4]\n"
     ]
    }
   ],
   "source": [
    "a = np.arange(0,5)\n",
    "print(a)\n",
    "print(a[0], a[3], a[-1])\n",
    "print(a[[0, 3, -1]])  # numpy only"
   ]
  },
  {
   "cell_type": "code",
   "execution_count": 61,
   "id": "7bbcc025",
   "metadata": {},
   "outputs": [
    {
     "name": "stdout",
     "output_type": "stream",
     "text": [
      "[0 1 2 3 4 5 6 7 8 9]\n",
      "------------------------\n",
      "[0 1 2]\n",
      "[3 4 5 6]\n",
      "[0 2 4 6 8]\n",
      "[9 8 7 6 5 4 3 2 1 0]\n"
     ]
    }
   ],
   "source": [
    "a = np.arange(0,10)\n",
    "print(a)\n",
    "\n",
    "print(\"------------------------\")\n",
    "print(a[:3])\n",
    "print(a[3:7])\n",
    "print(a[::2])\n",
    "print(a[::-1])"
   ]
  },
  {
   "cell_type": "code",
   "execution_count": 65,
   "id": "f125818f",
   "metadata": {},
   "outputs": [
    {
     "name": "stdout",
     "output_type": "stream",
     "text": [
      "[[1 2]\n",
      " [3 4]\n",
      " [5 6]]\n",
      "------------------------\n",
      "2\n",
      "6\n",
      "------------------------\n",
      "2\n",
      "6\n"
     ]
    }
   ],
   "source": [
    "a = np.array([[1,2],[3,4],[5,6]])\n",
    "print(a)\n",
    "\n",
    "print(\"------------------------\")\n",
    "print(a[0][1])\n",
    "print(a[2][1])\n",
    "print(\"------------------------\")\n",
    "print(a[0,1])\n",
    "print(a[2,1])"
   ]
  },
  {
   "cell_type": "code",
   "execution_count": 71,
   "id": "e2d510a8",
   "metadata": {},
   "outputs": [
    {
     "name": "stdout",
     "output_type": "stream",
     "text": [
      "[[1 2]\n",
      " [3 4]\n",
      " [5 6]]\n",
      "------------------------\n",
      "[[1 2]\n",
      " [3 4]]\n",
      "------------------------\n",
      "[3 4]\n",
      "[2 4]\n",
      "------------------------\n",
      "4\n"
     ]
    }
   ],
   "source": [
    "a = np.array([[1,2],[3,4],[5,6]])\n",
    "print(a)\n",
    "\n",
    "print(\"------------------------\")\n",
    "print(a[:2])\n",
    "print(\"------------------------\")\n",
    "print(a[:2][1])\n",
    "print(a[:2, 1])\n",
    "print(\"------------------------\")\n",
    "print(a[:2][1][1])"
   ]
  },
  {
   "cell_type": "code",
   "execution_count": null,
   "id": "b18d714e",
   "metadata": {},
   "outputs": [],
   "source": []
  }
 ],
 "metadata": {
  "kernelspec": {
   "display_name": "Python 3 (ipykernel)",
   "language": "python",
   "name": "python3"
  },
  "language_info": {
   "codemirror_mode": {
    "name": "ipython",
    "version": 3
   },
   "file_extension": ".py",
   "mimetype": "text/x-python",
   "name": "python",
   "nbconvert_exporter": "python",
   "pygments_lexer": "ipython3",
   "version": "3.10.6"
  }
 },
 "nbformat": 4,
 "nbformat_minor": 5
}
