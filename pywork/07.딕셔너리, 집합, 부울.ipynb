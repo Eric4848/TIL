{
 "cells": [
  {
   "cell_type": "markdown",
   "id": "37726c46",
   "metadata": {},
   "source": [
    "# 1. 딕셔너리"
   ]
  },
  {
   "cell_type": "markdown",
   "id": "405f8954",
   "metadata": {},
   "source": [
    "# 1) 딕셔너리 생성"
   ]
  },
  {
   "cell_type": "code",
   "execution_count": 25,
   "id": "58e9e203",
   "metadata": {},
   "outputs": [
    {
     "name": "stdout",
     "output_type": "stream",
     "text": [
      "{'name': 'LEE', 'age': 30, 'addr': 'gangnam seoul'}\n",
      "{'name': 'LEE', 'age': 30, 'adrr': 'gangnam seoul'}\n",
      "['name', 'age', 'addr']\n",
      "['LEE', 30, 'gangnam seoul']\n",
      "[('name', 'LEE'), ('age', 30), ('addr', 'gangnam seoul')]\n",
      "(('name', 'LEE'), ('age', 30), ('addr', 'gangnam seoul'))\n",
      "{'name': 'LEE', 'age': 30, 'addr': 'gangnam seoul'}\n"
     ]
    }
   ],
   "source": [
    "dict_a = {\"name\": \"LEE\", \"age\": 30, \"addr\": \"gangnam seoul\"}\n",
    "print(dict_a)\n",
    "\n",
    "dict_b = dict(name = \"LEE\", age = 30, adrr = \"gangnam seoul\")\n",
    "print(dict_b)\n",
    "\n",
    "keys = [\"name\", \"age\", \"addr\"]\n",
    "print(keys)\n",
    "\n",
    "values = [\"LEE\", 30, \"gangnam seoul\"]\n",
    "print(values)\n",
    "\n",
    "print(list(zip(keys, values)))\n",
    "print(tuple(zip(keys, values)))\n",
    "\n",
    "dict_c = dict(zip(keys, values))\n",
    "print(dict_c)"
   ]
  },
  {
   "cell_type": "markdown",
   "id": "f2f721e6",
   "metadata": {},
   "source": [
    "# 2) 딕셔너리 검색 / 추가 / 수정 / 삭제 "
   ]
  },
  {
   "cell_type": "code",
   "execution_count": 30,
   "id": "f83d7798",
   "metadata": {},
   "outputs": [
    {
     "name": "stdout",
     "output_type": "stream",
     "text": [
      "LEE\n"
     ]
    },
    {
     "ename": "KeyError",
     "evalue": "'score'",
     "output_type": "error",
     "traceback": [
      "\u001b[1;31m---------------------------------------------------------------------------\u001b[0m",
      "\u001b[1;31mKeyError\u001b[0m                                  Traceback (most recent call last)",
      "Cell \u001b[1;32mIn[30], line 3\u001b[0m\n\u001b[0;32m      1\u001b[0m \u001b[38;5;66;03m#검색\u001b[39;00m\n\u001b[0;32m      2\u001b[0m \u001b[38;5;28mprint\u001b[39m(dict_a[\u001b[38;5;124m\"\u001b[39m\u001b[38;5;124mname\u001b[39m\u001b[38;5;124m\"\u001b[39m])\n\u001b[1;32m----> 3\u001b[0m \u001b[38;5;28mprint\u001b[39m(\u001b[43mdict_a\u001b[49m\u001b[43m[\u001b[49m\u001b[38;5;124;43m\"\u001b[39;49m\u001b[38;5;124;43mscore\u001b[39;49m\u001b[38;5;124;43m\"\u001b[39;49m\u001b[43m]\u001b[49m)\n",
      "\u001b[1;31mKeyError\u001b[0m: 'score'"
     ]
    }
   ],
   "source": [
    "#검색\n",
    "print(dict_a[\"name\"])\n",
    "#없는 key 검색 시 에러 발생 ->예외처리 필요\n",
    "print(dict_a[\"score\"])"
   ]
  },
  {
   "cell_type": "code",
   "execution_count": 34,
   "id": "5826f56a",
   "metadata": {},
   "outputs": [
    {
     "name": "stdout",
     "output_type": "stream",
     "text": [
      "{'name': 'PARK', 'age': 30, 'addr': 'gangnam seoul', 'email': 'Lee123@gamil.com'}\n"
     ]
    }
   ],
   "source": [
    "#추가\n",
    "dict_a[\"email\"] = \"Lee123@gamil.com\"\n",
    "print(dict_a)"
   ]
  },
  {
   "cell_type": "code",
   "execution_count": 31,
   "id": "a03dffe8",
   "metadata": {},
   "outputs": [
    {
     "name": "stdout",
     "output_type": "stream",
     "text": [
      "{'name': 'PARK', 'age': 30, 'addr': 'gangnam seoul', 'email': 'Lee123@gamil.com'}\n"
     ]
    }
   ],
   "source": [
    "#수정\n",
    "dict_a[\"name\"] = \"PARK\"\n",
    "print(dict_a)"
   ]
  },
  {
   "cell_type": "code",
   "execution_count": 35,
   "id": "7940d745",
   "metadata": {},
   "outputs": [
    {
     "name": "stdout",
     "output_type": "stream",
     "text": [
      "{'name': 'PARK', 'age': 30, 'addr': 'gangnam seoul'}\n"
     ]
    },
    {
     "ename": "KeyError",
     "evalue": "'score'",
     "output_type": "error",
     "traceback": [
      "\u001b[1;31m---------------------------------------------------------------------------\u001b[0m",
      "\u001b[1;31mKeyError\u001b[0m                                  Traceback (most recent call last)",
      "Cell \u001b[1;32mIn[35], line 4\u001b[0m\n\u001b[0;32m      2\u001b[0m \u001b[38;5;28;01mdel\u001b[39;00m dict_a[\u001b[38;5;124m\"\u001b[39m\u001b[38;5;124memail\u001b[39m\u001b[38;5;124m\"\u001b[39m]\n\u001b[0;32m      3\u001b[0m \u001b[38;5;28mprint\u001b[39m(dict_a)\n\u001b[1;32m----> 4\u001b[0m \u001b[38;5;28;01mdel\u001b[39;00m dict_a[\u001b[38;5;124m\"\u001b[39m\u001b[38;5;124mscore\u001b[39m\u001b[38;5;124m\"\u001b[39m]\n\u001b[0;32m      5\u001b[0m \u001b[38;5;28mprint\u001b[39m(dict_a)\n",
      "\u001b[1;31mKeyError\u001b[0m: 'score'"
     ]
    }
   ],
   "source": [
    "#삭제\n",
    "del dict_a[\"email\"]\n",
    "print(dict_a)\n",
    "#삭제하려는 key 없을 시 에러 발생\n",
    "del dict_a[\"score\"]\n",
    "print(dict_a)"
   ]
  },
  {
   "cell_type": "markdown",
   "id": "f9ac5946",
   "metadata": {},
   "source": [
    "# 3)딕셔너리 메서드"
   ]
  },
  {
   "cell_type": "code",
   "execution_count": 48,
   "id": "0f7a9468",
   "metadata": {},
   "outputs": [
    {
     "name": "stdout",
     "output_type": "stream",
     "text": [
      "PARK\n",
      "None\n",
      "score 항목이 없습니다\n"
     ]
    }
   ],
   "source": [
    "#get\n",
    "\n",
    "print(dict_a.get(\"name\"))\n",
    "print(dict_a.get(\"score\"))\n",
    "print(dict_a.get(\"score\", \"score 항목이 없습니다\"))"
   ]
  },
  {
   "cell_type": "code",
   "execution_count": 52,
   "id": "c4c8e820",
   "metadata": {},
   "outputs": [
    {
     "name": "stdout",
     "output_type": "stream",
     "text": [
      "dict_keys(['name', 'age', 'addr'])\n",
      "<class 'dict_keys'>\n",
      "dict_values(['PARK', 30, 'gangnam seoul'])\n",
      "<class 'dict_values'>\n",
      "dict_items([('name', 'PARK'), ('age', 30), ('addr', 'gangnam seoul')])\n",
      "<class 'dict_items'>\n"
     ]
    }
   ],
   "source": [
    "#keys, values, items\n",
    "\n",
    "print(dict_a.keys())\n",
    "print(type(dict_a.keys()))\n",
    "\n",
    "print(dict_a.values())\n",
    "print(type(dict_a.values()))\n",
    "\n",
    "print(dict_a.items())\n",
    "print(type(dict_a.items()))"
   ]
  },
  {
   "cell_type": "code",
   "execution_count": 57,
   "id": "724ff5c8",
   "metadata": {},
   "outputs": [
    {
     "name": "stdout",
     "output_type": "stream",
     "text": [
      "dict a : {'name': 'Lee', 'age': 30}\n",
      "dict b : {'addr': 'gangnam seoul', 'email': 'lee123@gamil.com'}\n",
      "dict c : {'age': 50}\n",
      "updateted dict a : {'name': 'Lee', 'age': 30, 'addr': 'gangnam seoul', 'email': 'lee123@gamil.com'}\n",
      "updateted dict a : {'name': 'Lee', 'age': 50, 'addr': 'gangnam seoul', 'email': 'lee123@gamil.com'}\n"
     ]
    }
   ],
   "source": [
    "#update\n",
    "\n",
    "dict_a = dict(name = \"Lee\", age = 30)\n",
    "dict_b = dict(addr = \"gangnam seoul\", email = \"lee123@gamil.com\")\n",
    "dict_c = dict(age = 50)\n",
    "\n",
    "print(\"dict a :\", dict_a)\n",
    "print(\"dict b :\", dict_b)\n",
    "print(\"dict c :\", dict_c)\n",
    "\n",
    "dict_a.update(dict_b)\n",
    "print(\"updateted dict a :\", dict_a)\n",
    "\n",
    "dict_a.update(dict_c)\n",
    "print(\"updateted dict a :\", dict_a)"
   ]
  },
  {
   "cell_type": "code",
   "execution_count": 60,
   "id": "aa352ff4",
   "metadata": {},
   "outputs": [
    {
     "name": "stdout",
     "output_type": "stream",
     "text": [
      "{'age': 30}\n",
      "{}\n",
      "(('a', '1'), ('b', '2'), ('c', '3'))\n",
      "<class 'tuple'>\n",
      "{'a': '1', 'b': '2', 'c': '3'}\n",
      "<class 'dict'>\n"
     ]
    }
   ],
   "source": [
    "#clear, dict\n",
    "\n",
    "dict_c = dict(age = 30)\n",
    "print(dict_c)\n",
    "dict_c.clear()\n",
    "print(dict_c)\n",
    "\n",
    "a = ((\"a\", \"1\"), (\"b\", \"2\"), (\"c\", \"3\"))\n",
    "print(a)\n",
    "print(type(a))\n",
    "\n",
    "b = dict(a)\n",
    "print(b)\n",
    "print(type(b))"
   ]
  },
  {
   "cell_type": "code",
   "execution_count": 61,
   "id": "81415811",
   "metadata": {},
   "outputs": [
    {
     "name": "stdout",
     "output_type": "stream",
     "text": [
      "{'name': 'Lee', 'age': 50, 'addr': 'gangnam seoul', 'email': 'lee123@gamil.com'}\n",
      "True\n",
      "False\n"
     ]
    }
   ],
   "source": [
    "# in, not in\n",
    "\n",
    "print(dict_a)\n",
    "print(\"name\" in dict_a)\n",
    "print(\"age\" not in dict_a)"
   ]
  },
  {
   "cell_type": "markdown",
   "id": "c1c8a978",
   "metadata": {},
   "source": [
    "# 2. 집합"
   ]
  },
  {
   "cell_type": "markdown",
   "id": "42cd2b07",
   "metadata": {},
   "source": [
    "# 1) 집합 생성"
   ]
  },
  {
   "cell_type": "code",
   "execution_count": 65,
   "id": "66aad8a5",
   "metadata": {},
   "outputs": [
    {
     "name": "stdout",
     "output_type": "stream",
     "text": [
      "<class 'set'>\n",
      "{'b', 'c', 'a', 'd', 'e'}\n",
      "[1, 2, 3, 4, 5, 6, 1, 3, 2, 7, 0, 4, 6]\n",
      "{0, 1, 2, 3, 4, 5, 6, 7}\n"
     ]
    }
   ],
   "source": [
    "#순서가 없다/ 중복된 것은 제거된다\n",
    "a = {\"a\", \"b\", \"c\", \"d\", \"e\"}\n",
    "\n",
    "print(type(a))\n",
    "print(a)\n",
    "\n",
    "b = [1, 2, 3, 4, 5, 6, 1, 3, 2, 7, 0, 4, 6]\n",
    "print(b)\n",
    "print(set(b))"
   ]
  },
  {
   "cell_type": "markdown",
   "id": "a91d87d6",
   "metadata": {},
   "source": [
    "# 2) 집합 메소드"
   ]
  },
  {
   "cell_type": "code",
   "execution_count": 72,
   "id": "df5b4fc1",
   "metadata": {},
   "outputs": [
    {
     "name": "stdout",
     "output_type": "stream",
     "text": [
      "{'b', 'c', 'a', 'd', 'f', 'e'}\n",
      "{1, 2, 3, 4, 5, 'a', 'e', 'b', 'c', 'd', 'f'}\n",
      "{1, 2, 3, 4, 5, 'a', 'e', 'b', 'c', 'f'}\n"
     ]
    }
   ],
   "source": [
    "# add, update, remove\n",
    "\n",
    "a = {\"a\", \"b\", \"c\", \"d\", \"e\"}\n",
    "b = {1, 2, 3, 4, 5}\n",
    "\n",
    "a.add(\"f\")\n",
    "print(a)\n",
    "\n",
    "a.update(b)\n",
    "print(a)\n",
    "\n",
    "a.remove(\"d\")\n",
    "print(a)"
   ]
  },
  {
   "cell_type": "code",
   "execution_count": 81,
   "id": "43eb98a9",
   "metadata": {},
   "outputs": [
    {
     "name": "stdout",
     "output_type": "stream",
     "text": [
      "{'D', 'B', 'C', 'A', 'E'}\n",
      "{'D', 'B', 'C', 'A', 'E'}\n",
      "{'D', 'C', 'B'}\n",
      "{'A', 'E'}\n",
      "{'F', 'A', 'E'}\n",
      "False\n",
      "True\n"
     ]
    }
   ],
   "source": [
    "# 연산\n",
    "\n",
    "a = {\"A\", \"B\", \"C\", \"D\", \"E\"}\n",
    "b = {\"B\", \"C\", \"D\"}\n",
    "c = {\"B\", \"C\", \"D\", \"F\"}\n",
    "\n",
    "\n",
    "print(a.union(b))\n",
    "print(a|b)\n",
    "print(a&b)\n",
    "print(a-b)\n",
    "print(a^c)\n",
    "print(a<=b)\n",
    "print(a>=b)"
   ]
  },
  {
   "cell_type": "markdown",
   "id": "33abb26e",
   "metadata": {},
   "source": [
    "# 3. 부울"
   ]
  },
  {
   "cell_type": "markdown",
   "id": "c82a24cf",
   "metadata": {},
   "source": [
    "# 1) 부울 생성"
   ]
  },
  {
   "cell_type": "code",
   "execution_count": 86,
   "id": "9f0da4b4",
   "metadata": {},
   "outputs": [
    {
     "name": "stdout",
     "output_type": "stream",
     "text": [
      "True False\n",
      "<class 'bool'> <class 'bool'>\n"
     ]
    }
   ],
   "source": [
    "a = True\n",
    "b = False\n",
    "\n",
    "print(a, b)\n",
    "print(type(a), type(b))"
   ]
  },
  {
   "cell_type": "markdown",
   "id": "22eb7c51",
   "metadata": {},
   "source": [
    "# 2) 조건"
   ]
  },
  {
   "cell_type": "code",
   "execution_count": 85,
   "id": "39282821",
   "metadata": {},
   "outputs": [
    {
     "name": "stdout",
     "output_type": "stream",
     "text": [
      "False\n",
      "True\n"
     ]
    }
   ],
   "source": [
    "a = 1\n",
    "b = 2\n",
    "\n",
    "print(a == b)\n",
    "print(a < b)"
   ]
  },
  {
   "cell_type": "markdown",
   "id": "fff65fe3",
   "metadata": {},
   "source": [
    "# 3) 메소드"
   ]
  },
  {
   "cell_type": "code",
   "execution_count": 87,
   "id": "f2dac65f",
   "metadata": {},
   "outputs": [
    {
     "name": "stdout",
     "output_type": "stream",
     "text": [
      "True\n",
      "False\n",
      "True\n",
      "False\n",
      "True\n",
      "False\n"
     ]
    }
   ],
   "source": [
    "print(bool(\"abc\"))\n",
    "print(bool(\"\"))\n",
    "print(bool([1,2,3]))\n",
    "print(bool([]))\n",
    "print(bool(3))\n",
    "print(bool(0))"
   ]
  }
 ],
 "metadata": {
  "kernelspec": {
   "display_name": "Python 3 (ipykernel)",
   "language": "python",
   "name": "python3"
  },
  "language_info": {
   "codemirror_mode": {
    "name": "ipython",
    "version": 3
   },
   "file_extension": ".py",
   "mimetype": "text/x-python",
   "name": "python",
   "nbconvert_exporter": "python",
   "pygments_lexer": "ipython3",
   "version": "3.10.6"
  }
 },
 "nbformat": 4,
 "nbformat_minor": 5
}
