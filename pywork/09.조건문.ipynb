{
 "cells": [
  {
   "cell_type": "markdown",
   "id": "7ed8bce4",
   "metadata": {},
   "source": [
    "# 1. 조건문"
   ]
  },
  {
   "cell_type": "markdown",
   "id": "d42b063b",
   "metadata": {},
   "source": [
    "# 1)if 조건문"
   ]
  },
  {
   "cell_type": "code",
   "execution_count": 2,
   "id": "6741de9f",
   "metadata": {},
   "outputs": [
    {
     "name": "stdout",
     "output_type": "stream",
     "text": [
      "10\n",
      "10\n",
      "10\n",
      "10\n"
     ]
    }
   ],
   "source": [
    "a = 10\n",
    "b = 10\n",
    "if a>0:\n",
    "    print(a)\n",
    "    print(b)\n",
    "\n",
    "if a>=b:\n",
    "    print(a)\n",
    "    print(b)\n",
    "    \n",
    "if a>b:\n",
    "    print(a)"
   ]
  },
  {
   "cell_type": "code",
   "execution_count": 21,
   "id": "dfc80e0f",
   "metadata": {},
   "outputs": [
    {
     "name": "stdout",
     "output_type": "stream",
     "text": [
      "False\n",
      "True\n",
      "False\n"
     ]
    }
   ],
   "source": [
    "a = True\n",
    "b = False\n",
    "\n",
    "print(a&b)\n",
    "print(a|b)\n",
    "print(not a)"
   ]
  },
  {
   "cell_type": "markdown",
   "id": "4f314b15",
   "metadata": {},
   "source": [
    "# 2) if-else문"
   ]
  },
  {
   "cell_type": "code",
   "execution_count": 10,
   "id": "f5eddf33",
   "metadata": {},
   "outputs": [
    {
     "name": "stdout",
     "output_type": "stream",
     "text": [
      "10\n"
     ]
    }
   ],
   "source": [
    "a = 10\n",
    "b = 20\n",
    "if a>b:\n",
    "    print(a-b)\n",
    "else:\n",
    "    print(b-a)"
   ]
  },
  {
   "cell_type": "code",
   "execution_count": 24,
   "id": "52931557",
   "metadata": {},
   "outputs": [
    {
     "name": "stdout",
     "output_type": "stream",
     "text": [
      "taxi\n"
     ]
    }
   ],
   "source": [
    "money = 2000\n",
    "card = True\n",
    "\n",
    "if (money>3000 or card):\n",
    "    print(\"taxi\")\n",
    "else:\n",
    "    print(\"walk\")"
   ]
  },
  {
   "cell_type": "markdown",
   "id": "11d8cb2c",
   "metadata": {},
   "source": [
    "# 3) if-elif-else문"
   ]
  },
  {
   "cell_type": "code",
   "execution_count": 28,
   "id": "b6642953",
   "metadata": {},
   "outputs": [
    {
     "name": "stdout",
     "output_type": "stream",
     "text": [
      "B\n"
     ]
    }
   ],
   "source": [
    "#기본형\n",
    "\n",
    "score = 85\n",
    "\n",
    "if score >= 90:\n",
    "    print(\"A\")\n",
    "elif score >= 80:\n",
    "    print(\"B\")\n",
    "elif score >= 70:\n",
    "    print(\"c\")\n",
    "elif score >= 60:\n",
    "    print(\"D\")\n",
    "else:\n",
    "    print(\"F\")"
   ]
  },
  {
   "cell_type": "code",
   "execution_count": 37,
   "id": "68fc5be8",
   "metadata": {},
   "outputs": [
    {
     "name": "stdout",
     "output_type": "stream",
     "text": [
      "현재 가지고 있는 현금이 얼마입니까? : 1\n",
      "거리가 몇 km입니까? : 0.5\n",
      "걸어가세요\n"
     ]
    }
   ],
   "source": [
    "money = int(input(\"현재 가지고 있는 현금이 얼마입니까? : \"))\n",
    "distance = float(input(\"거리가 몇 km입니까? : \"))\n",
    "\n",
    "if money >= 3000:\n",
    "    print(\"택시를 이용하세요\")\n",
    "elif money >= 2000:\n",
    "    print(\"버스를 이용하세요\")\n",
    "else:\n",
    "    if distance >= 1:\n",
    "        print(\"뛰어가세요\")\n",
    "    else:\n",
    "        print(\"걸어가세요\")"
   ]
  },
  {
   "cell_type": "code",
   "execution_count": 38,
   "id": "5b45cd13",
   "metadata": {},
   "outputs": [
    {
     "name": "stdout",
     "output_type": "stream",
     "text": [
      "택시를 이용하세요\n"
     ]
    }
   ],
   "source": [
    "pocket = [\"paper\", \"cellphone\", \"money\"]\n",
    "\n",
    "if \"money\" in pocket:\n",
    "    print(\"택시를 이용하세요\")\n",
    "else:\n",
    "    print(\"걸어가세요\")"
   ]
  }
 ],
 "metadata": {
  "kernelspec": {
   "display_name": "Python 3 (ipykernel)",
   "language": "python",
   "name": "python3"
  },
  "language_info": {
   "codemirror_mode": {
    "name": "ipython",
    "version": 3
   },
   "file_extension": ".py",
   "mimetype": "text/x-python",
   "name": "python",
   "nbconvert_exporter": "python",
   "pygments_lexer": "ipython3",
   "version": "3.10.6"
  }
 },
 "nbformat": 4,
 "nbformat_minor": 5
}
