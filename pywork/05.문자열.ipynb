{
 "cells": [
  {
   "cell_type": "markdown",
   "id": "e4a93335",
   "metadata": {},
   "source": [
    "# 인덱싱/슬라이싱"
   ]
  },
  {
   "cell_type": "markdown",
   "id": "daf02f04",
   "metadata": {},
   "source": [
    "# 1)인덱싱"
   ]
  },
  {
   "cell_type": "code",
   "execution_count": 2,
   "id": "55c5b2a0",
   "metadata": {},
   "outputs": [
    {
     "name": "stdout",
     "output_type": "stream",
     "text": [
      "Hello, Python!\n"
     ]
    }
   ],
   "source": [
    "stra = \"Hello, Python!\"\n",
    "\n",
    "print(stra)"
   ]
  },
  {
   "cell_type": "code",
   "execution_count": 3,
   "id": "f69f9941",
   "metadata": {},
   "outputs": [
    {
     "name": "stdout",
     "output_type": "stream",
     "text": [
      "P\n",
      "P\n",
      "H\n",
      "!\n"
     ]
    }
   ],
   "source": [
    "print(stra[7])\n",
    "print(stra[-7])\n",
    "\n",
    "print(stra[0])\n",
    "print(stra[-1])"
   ]
  },
  {
   "cell_type": "markdown",
   "id": "d2da391c",
   "metadata": {},
   "source": [
    "# 2)슬라이싱"
   ]
  },
  {
   "cell_type": "code",
   "execution_count": 4,
   "id": "43480827",
   "metadata": {},
   "outputs": [
    {
     "name": "stdout",
     "output_type": "stream",
     "text": [
      "Life\n",
      "Life\n",
      "Life is too short, You need python\n"
     ]
    }
   ],
   "source": [
    "stra = \"Life is too short, You need python\"\n",
    "\n",
    "print(stra[0:4])\n",
    "print(stra[:4])\n",
    "print(stra)"
   ]
  },
  {
   "cell_type": "code",
   "execution_count": 5,
   "id": "af3fc4ca",
   "metadata": {},
   "outputs": [
    {
     "name": "stdout",
     "output_type": "stream",
     "text": [
      "Lf stosot o edpto\n",
      "nohtyp deen uoY ,trohs oot si efiL\n"
     ]
    }
   ],
   "source": [
    "print(stra[::2])\n",
    "print(stra[::-1])"
   ]
  },
  {
   "cell_type": "code",
   "execution_count": 6,
   "id": "3a7149d6",
   "metadata": {},
   "outputs": [
    {
     "name": "stdout",
     "output_type": "stream",
     "text": [
      "Hello\n"
     ]
    }
   ],
   "source": [
    "stra = \"HeLlo\"\n",
    "\n",
    "strb = stra[:2] + \"l\" + stra[3:5]\n",
    "print(strb)"
   ]
  },
  {
   "cell_type": "code",
   "execution_count": 7,
   "id": "9c5653fd",
   "metadata": {},
   "outputs": [
    {
     "name": "stdout",
     "output_type": "stream",
     "text": [
      "98 년 08 월 08 일 성별 남자\n"
     ]
    }
   ],
   "source": [
    "resno = \"980808-1067718\"\n",
    "\n",
    "year = resno[0:2]\n",
    "month = resno[2:4]\n",
    "date = resno[4:6]\n",
    "gen = resno[7]\n",
    "\n",
    "if gen in [\"1\",\"3\"]:\n",
    "    gen = \"남자\"\n",
    "else:\n",
    "    gen = \"여자\"\n",
    "\n",
    "print(year,\"년\",month,\"월\",date,\"일\",\"성별\",gen)"
   ]
  },
  {
   "cell_type": "markdown",
   "id": "216a0130",
   "metadata": {},
   "source": [
    "# 2.문자열 메소드"
   ]
  },
  {
   "cell_type": "markdown",
   "id": "bd2dd3a5",
   "metadata": {},
   "source": [
    "# 1)검색 메소드"
   ]
  },
  {
   "cell_type": "code",
   "execution_count": 8,
   "id": "88e0f616",
   "metadata": {},
   "outputs": [
    {
     "name": "stdout",
     "output_type": "stream",
     "text": [
      "6\n",
      "3\n",
      "-1\n",
      "21\n",
      "18\n",
      "-1\n"
     ]
    }
   ],
   "source": [
    "value = \"Hello Python!, Hello Python World!\"\n",
    "\n",
    "print(value.find(\"P\"))\n",
    "print(value.find(\"lo\"))\n",
    "print(value.find(\"k\"))\n",
    "print(value.rfind(\"P\"))\n",
    "print(value.rfind(\"lo\"))\n",
    "print(value.rfind(\"k\"))"
   ]
  },
  {
   "cell_type": "code",
   "execution_count": 9,
   "id": "afd3692d",
   "metadata": {},
   "outputs": [
    {
     "name": "stdout",
     "output_type": "stream",
     "text": [
      "6\n",
      "3\n"
     ]
    },
    {
     "ename": "ValueError",
     "evalue": "substring not found",
     "output_type": "error",
     "traceback": [
      "\u001b[1;31m---------------------------------------------------------------------------\u001b[0m",
      "\u001b[1;31mValueError\u001b[0m                                Traceback (most recent call last)",
      "Cell \u001b[1;32mIn[9], line 5\u001b[0m\n\u001b[0;32m      3\u001b[0m \u001b[38;5;28mprint\u001b[39m(value\u001b[38;5;241m.\u001b[39mindex(\u001b[38;5;124m\"\u001b[39m\u001b[38;5;124mP\u001b[39m\u001b[38;5;124m\"\u001b[39m))\n\u001b[0;32m      4\u001b[0m \u001b[38;5;28mprint\u001b[39m(value\u001b[38;5;241m.\u001b[39mindex(\u001b[38;5;124m\"\u001b[39m\u001b[38;5;124mlo\u001b[39m\u001b[38;5;124m\"\u001b[39m))\n\u001b[1;32m----> 5\u001b[0m \u001b[38;5;28mprint\u001b[39m(\u001b[43mvalue\u001b[49m\u001b[38;5;241;43m.\u001b[39;49m\u001b[43mindex\u001b[49m\u001b[43m(\u001b[49m\u001b[38;5;124;43m\"\u001b[39;49m\u001b[38;5;124;43mk\u001b[39;49m\u001b[38;5;124;43m\"\u001b[39;49m\u001b[43m)\u001b[49m)\n\u001b[0;32m      6\u001b[0m \u001b[38;5;28mprint\u001b[39m(value\u001b[38;5;241m.\u001b[39mrindex(\u001b[38;5;124m\"\u001b[39m\u001b[38;5;124mP\u001b[39m\u001b[38;5;124m\"\u001b[39m))\n\u001b[0;32m      7\u001b[0m \u001b[38;5;28mprint\u001b[39m(value\u001b[38;5;241m.\u001b[39mrindex(\u001b[38;5;124m\"\u001b[39m\u001b[38;5;124mlo\u001b[39m\u001b[38;5;124m\"\u001b[39m))\n",
      "\u001b[1;31mValueError\u001b[0m: substring not found"
     ]
    }
   ],
   "source": [
    "value = \"Hello Python!, Hello Python World!\"\n",
    "\n",
    "print(value.index(\"P\"))\n",
    "print(value.index(\"lo\"))\n",
    "print(value.index(\"k\"))\n",
    "print(value.rindex(\"P\"))\n",
    "print(value.rindex(\"lo\"))\n",
    "print(value.rindex(\"k\"))"
   ]
  },
  {
   "cell_type": "code",
   "execution_count": 35,
   "id": "ea2c097f",
   "metadata": {},
   "outputs": [
    {
     "name": "stdout",
     "output_type": "stream",
     "text": [
      "2\n",
      "34\n"
     ]
    }
   ],
   "source": [
    "print(value.count(\"P\"))\n",
    "print(len(value))"
   ]
  },
  {
   "cell_type": "markdown",
   "id": "cd4f25a1",
   "metadata": {},
   "source": [
    "# 2) 조사 메소드"
   ]
  },
  {
   "cell_type": "code",
   "execution_count": 11,
   "id": "6c3ee1b0",
   "metadata": {},
   "outputs": [
    {
     "name": "stdout",
     "output_type": "stream",
     "text": [
      "True\n",
      "False\n"
     ]
    }
   ],
   "source": [
    "print(\"Python\" in value)\n",
    "print(\"Python\" not in value)"
   ]
  },
  {
   "cell_type": "code",
   "execution_count": 12,
   "id": "c194e464",
   "metadata": {},
   "outputs": [
    {
     "name": "stdout",
     "output_type": "stream",
     "text": [
      "True\n",
      "True\n"
     ]
    }
   ],
   "source": [
    "print(value.startswith(\"Hello\"))\n",
    "print(value.endswith(\"!\"))"
   ]
  },
  {
   "cell_type": "code",
   "execution_count": 13,
   "id": "d92d91e4",
   "metadata": {},
   "outputs": [
    {
     "name": "stdout",
     "output_type": "stream",
     "text": [
      "False\n",
      "False\n",
      "False\n",
      "True\n",
      "True\n",
      "True\n"
     ]
    }
   ],
   "source": [
    "print(value.isalpha())\n",
    "print(value.isupper())\n",
    "print(value.islower())\n",
    "\n",
    "print(\"xcvnasd\".isalpha())\n",
    "print(\"JKNDOS\".isupper())\n",
    "print(\"value\".islower())"
   ]
  },
  {
   "cell_type": "code",
   "execution_count": 14,
   "id": "eab0ef87",
   "metadata": {},
   "outputs": [
    {
     "name": "stdout",
     "output_type": "stream",
     "text": [
      "False\n",
      "False\n",
      "False\n",
      "False\n",
      "False\n"
     ]
    }
   ],
   "source": [
    "print(value.isspace())\n",
    "print(value.isalnum())\n",
    "print(value.isdecimal())\n",
    "print(value.isdigit())\n",
    "print(value.isnumeric())"
   ]
  },
  {
   "cell_type": "code",
   "execution_count": 15,
   "id": "72a5c990",
   "metadata": {},
   "outputs": [
    {
     "name": "stdout",
     "output_type": "stream",
     "text": [
      "True\n",
      "True\n",
      "True\n",
      "True\n",
      "True\n"
     ]
    }
   ],
   "source": [
    "print(\"     \".isspace())\n",
    "print(\"cnvsk12513\".isalnum())\n",
    "print(\"6344\".isdecimal())\n",
    "print(\"13524\".isdigit())\n",
    "print(\"35234\".isnumeric())"
   ]
  },
  {
   "cell_type": "markdown",
   "id": "4b8e25f0",
   "metadata": {},
   "source": [
    "# 3) 변경 메소드"
   ]
  },
  {
   "cell_type": "code",
   "execution_count": 16,
   "id": "b45c5073",
   "metadata": {},
   "outputs": [
    {
     "name": "stdout",
     "output_type": "stream",
     "text": [
      "hello python!, hello python world!\n",
      "HELLO PYTHON!, HELLO PYTHON WORLD!\n",
      "hELLO pYTHON!, hELLO pYTHON wORLD!\n",
      "Hello python!, hello python world!\n",
      "Hello Python!, Hello Python World!\n"
     ]
    }
   ],
   "source": [
    "print(value.lower())\n",
    "print(value.upper())\n",
    "print(value.swapcase())\n",
    "print(value.capitalize())\n",
    "print(value.title())"
   ]
  },
  {
   "cell_type": "code",
   "execution_count": 17,
   "id": "fc72f029",
   "metadata": {},
   "outputs": [
    {
     "name": "stdout",
     "output_type": "stream",
     "text": [
      "Hello Python!, Hello Python World!\n",
      "Hello Python!, Hello Python World!     \n",
      "     Hello Python!, Hello Python World!\n"
     ]
    }
   ],
   "source": [
    "values = \"     \" + value+ \"     \"\n",
    "print(values.strip())\n",
    "print(values.lstrip())\n",
    "print(values.rstrip())"
   ]
  },
  {
   "cell_type": "markdown",
   "id": "b69bdc6c",
   "metadata": {},
   "source": [
    "# 3) 분할 메소드 "
   ]
  },
  {
   "cell_type": "code",
   "execution_count": 18,
   "id": "affcd48e",
   "metadata": {},
   "outputs": [
    {
     "name": "stdout",
     "output_type": "stream",
     "text": [
      "['orange', ' apple', ' banana', ' mango']\n",
      "['Hello Python', 'Hello Python World']\n"
     ]
    }
   ],
   "source": [
    "valuep = \"orange, apple, banana, mango\"\n",
    "print(valuep.split(\",\"))\n",
    "valuepl = \"Hello Python\\nHello Python World\"\n",
    "print(valuepl.splitlines())"
   ]
  },
  {
   "cell_type": "code",
   "execution_count": 19,
   "id": "3f0de638",
   "metadata": {},
   "outputs": [
    {
     "name": "stdout",
     "output_type": "stream",
     "text": [
      "a,b,c,d,e\n",
      "1abcde2abcde3\n"
     ]
    }
   ],
   "source": [
    "valuej = \"abcde\"\n",
    "\n",
    "print(\",\".join(valuej))\n",
    "print(valuej.join(\"123\"))"
   ]
  },
  {
   "cell_type": "code",
   "execution_count": 20,
   "id": "a1e4849a",
   "metadata": {},
   "outputs": [
    {
     "name": "stdout",
     "output_type": "stream",
     "text": [
      "Hi Python!, Hi Python World!\n",
      "Hi Python!, Hello Python World!\n"
     ]
    }
   ],
   "source": [
    "print(value.replace(\"Hello\",\"Hi\"))\n",
    "print(value.replace(\"Hello\",\"Hi\",1))"
   ]
  },
  {
   "cell_type": "code",
   "execution_count": 21,
   "id": "539e748b",
   "metadata": {},
   "outputs": [
    {
     "name": "stdout",
     "output_type": "stream",
     "text": [
      "-----Hello Python!, Hello Python World!                -----\n",
      "-----                Hello Python!, Hello Python World!-----\n",
      "-----        Hello Python!, Hello Python World!        -----\n"
     ]
    }
   ],
   "source": [
    "print(\"-----\"+value.ljust(50)+\"-----\")\n",
    "print(\"-----\"+value.rjust(50)+\"-----\")\n",
    "print(\"-----\"+value.center(50)+\"-----\")"
   ]
  },
  {
   "cell_type": "markdown",
   "id": "71b7a6dd",
   "metadata": {},
   "source": [
    "# 3. 포메팅"
   ]
  },
  {
   "cell_type": "markdown",
   "id": "719d7dda",
   "metadata": {},
   "source": [
    "# 1) 포메팅"
   ]
  },
  {
   "cell_type": "code",
   "execution_count": 22,
   "id": "320fa25a",
   "metadata": {},
   "outputs": [
    {
     "name": "stdout",
     "output_type": "stream",
     "text": [
      "이름 : 홍길동 나이 : 30\n",
      "이름 : 홍길동 나이 : 30\n"
     ]
    }
   ],
   "source": [
    "name = \"홍길동\"\n",
    "age = 30\n",
    "print(\"이름 : \" + name + \" 나이 : \" + str(age))\n",
    "print(\"이름 : %s 나이 : %d\" %(name,age))"
   ]
  },
  {
   "cell_type": "code",
   "execution_count": 23,
   "id": "5aa85029",
   "metadata": {},
   "outputs": [
    {
     "name": "stdout",
     "output_type": "stream",
     "text": [
      "I eat 3 orages\n",
      "I eat 3          orages\n"
     ]
    }
   ],
   "source": [
    "num = 3\n",
    "print(\"I eat %d orages\" %num)\n",
    "\n",
    "print(\"I eat %-10d orages\" %num)"
   ]
  },
  {
   "cell_type": "code",
   "execution_count": 24,
   "id": "be06e98f",
   "metadata": {},
   "outputs": [
    {
     "name": "stdout",
     "output_type": "stream",
     "text": [
      "I eat Three orages\n",
      "I eat Three      orages\n"
     ]
    }
   ],
   "source": [
    "count = \"Three\"\n",
    "print(\"I eat %s orages\" %count)\n",
    "\n",
    "print(\"I eat %-10s orages\" %count)"
   ]
  },
  {
   "cell_type": "code",
   "execution_count": 25,
   "id": "26d67085",
   "metadata": {},
   "outputs": [
    {
     "name": "stdout",
     "output_type": "stream",
     "text": [
      "pi = 3.14159 \n"
     ]
    }
   ],
   "source": [
    "pi = 3.1415926545\n",
    "print(\"pi = %-8.5f\" %pi)"
   ]
  },
  {
   "cell_type": "markdown",
   "id": "181d6aa0",
   "metadata": {},
   "source": [
    "# 2) 함수를 사용한 포메팅"
   ]
  },
  {
   "cell_type": "code",
   "execution_count": 26,
   "id": "1432b822",
   "metadata": {},
   "outputs": [
    {
     "name": "stdout",
     "output_type": "stream",
     "text": [
      "a : 1 b : 2 c : 3\n",
      "a :     1      b : 2          c :          3\n"
     ]
    }
   ],
   "source": [
    "print(\"a : {} b : {} c : {}\".format(1,2,3))\n",
    "#정렬 <:좌측 >:우측 ^:중앙\n",
    "\n",
    "print(\"a : {:^10} b : {:<10} c : {:>10}\".format(1,2,3))"
   ]
  },
  {
   "cell_type": "code",
   "execution_count": 27,
   "id": "04c6269d",
   "metadata": {},
   "outputs": [
    {
     "name": "stdout",
     "output_type": "stream",
     "text": [
      "이름 : 홍길동, 나이 : 30\n",
      "이름 : 홍길동, 나이 : 30\n"
     ]
    }
   ],
   "source": [
    "print(\"이름 : {}, 나이 : {}\".format(name,str(age)))\n",
    "print(\"이름 : {1}, 나이 : {0}\".format(str(age),name))"
   ]
  },
  {
   "cell_type": "markdown",
   "id": "b6703c70",
   "metadata": {},
   "source": [
    "# 3) f문자열을 사용한 포메팅"
   ]
  },
  {
   "cell_type": "code",
   "execution_count": 28,
   "id": "9095c023",
   "metadata": {},
   "outputs": [
    {
     "name": "stdout",
     "output_type": "stream",
     "text": [
      "이름 : 홍길동, 나이 : 30\n"
     ]
    }
   ],
   "source": [
    "print(f\"이름 : {name}, 나이 : {age}\")"
   ]
  },
  {
   "cell_type": "code",
   "execution_count": 29,
   "id": "0a2a7a87",
   "metadata": {},
   "outputs": [
    {
     "name": "stdout",
     "output_type": "stream",
     "text": [
      "이름 : -홍길동-, 나이 :  30\n"
     ]
    }
   ],
   "source": [
    "#정렬 <:좌측 >:우측 ^:중앙\n",
    "\n",
    "print(f\"이름 : {name:-^5}, 나이 : {age:>3}\")"
   ]
  },
  {
   "cell_type": "markdown",
   "id": "4ec3206c",
   "metadata": {},
   "source": [
    "# 4) 4가지 포메팅 활용"
   ]
  },
  {
   "cell_type": "code",
   "execution_count": 30,
   "id": "cfe8bdf2",
   "metadata": {},
   "outputs": [],
   "source": [
    "name = \"Eric\"\n",
    "age = 30\n",
    "email = \"Eric123@gmail.com\""
   ]
  },
  {
   "cell_type": "code",
   "execution_count": 31,
   "id": "2819ee77",
   "metadata": {},
   "outputs": [
    {
     "name": "stdout",
     "output_type": "stream",
     "text": [
      "name : Eric age : 30 email : Eric123@gmail.com\n"
     ]
    }
   ],
   "source": [
    "#+\n",
    "print(\"name : \" + name + \" age : \" + str(age) + \" email : \" + email)"
   ]
  },
  {
   "cell_type": "code",
   "execution_count": 32,
   "id": "f3375e51",
   "metadata": {},
   "outputs": [
    {
     "name": "stdout",
     "output_type": "stream",
     "text": [
      "name : Eric, age : 30, email : Eric123@gmail.com\n"
     ]
    }
   ],
   "source": [
    "#표식\n",
    "print(\"name : %s, age : %d, email : %s\"%(name, age, email))"
   ]
  },
  {
   "cell_type": "code",
   "execution_count": 33,
   "id": "c34e6d66",
   "metadata": {},
   "outputs": [
    {
     "name": "stdout",
     "output_type": "stream",
     "text": [
      "name : Eric, age : 30, email : Eric123@gmail.com\n"
     ]
    }
   ],
   "source": [
    "#format\n",
    "print(\"name : {}, age : {}, email : {}\".format(name, age, email))"
   ]
  },
  {
   "cell_type": "code",
   "execution_count": 34,
   "id": "fd2b70e4",
   "metadata": {},
   "outputs": [
    {
     "name": "stdout",
     "output_type": "stream",
     "text": [
      "name : Eric, age : 30, email : Eric123@gmail.com\n"
     ]
    }
   ],
   "source": [
    "#f문자열\n",
    "print(f\"name : {name}, age : {age}, email : {email}\")"
   ]
  }
 ],
 "metadata": {
  "kernelspec": {
   "display_name": "Python 3 (ipykernel)",
   "language": "python",
   "name": "python3"
  },
  "language_info": {
   "codemirror_mode": {
    "name": "ipython",
    "version": 3
   },
   "file_extension": ".py",
   "mimetype": "text/x-python",
   "name": "python",
   "nbconvert_exporter": "python",
   "pygments_lexer": "ipython3",
   "version": "3.10.6"
  }
 },
 "nbformat": 4,
 "nbformat_minor": 5
}
