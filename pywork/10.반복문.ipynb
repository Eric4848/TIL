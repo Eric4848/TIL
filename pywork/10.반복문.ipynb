{
 "cells": [
  {
   "cell_type": "markdown",
   "id": "faf57675",
   "metadata": {},
   "source": [
    "# 1. while문"
   ]
  },
  {
   "cell_type": "code",
   "execution_count": null,
   "id": "624a9226",
   "metadata": {},
   "outputs": [],
   "source": [
    "value = 1\n",
    "\n",
    "while value <=10:\n",
    "    if value%2 == 1:\n",
    "        print(value)\n",
    "        \n",
    "    value += 1"
   ]
  },
  {
   "cell_type": "code",
   "execution_count": null,
   "id": "5734b76a",
   "metadata": {},
   "outputs": [],
   "source": [
    "value = 1\n",
    "sum = 0\n",
    "while value <= 100:\n",
    "    sum += value\n",
    "    value +=1\n",
    "print(sum)"
   ]
  },
  {
   "cell_type": "code",
   "execution_count": null,
   "id": "a629ba07",
   "metadata": {},
   "outputs": [],
   "source": [
    "value = 1\n",
    "sum = 0\n",
    "while value <= 100:\n",
    "    sum += value\n",
    "    value +=1\n",
    "print(sum)\n",
    "\n",
    "\n",
    "value = 1\n",
    "sum = 0\n",
    "while value <= 100:\n",
    "    if value % 10 == 0:\n",
    "        sum += value\n",
    "    value +=1\n",
    "print(sum)"
   ]
  },
  {
   "cell_type": "code",
   "execution_count": null,
   "id": "cd1064ea",
   "metadata": {},
   "outputs": [],
   "source": [
    "t = \"\"\"1. Add\n",
    "2. Del\n",
    "3. List\n",
    "4. Quit\n",
    "Enter number:\n",
    "\"\"\"\n",
    "num = 0\n",
    "while num != 4:\n",
    "    num = int(input(t))"
   ]
  },
  {
   "cell_type": "markdown",
   "id": "26855e49",
   "metadata": {},
   "source": [
    "# 2 for문"
   ]
  },
  {
   "cell_type": "code",
   "execution_count": 1,
   "id": "a8fa9581",
   "metadata": {},
   "outputs": [
    {
     "name": "stdout",
     "output_type": "stream",
     "text": [
      "a \n",
      "b\n",
      "c\n"
     ]
    }
   ],
   "source": [
    "set_a = {\"a \", \"b\", \"c\"}\n",
    "\n",
    "for item in set_a:\n",
    "    print(item)"
   ]
  },
  {
   "cell_type": "code",
   "execution_count": 3,
   "id": "5dbe6145",
   "metadata": {},
   "outputs": [
    {
     "name": "stdout",
     "output_type": "stream",
     "text": [
      "1\n",
      "2\n",
      "3\n"
     ]
    }
   ],
   "source": [
    "num = 0\n",
    "for item in set_a:\n",
    "    num += 1\n",
    "    print(num)"
   ]
  },
  {
   "cell_type": "code",
   "execution_count": 7,
   "id": "0a92ef96",
   "metadata": {},
   "outputs": [
    {
     "name": "stdout",
     "output_type": "stream",
     "text": [
      "(1, 2)\n",
      "(3, 4)\n",
      "(5, 6)\n",
      "1 2\n",
      "3 4\n",
      "5 6\n"
     ]
    }
   ],
   "source": [
    "list_a = {(1,2), (3,4), (5,6)}\n",
    "\n",
    "for item in list_a:\n",
    "    print(item)\n",
    "    \n",
    "for k,v in list_a:\n",
    "    print(k,v)"
   ]
  },
  {
   "cell_type": "code",
   "execution_count": 11,
   "id": "62f23a18",
   "metadata": {},
   "outputs": [
    {
     "name": "stdout",
     "output_type": "stream",
     "text": [
      "fruit\n",
      "int_num\n",
      "float_num\n",
      "gubun\n",
      "('fruit', 'apple')\n",
      "('int_num', 10)\n",
      "('float_num', 3.5)\n",
      "('gubun', True)\n"
     ]
    }
   ],
   "source": [
    "dict_a = dict(fruit = \"apple\", int_num = 10, float_num = 3.5, gubun = True)\n",
    "\n",
    "for item in dict_a:\n",
    "    print(item)\n",
    "    \n",
    "for item in dict_a.items():\n",
    "    print(item)"
   ]
  },
  {
   "cell_type": "code",
   "execution_count": 27,
   "id": "a9e3f222",
   "metadata": {},
   "outputs": [
    {
     "name": "stdout",
     "output_type": "stream",
     "text": [
      "1 번째 학생 45점으로 불합격입니다.\n",
      "2 번째 학생 65점으로 합격입니다.\n",
      "3 번째 학생 75점으로 합격입니다.\n",
      "4 번째 학생 55점으로 불합격입니다.\n",
      "5 번째 학생 85점으로 합격입니다.\n",
      "\n",
      "\n",
      "\n",
      "\n",
      "1 번째 학생 45 점으로 불합격입니다.\n",
      "2 번째 학생 65 점으로 합격입니다.\n",
      "3 번째 학생 75 점으로 합격입니다.\n",
      "4 번째 학생 55 점으로 불합격입니다.\n",
      "5 번째 학생 85 점으로 합격입니다.\n",
      "\n",
      "\n",
      "\n",
      "\n",
      "1 번째 학생 45 점으로 불합격입니다.\n",
      "2 번째 학생 65 점으로 합격입니다.\n",
      "3 번째 학생 75 점으로 합격입니다.\n",
      "4 번째 학생 55 점으로 불합격입니다.\n",
      "5 번째 학생 85 점으로 합격입니다.\n"
     ]
    }
   ],
   "source": [
    "list_a = [45, 65, 75, 55, 85]\n",
    "num = 1\n",
    "\n",
    "for point in list_a:\n",
    "    print(str(num) + \" 번째 학생 \", end = \"\")\n",
    "    if point >= 60:\n",
    "        print(str(point) + \"점으로 합격입니다.\")\n",
    "    else:\n",
    "        print(str(point) + \"점으로 불합격입니다.\")\n",
    "    num += 1\n",
    "\n",
    "print(\"\\n\\n\\n\")\n",
    "\n",
    "num = 1\n",
    "for point in list_a:\n",
    "    print(\"%d 번째 학생 \"% num, end = \"\")\n",
    "    if point >= 60:\n",
    "        print(\"%d 점으로 합격입니다.\"%point)\n",
    "    else:\n",
    "        print(\"%d 점으로 불합격입니다.\"%point)\n",
    "    num += 1\n",
    "\n",
    "print(\"\\n\\n\\n\")\n",
    "\n",
    "num = 1\n",
    "for point in list_a:\n",
    "    print(\"{} 번째 학생 \".format(num), end = \"\")\n",
    "    if point >= 60:\n",
    "        print(f\"{point} 점으로 합격입니다.\")\n",
    "    else:\n",
    "        print(f\"{point} 점으로 불합격입니다.\")\n",
    "    num += 1"
   ]
  },
  {
   "cell_type": "markdown",
   "id": "a73bd33a",
   "metadata": {},
   "source": [
    "# 3. continue"
   ]
  },
  {
   "cell_type": "code",
   "execution_count": 32,
   "id": "e043e76f",
   "metadata": {
    "scrolled": true
   },
   "outputs": [
    {
     "name": "stdout",
     "output_type": "stream",
     "text": [
      "2 번째 학생은 65 점으로 합격입니다.\n",
      "3 번째 학생은 75 점으로 합격입니다.\n",
      "5 번째 학생은 85 점으로 합격입니다.\n"
     ]
    }
   ],
   "source": [
    "list_a = [45, 65, 75, 55, 85]\n",
    "num = 0\n",
    "\n",
    "for point in list_a:\n",
    "    num += 1\n",
    "    if point <= 60:\n",
    "        continue\n",
    "    print(\"%d 번째 학생은 %d 점으로 합격입니다.\"%(num, point))"
   ]
  },
  {
   "cell_type": "markdown",
   "id": "d6269248",
   "metadata": {},
   "source": [
    "# 4. break"
   ]
  },
  {
   "cell_type": "code",
   "execution_count": 34,
   "id": "59e0be67",
   "metadata": {},
   "outputs": [
    {
     "name": "stdout",
     "output_type": "stream",
     "text": [
      "2 번째 학생은 65 점으로 합격입니다.\n",
      "3 번째 학생은 75 점으로 합격입니다.\n"
     ]
    }
   ],
   "source": [
    "list_a = [45, 65, 75, 55, 85]\n",
    "num = 0\n",
    "hap = 0\n",
    "\n",
    "for point in list_a:\n",
    "    num += 1\n",
    "    \n",
    "    if point >= 60:\n",
    "        hap += 1\n",
    "        print((\"%d 번째 학생은 %d 점으로 합격입니다.\"%(num, point)))\n",
    "    if hap >=2:\n",
    "        break"
   ]
  },
  {
   "cell_type": "code",
   "execution_count": 50,
   "id": "dc7ec236",
   "metadata": {},
   "outputs": [
    {
     "name": "stdout",
     "output_type": "stream",
     "text": [
      "커피를 제공합니다.\n",
      "커피 9잔 잔액 290원 남음\n",
      "커피를 제공합니다.\n",
      "커피 8잔 잔액 280원 남음\n",
      "커피를 제공합니다.\n",
      "커피 7잔 잔액 270원 남음\n",
      "커피를 제공합니다.\n",
      "커피 6잔 잔액 260원 남음\n",
      "커피를 제공합니다.\n",
      "커피 5잔 잔액 250원 남음\n",
      "커피를 제공합니다.\n",
      "커피 4잔 잔액 240원 남음\n",
      "커피를 제공합니다.\n",
      "커피 3잔 잔액 230원 남음\n",
      "커피를 제공합니다.\n",
      "커피 2잔 잔액 220원 남음\n",
      "커피를 제공합니다.\n",
      "커피 1잔 잔액 210원 남음\n",
      "커피를 제공합니다.\n",
      "커피 0잔 잔액 200원 남음\n",
      "커피가 모두 소진되어 영업을 종료합니다.\n",
      "총 10잔 판매\n"
     ]
    }
   ],
   "source": [
    "coffee = 10\n",
    "exch = 300\n",
    "total = 0\n",
    "\n",
    "while 1>0:\n",
    "    if coffee == 0:\n",
    "        print(\"커피가 모두 소진되어 영업을 종료합니다.\")\n",
    "        print(\"총 %d잔 판매\" %total)\n",
    "        break\n",
    "    if exch < 10:\n",
    "        print(\"잔돈이 모두 소진되어 영업을 종료합니다.\")\n",
    "        print(\"총 %d잔 판매\" %total)\n",
    "        break\n",
    "    \n",
    "    total += 1\n",
    "    coffee -= 1\n",
    "    exch -= 10\n",
    "    print(\"커피를 제공합니다.\")\n",
    "    print(\"커피 %d잔 잔액 %d원 남음\" %(coffee, exch))"
   ]
  },
  {
   "cell_type": "markdown",
   "id": "fb564508",
   "metadata": {},
   "source": [
    "# 4. range"
   ]
  },
  {
   "cell_type": "code",
   "execution_count": 54,
   "id": "c9edbb00",
   "metadata": {},
   "outputs": [
    {
     "name": "stdout",
     "output_type": "stream",
     "text": [
      "range(0, 10)\n",
      "[0, 1, 2, 3, 4, 5, 6, 7, 8, 9]\n",
      "range(1, 11)\n",
      "[1, 2, 3, 4, 5, 6, 7, 8, 9, 10]\n",
      "range(1, 11, 2)\n",
      "[1, 3, 5, 7, 9]\n"
     ]
    }
   ],
   "source": [
    "print(range(10))\n",
    "print(list(range(10)))\n",
    "\n",
    "print(range(1,11))\n",
    "print(list(range(1,11)))\n",
    "\n",
    "print(range(1,11,2))\n",
    "print(list(range(1,11,2)))"
   ]
  },
  {
   "cell_type": "code",
   "execution_count": 55,
   "id": "74edc846",
   "metadata": {},
   "outputs": [
    {
     "name": "stdout",
     "output_type": "stream",
     "text": [
      "0\n",
      "1\n",
      "2\n",
      "3\n",
      "4\n",
      "5\n",
      "6\n",
      "7\n",
      "8\n",
      "9\n"
     ]
    }
   ],
   "source": [
    "for i in range(10):\n",
    "    print(i)"
   ]
  },
  {
   "cell_type": "code",
   "execution_count": 66,
   "id": "4004abe2",
   "metadata": {},
   "outputs": [
    {
     "name": "stdout",
     "output_type": "stream",
     "text": [
      "\n",
      "*\n",
      "**\n",
      "***\n",
      "****\n",
      "*****\n",
      "******\n",
      "*******\n",
      "********\n",
      "*********\n",
      "**********\n"
     ]
    }
   ],
   "source": [
    "for i in range(11):\n",
    "    for j in range(i):\n",
    "        print(\"*\", end = \"\")\n",
    "    print(\"\\n\", end=\"\")"
   ]
  },
  {
   "cell_type": "code",
   "execution_count": 65,
   "id": "e4136c28",
   "metadata": {},
   "outputs": [
    {
     "name": "stdout",
     "output_type": "stream",
     "text": [
      "\n",
      "*\n",
      "**\n",
      "***\n",
      "****\n",
      "*****\n",
      "******\n",
      "*******\n",
      "********\n",
      "*********\n",
      "**********\n"
     ]
    }
   ],
   "source": [
    "for i in range(11):\n",
    "    print(\"*\"*i)"
   ]
  },
  {
   "cell_type": "code",
   "execution_count": 72,
   "id": "47f7bcbb",
   "metadata": {},
   "outputs": [
    {
     "name": "stdout",
     "output_type": "stream",
     "text": [
      "          *\n",
      "         **\n",
      "        ***\n",
      "       ****\n",
      "      *****\n",
      "     ******\n",
      "    *******\n",
      "   ********\n",
      "  *********\n",
      " **********\n"
     ]
    }
   ],
   "source": [
    "for i in range(1,11):\n",
    "    print(\" \"*(10-i),end = \" \")\n",
    "    print(\"*\"*i)"
   ]
  },
  {
   "cell_type": "code",
   "execution_count": null,
   "id": "8014b312",
   "metadata": {},
   "outputs": [],
   "source": []
  },
  {
   "cell_type": "markdown",
   "id": "d53ec87e",
   "metadata": {},
   "source": [
    "# 6. 이중루프"
   ]
  },
  {
   "cell_type": "code",
   "execution_count": 75,
   "id": "e0125298",
   "metadata": {},
   "outputs": [
    {
     "name": "stdout",
     "output_type": "stream",
     "text": [
      "2 X 1 = 2\n",
      "2 X 2 = 4\n",
      "2 X 3 = 6\n",
      "2 X 4 = 8\n",
      "2 X 5 = 10\n",
      "2 X 6 = 12\n",
      "2 X 7 = 14\n",
      "2 X 8 = 16\n",
      "2 X 9 = 18\n",
      "\n",
      "\n",
      "3 X 1 = 3\n",
      "3 X 2 = 6\n",
      "3 X 3 = 9\n",
      "3 X 4 = 12\n",
      "3 X 5 = 15\n",
      "3 X 6 = 18\n",
      "3 X 7 = 21\n",
      "3 X 8 = 24\n",
      "3 X 9 = 27\n",
      "\n",
      "\n",
      "4 X 1 = 4\n",
      "4 X 2 = 8\n",
      "4 X 3 = 12\n",
      "4 X 4 = 16\n",
      "4 X 5 = 20\n",
      "4 X 6 = 24\n",
      "4 X 7 = 28\n",
      "4 X 8 = 32\n",
      "4 X 9 = 36\n",
      "\n",
      "\n",
      "5 X 1 = 5\n",
      "5 X 2 = 10\n",
      "5 X 3 = 15\n",
      "5 X 4 = 20\n",
      "5 X 5 = 25\n",
      "5 X 6 = 30\n",
      "5 X 7 = 35\n",
      "5 X 8 = 40\n",
      "5 X 9 = 45\n",
      "\n",
      "\n",
      "6 X 1 = 6\n",
      "6 X 2 = 12\n",
      "6 X 3 = 18\n",
      "6 X 4 = 24\n",
      "6 X 5 = 30\n",
      "6 X 6 = 36\n",
      "6 X 7 = 42\n",
      "6 X 8 = 48\n",
      "6 X 9 = 54\n",
      "\n",
      "\n",
      "7 X 1 = 7\n",
      "7 X 2 = 14\n",
      "7 X 3 = 21\n",
      "7 X 4 = 28\n",
      "7 X 5 = 35\n",
      "7 X 6 = 42\n",
      "7 X 7 = 49\n",
      "7 X 8 = 56\n",
      "7 X 9 = 63\n",
      "\n",
      "\n",
      "8 X 1 = 8\n",
      "8 X 2 = 16\n",
      "8 X 3 = 24\n",
      "8 X 4 = 32\n",
      "8 X 5 = 40\n",
      "8 X 6 = 48\n",
      "8 X 7 = 56\n",
      "8 X 8 = 64\n",
      "8 X 9 = 72\n",
      "\n",
      "\n",
      "9 X 1 = 9\n",
      "9 X 2 = 18\n",
      "9 X 3 = 27\n",
      "9 X 4 = 36\n",
      "9 X 5 = 45\n",
      "9 X 6 = 54\n",
      "9 X 7 = 63\n",
      "9 X 8 = 72\n",
      "9 X 9 = 81\n",
      "\n",
      "\n"
     ]
    }
   ],
   "source": [
    "for i in range(2,10):\n",
    "    for j in range(1,10):\n",
    "        print(\"%d X %d = %d\"%(i, j, i*j))\n",
    "    print(\"\\n\")"
   ]
  },
  {
   "cell_type": "markdown",
   "id": "89c443b7",
   "metadata": {},
   "source": [
    "# 7. 리스트 컴프리헨션"
   ]
  },
  {
   "cell_type": "code",
   "execution_count": 85,
   "id": "7d24d28a",
   "metadata": {},
   "outputs": [
    {
     "name": "stdout",
     "output_type": "stream",
     "text": [
      "[3, 6, 9, 12, 15]\n"
     ]
    }
   ],
   "source": [
    "list_a = [1,2,3,4,5]\n",
    "list_b = []\n",
    "\n",
    "for i in list_a:\n",
    "    list_b.append(i*3)\n",
    "    \n",
    "print(list_b)"
   ]
  },
  {
   "cell_type": "code",
   "execution_count": 87,
   "id": "c2b72356",
   "metadata": {},
   "outputs": [
    {
     "name": "stdout",
     "output_type": "stream",
     "text": [
      "[3, 6, 9, 12, 15]\n"
     ]
    }
   ],
   "source": [
    "#리스트 컴프리헨션 사용\n",
    "list_a = [1,2,3,4,5]\n",
    "list_b = [item * 3 for item in list_a]\n",
    "\n",
    "print(list_b)"
   ]
  },
  {
   "cell_type": "code",
   "execution_count": 94,
   "id": "0174dd55",
   "metadata": {},
   "outputs": [
    {
     "name": "stdout",
     "output_type": "stream",
     "text": [
      "[6, 12]\n",
      "[0, 6, 0, 12, 0]\n"
     ]
    }
   ],
   "source": [
    "#조건\n",
    "list_a = [1,2,3,4,5]\n",
    "list_b = [item * 3 for item in list_a if item % 2 ==0]\n",
    "\n",
    "print(list_b)\n",
    "\n",
    "#else까지 있는 조건\n",
    "list_a = [1,2,3,4,5]\n",
    "list_b = [item * 3 if item % 2 ==0 else 0 for item in list_a]\n",
    "\n",
    "print(list_b)"
   ]
  }
 ],
 "metadata": {
  "kernelspec": {
   "display_name": "Python 3 (ipykernel)",
   "language": "python",
   "name": "python3"
  },
  "language_info": {
   "codemirror_mode": {
    "name": "ipython",
    "version": 3
   },
   "file_extension": ".py",
   "mimetype": "text/x-python",
   "name": "python",
   "nbconvert_exporter": "python",
   "pygments_lexer": "ipython3",
   "version": "3.10.6"
  }
 },
 "nbformat": 4,
 "nbformat_minor": 5
}
