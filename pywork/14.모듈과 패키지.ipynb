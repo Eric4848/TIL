{
 "cells": [
  {
   "cell_type": "markdown",
   "id": "28d594e9",
   "metadata": {},
   "source": [
    "# 1. 모듈"
   ]
  },
  {
   "cell_type": "markdown",
   "id": "79d1c211",
   "metadata": {},
   "source": [
    "# 1) 모듈 생성"
   ]
  },
  {
   "cell_type": "code",
   "execution_count": 2,
   "id": "029a7b51",
   "metadata": {},
   "outputs": [
    {
     "name": "stdout",
     "output_type": "stream",
     "text": [
      "3\n",
      "-1\n",
      "2\n",
      "0.5\n"
     ]
    }
   ],
   "source": [
    "import cal\n",
    "\n",
    "print(cal.add(1,2))\n",
    "print(cal.sub(1,2))\n",
    "print(cal.mul(1,2))\n",
    "print(cal.div(1,2))"
   ]
  },
  {
   "cell_type": "code",
   "execution_count": 23,
   "id": "4fd882d4",
   "metadata": {},
   "outputs": [
    {
     "name": "stdout",
     "output_type": "stream",
     "text": [
      "3.141592\n",
      "28.274328\n",
      "3\n"
     ]
    }
   ],
   "source": [
    "import imptest\n",
    "\n",
    "print(imptest.Pi)\n",
    "math = imptest.Math()\n",
    "print(math.solv(3))\n",
    "\n",
    "print(imptest.add(1,2))"
   ]
  },
  {
   "cell_type": "code",
   "execution_count": 21,
   "id": "d56e4d6b",
   "metadata": {},
   "outputs": [
    {
     "name": "stdout",
     "output_type": "stream",
     "text": [
      "imptest module.\n"
     ]
    }
   ],
   "source": [
    "!python imptest.py"
   ]
  },
  {
   "cell_type": "markdown",
   "id": "fdce8a88",
   "metadata": {},
   "source": [
    "# 2. 패키지 생성"
   ]
  },
  {
   "cell_type": "code",
   "execution_count": 3,
   "id": "d5883b04",
   "metadata": {},
   "outputs": [
    {
     "name": "stdout",
     "output_type": "stream",
     "text": [
      "1 package : DemoPack, module : demo1, function : func1()\n",
      "2 package : DemoPack, module : demo1, function : func2()\n",
      "1 package : DemoPack, module : demo2, function : func1()\n",
      "2 package : DemoPack, module : demo2, function : func2()\n"
     ]
    }
   ],
   "source": [
    "from DemoPack import demo1\n",
    "from DemoPack import demo2\n",
    "\n",
    "demo1.func1()\n",
    "demo1.func2()\n",
    "demo2.func1()\n",
    "demo2.func2()"
   ]
  },
  {
   "cell_type": "code",
   "execution_count": 2,
   "id": "b20d6bd5",
   "metadata": {},
   "outputs": [
    {
     "name": "stdout",
     "output_type": "stream",
     "text": [
      "1 package : DemoPack, module : demo1, function : func1()\n",
      "2 package : DemoPack, module : demo1, function : func2()\n"
     ]
    },
    {
     "ename": "NameError",
     "evalue": "name 'demo2' is not defined",
     "output_type": "error",
     "traceback": [
      "\u001b[1;31m---------------------------------------------------------------------------\u001b[0m",
      "\u001b[1;31mNameError\u001b[0m                                 Traceback (most recent call last)",
      "Cell \u001b[1;32mIn[2], line 6\u001b[0m\n\u001b[0;32m      4\u001b[0m dm1\u001b[38;5;241m.\u001b[39mfunc1()\n\u001b[0;32m      5\u001b[0m dm1\u001b[38;5;241m.\u001b[39mfunc2()\n\u001b[1;32m----> 6\u001b[0m \u001b[43mdemo2\u001b[49m\u001b[38;5;241m.\u001b[39mfunc1()\n\u001b[0;32m      7\u001b[0m demo2\u001b[38;5;241m.\u001b[39mfunc2()\n",
      "\u001b[1;31mNameError\u001b[0m: name 'demo2' is not defined"
     ]
    }
   ],
   "source": [
    "#먼저 실행\n",
    "from DemoPack import demo1 as dm1\n",
    "from DemoPack import demo2 as dm2\n",
    "\n",
    "dm1.func1()\n",
    "dm1.func2()\n",
    "demo2.func1()\n",
    "demo2.func2()"
   ]
  },
  {
   "cell_type": "code",
   "execution_count": 4,
   "id": "a2898e00",
   "metadata": {},
   "outputs": [
    {
     "name": "stdout",
     "output_type": "stream",
     "text": [
      "1 package : DemoPack, module : demo1, function : func1()\n",
      "2 package : DemoPack, module : demo2, function : func2()\n"
     ]
    }
   ],
   "source": [
    "from DemoPack.demo1 import func1\n",
    "from DemoPack.demo2 import func2 as fc2\n",
    "\n",
    "func1()\n",
    "fc2()"
   ]
  },
  {
   "cell_type": "code",
   "execution_count": 6,
   "id": "e96b7a79",
   "metadata": {},
   "outputs": [
    {
     "name": "stdout",
     "output_type": "stream",
     "text": [
      "1 package : DemoPack, module : demo1, function : func1()\n",
      "2 package : DemoPack, module : demo2, function : func2()\n"
     ]
    }
   ],
   "source": [
    "import DemoPack.demo1\n",
    "import DemoPack.demo2\n",
    "\n",
    "DemoPack.demo1.func1()\n",
    "DemoPack.demo2.func2()"
   ]
  },
  {
   "cell_type": "code",
   "execution_count": null,
   "id": "9d893f74",
   "metadata": {},
   "outputs": [],
   "source": []
  }
 ],
 "metadata": {
  "kernelspec": {
   "display_name": "Python 3 (ipykernel)",
   "language": "python",
   "name": "python3"
  },
  "language_info": {
   "codemirror_mode": {
    "name": "ipython",
    "version": 3
   },
   "file_extension": ".py",
   "mimetype": "text/x-python",
   "name": "python",
   "nbconvert_exporter": "python",
   "pygments_lexer": "ipython3",
   "version": "3.10.6"
  }
 },
 "nbformat": 4,
 "nbformat_minor": 5
}
