{
 "cells": [
  {
   "cell_type": "markdown",
   "id": "287045e8",
   "metadata": {},
   "source": [
    "# 1. 파일"
   ]
  },
  {
   "cell_type": "markdown",
   "id": "f52082a2",
   "metadata": {},
   "source": [
    "# 1) 파일 입력"
   ]
  },
  {
   "cell_type": "code",
   "execution_count": 1,
   "id": "e3b9bacb",
   "metadata": {},
   "outputs": [],
   "source": [
    "f = open(\"files.txt\", \"w\")\n",
    "\n",
    "f.write(\"1번 라인입니다\\n\")\n",
    "f.write(\"2번 라인입니다\\n\")\n",
    "f.write(\"3번 라인입니다\\n\")\n",
    "\n",
    "f.close()"
   ]
  },
  {
   "cell_type": "markdown",
   "id": "05694ec8",
   "metadata": {},
   "source": [
    "# 2)파일 읽기"
   ]
  },
  {
   "cell_type": "code",
   "execution_count": 21,
   "id": "d4d63b42",
   "metadata": {},
   "outputs": [
    {
     "name": "stdout",
     "output_type": "stream",
     "text": [
      "1번 라인입니다\n",
      "2번 라인입니다\n",
      "3번 라인입니다\n",
      "4번 라인입니다.\n",
      "5번 라인입니다.\n",
      "\n",
      "<class 'str'>\n"
     ]
    }
   ],
   "source": [
    "f = open(\"files.txt\",\"r\")\n",
    "\n",
    "a = f.read()\n",
    "\n",
    "f.close()\n",
    "\n",
    "print(a)\n",
    "print(type(a))"
   ]
  },
  {
   "cell_type": "code",
   "execution_count": 22,
   "id": "4257d3d0",
   "metadata": {},
   "outputs": [
    {
     "name": "stdout",
     "output_type": "stream",
     "text": [
      "1번 라인입니다\n",
      " 2번 라인입니다\n",
      " 3번 라인입니다\n",
      "\n",
      "1번 라인입니다\n",
      "\n",
      "2번 라인입니다\n",
      "\n",
      "3번 라인입니다\n",
      "\n",
      "<class 'str'>\n"
     ]
    }
   ],
   "source": [
    "f = open(\"files.txt\",\"r\")\n",
    "\n",
    "a = f.readline()\n",
    "b = f.readline()\n",
    "c = f.readline()\n",
    "\n",
    "print(a,b,c)\n",
    "\n",
    "print(a)\n",
    "print(b)\n",
    "print(c)\n",
    "\n",
    "print(type(a))\n",
    "\n",
    "f.close()"
   ]
  },
  {
   "cell_type": "code",
   "execution_count": 23,
   "id": "f4baea38",
   "metadata": {},
   "outputs": [
    {
     "name": "stdout",
     "output_type": "stream",
     "text": [
      "['1번 라인입니다\\n', '2번 라인입니다\\n', '3번 라인입니다\\n', '4번 라인입니다.\\n', '5번 라인입니다.\\n']\n",
      "<class 'list'>\n"
     ]
    }
   ],
   "source": [
    "f = open(\"files.txt\",\"r\")\n",
    "\n",
    "lines = f.readlines()\n",
    "\n",
    "f.close\n",
    "\n",
    "print(lines)\n",
    "print(type(lines))"
   ]
  },
  {
   "cell_type": "markdown",
   "id": "2e4540d1",
   "metadata": {},
   "source": [
    "# 3) 내용 추가"
   ]
  },
  {
   "cell_type": "code",
   "execution_count": 37,
   "id": "debb124e",
   "metadata": {},
   "outputs": [],
   "source": [
    "f = open(\"files.txt\",\"a\")\n",
    "\n",
    "f.write(\"4번 라인입니다.\\n\")\n",
    "f.write(\"5번 라인입니다.\\n\")\n",
    "\n",
    "f.close()"
   ]
  },
  {
   "cell_type": "markdown",
   "id": "176fdb21",
   "metadata": {},
   "source": [
    "# 4) with 구문"
   ]
  },
  {
   "cell_type": "code",
   "execution_count": 34,
   "id": "5b5ed314",
   "metadata": {},
   "outputs": [],
   "source": [
    "with open(\"files.txt\", \"a\") as f:\n",
    "    f.write(\"with구문으로 파일 자동 close함\\n\")"
   ]
  },
  {
   "cell_type": "markdown",
   "id": "c8e6ed71",
   "metadata": {},
   "source": [
    "# 2. 파일 관리"
   ]
  },
  {
   "cell_type": "markdown",
   "id": "41fd1c94",
   "metadata": {},
   "source": [
    "# 1) 파일 관리"
   ]
  },
  {
   "cell_type": "code",
   "execution_count": 2,
   "id": "cc971033",
   "metadata": {},
   "outputs": [
    {
     "data": {
      "text/plain": [
       "'files_move.txt'"
      ]
     },
     "execution_count": 2,
     "metadata": {},
     "output_type": "execute_result"
    }
   ],
   "source": [
    "import shutil\n",
    "\n",
    "shutil.copy(\"files.txt\", \"files_copy.txt\")\n",
    "shutil.move(\"files.txt\", \"files_move.txt\")"
   ]
  },
  {
   "cell_type": "code",
   "execution_count": 3,
   "id": "53ee81ba",
   "metadata": {},
   "outputs": [
    {
     "data": {
      "text/plain": [
       "'C:\\\\KDTWork\\\\pywork'"
      ]
     },
     "execution_count": 3,
     "metadata": {},
     "output_type": "execute_result"
    }
   ],
   "source": [
    "import os\n",
    "\n",
    "os.getcwd()"
   ]
  },
  {
   "cell_type": "code",
   "execution_count": 6,
   "id": "8efd10e3",
   "metadata": {},
   "outputs": [
    {
     "data": {
      "text/plain": [
       "['.ipynb_checkpoints',\n",
       " '02.변수.ipynb',\n",
       " '03.자료형.ipynb',\n",
       " '04.연산자.ipynb',\n",
       " '05.문자열.ipynb',\n",
       " '06.리스트,튜플.ipynb',\n",
       " '07.딕셔너리, 집합, 부울.ipynb',\n",
       " '08. 컬렉션 관리.ipynb',\n",
       " '09.조건문.ipynb',\n",
       " '10.반복문.ipynb',\n",
       " '11.함수.ipynb',\n",
       " '12.파일.ipynb',\n",
       " '2일차(12.29).txt',\n",
       " 'files_copy.txt',\n",
       " 'files_move.txt',\n",
       " 'python 실습코드 2일차 (12.29일).zip',\n",
       " 'python 실습코드 3일차 (12.30일).zip',\n",
       " 'python 참고 사이트.txt',\n",
       " 'test file.txt',\n",
       " 'test.py',\n",
       " 'untitled']"
      ]
     },
     "execution_count": 6,
     "metadata": {},
     "output_type": "execute_result"
    }
   ],
   "source": [
    "os.listdir()"
   ]
  },
  {
   "cell_type": "code",
   "execution_count": 7,
   "id": "d24d64a3",
   "metadata": {},
   "outputs": [
    {
     "data": {
      "text/plain": [
       "['02.변수.ipynb',\n",
       " '03.자료형.ipynb',\n",
       " '04.연산자.ipynb',\n",
       " '05.문자열.ipynb',\n",
       " '06.리스트,튜플.ipynb',\n",
       " '07.딕셔너리, 집합, 부울.ipynb',\n",
       " '08. 컬렉션 관리.ipynb',\n",
       " '09.조건문.ipynb',\n",
       " '10.반복문.ipynb',\n",
       " '11.함수.ipynb',\n",
       " '12.파일.ipynb']"
      ]
     },
     "execution_count": 7,
     "metadata": {},
     "output_type": "execute_result"
    }
   ],
   "source": [
    "import glob\n",
    "glob.glob(\"*.ipynb\")"
   ]
  },
  {
   "cell_type": "code",
   "execution_count": null,
   "id": "67590928",
   "metadata": {},
   "outputs": [],
   "source": []
  },
  {
   "cell_type": "code",
   "execution_count": 1,
   "id": "801b9e8c",
   "metadata": {},
   "outputs": [
    {
     "ename": "AttributeError",
     "evalue": "'sqlite3.Cursor' object has no attribute 'excute'",
     "output_type": "error",
     "traceback": [
      "\u001b[1;31m---------------------------------------------------------------------------\u001b[0m",
      "\u001b[1;31mAttributeError\u001b[0m                            Traceback (most recent call last)",
      "Cell \u001b[1;32mIn[1], line 5\u001b[0m\n\u001b[0;32m      3\u001b[0m con \u001b[38;5;241m=\u001b[39m sqlite3\u001b[38;5;241m.\u001b[39mconnect(\u001b[38;5;124m\"\u001b[39m\u001b[38;5;124mmember.db\u001b[39m\u001b[38;5;124m\"\u001b[39m)\n\u001b[0;32m      4\u001b[0m cursor \u001b[38;5;241m=\u001b[39m con\u001b[38;5;241m.\u001b[39mcursor()\n\u001b[1;32m----> 5\u001b[0m \u001b[43mcursor\u001b[49m\u001b[38;5;241;43m.\u001b[39;49m\u001b[43mexcute\u001b[49m(\u001b[38;5;124m\"\u001b[39m\u001b[38;5;124mINSERT INTO tbl member VALUES(1, \u001b[39m\u001b[38;5;124m'\u001b[39m\u001b[38;5;124mLEE\u001b[39m\u001b[38;5;124m'\u001b[39m\u001b[38;5;124m, \u001b[39m\u001b[38;5;124m'\u001b[39m\u001b[38;5;124m012-1234-5678\u001b[39m\u001b[38;5;124m'\u001b[39m\u001b[38;5;124m, \u001b[39m\u001b[38;5;124m'\u001b[39m\u001b[38;5;124mLEE@test.kdt.com\u001b[39m\u001b[38;5;124m'\u001b[39m\u001b[38;5;124m)\u001b[39m\u001b[38;5;124m\"\u001b[39m)\n\u001b[0;32m      6\u001b[0m cursor\u001b[38;5;241m.\u001b[39mexcute(\u001b[38;5;124m\"\u001b[39m\u001b[38;5;124mINSERT INTO tbl member VALUES(1, \u001b[39m\u001b[38;5;124m'\u001b[39m\u001b[38;5;124mKIM\u001b[39m\u001b[38;5;124m'\u001b[39m\u001b[38;5;124m, \u001b[39m\u001b[38;5;124m'\u001b[39m\u001b[38;5;124m012-1234-5678\u001b[39m\u001b[38;5;124m'\u001b[39m\u001b[38;5;124m, \u001b[39m\u001b[38;5;124m'\u001b[39m\u001b[38;5;124mKIM@test.kdt.com\u001b[39m\u001b[38;5;124m'\u001b[39m\u001b[38;5;124m)\u001b[39m\u001b[38;5;124m\"\u001b[39m)\n\u001b[0;32m      7\u001b[0m con\u001b[38;5;241m.\u001b[39mcommit()\n",
      "\u001b[1;31mAttributeError\u001b[0m: 'sqlite3.Cursor' object has no attribute 'excute'"
     ]
    }
   ],
   "source": [
    "import sqlite3\n",
    "\n",
    "con = sqlite3.connect(\"member.db\")\n",
    "cursor = con.cursor()\n",
    "cursor.excute(\"INSERT INTO tbl member VALUES(1, 'LEE', '012-1234-5678', 'LEE@test.kdt.com')\")\n",
    "cursor.excute(\"INSERT INTO tbl member VALUES(1, 'KIM', '012-1234-5678', 'KIM@test.kdt.com')\")\n",
    "con.commit()\n",
    "cursor.close()\n",
    "con.close()"
   ]
  },
  {
   "cell_type": "code",
   "execution_count": null,
   "id": "bfb2b440",
   "metadata": {},
   "outputs": [],
   "source": [
    "con = sqlite3.connect(\"member.db\")\n",
    "cursor = con.cursor()\n",
    "cursor.excute(\"SELECT * FROM tbl_member\")\n",
    "datas = cursor.fetchall()\n",
    "print(datas)\n",
    "for data in datas:\n",
    "    print(f\"Name : {data[1]}, Phone : {data[2]}, e-mail : {data[3]}\")\n",
    "cursor.close()\n",
    "con.close()"
   ]
  },
  {
   "cell_type": "code",
   "execution_count": null,
   "id": "1b2f1584",
   "metadata": {},
   "outputs": [],
   "source": [
    "con = sqlite3.connect(\"member.db\")\n",
    "cursor = con.cursor()\n",
    "\n",
    "cursor.excute(\"DELETE FROM tbl_member WHERE name\")\n",
    "\n",
    "con.commit()\n",
    "cursor.close()\n",
    "con.close()"
   ]
  },
  {
   "cell_type": "code",
   "execution_count": null,
   "id": "f407045c",
   "metadata": {},
   "outputs": [],
   "source": []
  }
 ],
 "metadata": {
  "kernelspec": {
   "display_name": "Python 3 (ipykernel)",
   "language": "python",
   "name": "python3"
  },
  "language_info": {
   "codemirror_mode": {
    "name": "ipython",
    "version": 3
   },
   "file_extension": ".py",
   "mimetype": "text/x-python",
   "name": "python",
   "nbconvert_exporter": "python",
   "pygments_lexer": "ipython3",
   "version": "3.10.6"
  }
 },
 "nbformat": 4,
 "nbformat_minor": 5
}
