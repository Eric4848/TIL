{
 "cells": [
  {
   "cell_type": "markdown",
   "id": "27696a9b",
   "metadata": {},
   "source": [
    "# 1. 정규표현식"
   ]
  },
  {
   "cell_type": "markdown",
   "id": "0dd1b9cc",
   "metadata": {},
   "source": [
    "# 1) search & 메타문자"
   ]
  },
  {
   "cell_type": "code",
   "execution_count": 1,
   "id": "054fdb57",
   "metadata": {},
   "outputs": [],
   "source": [
    "import re"
   ]
  },
  {
   "cell_type": "code",
   "execution_count": 2,
   "id": "21b7a468",
   "metadata": {},
   "outputs": [
    {
     "name": "stdout",
     "output_type": "stream",
     "text": [
      "<re.Match object; span=(7, 12), match='apple'>\n",
      "None\n"
     ]
    }
   ],
   "source": [
    "# .:문자열 1개(\\n제외)\n",
    "print(re.search(\"app.e\", \"orange apple banana\"))\n",
    "print(re.search(\"app.e\", \"orange appe banana\"))"
   ]
  },
  {
   "cell_type": "code",
   "execution_count": 5,
   "id": "1bcb95f2",
   "metadata": {},
   "outputs": [
    {
     "name": "stdout",
     "output_type": "stream",
     "text": [
      "<re.Match object; span=(0, 3), match='app'>\n",
      "None\n"
     ]
    }
   ],
   "source": [
    "# ^ :문자열 시작\n",
    "print(re.search(\"^app\", \"apple orange banana\"))\n",
    "print(re.search(\"^app\", \"orange apple banana\"))"
   ]
  },
  {
   "cell_type": "code",
   "execution_count": 6,
   "id": "c655e312",
   "metadata": {},
   "outputs": [
    {
     "name": "stdout",
     "output_type": "stream",
     "text": [
      "<re.Match object; span=(17, 19), match='na'>\n",
      "None\n"
     ]
    }
   ],
   "source": [
    "# $ :문자열 종료\n",
    "print(re.search(\"na$\", \"apple orange banana\"))\n",
    "print(re.search(\"ple$\", \"apple orange banana\"))"
   ]
  },
  {
   "cell_type": "code",
   "execution_count": 14,
   "id": "097dd69c",
   "metadata": {},
   "outputs": [
    {
     "name": "stdout",
     "output_type": "stream",
     "text": [
      "<re.Match object; span=(7, 12), match='apple'>\n",
      "None\n",
      "---------------------\n",
      "<re.Match object; span=(7, 12), match='apple'>\n",
      "<re.Match object; span=(7, 12), match='appLe'>\n",
      "None\n",
      "---------------------\n",
      "<re.Match object; span=(7, 12), match='app4e'>\n",
      "None\n",
      "<re.Match object; span=(7, 12), match='apple'>\n"
     ]
    }
   ],
   "source": [
    "# [] :문자열 집합\n",
    "print(re.search(\"app[deisocl]e\", \"orange apple banana\"))\n",
    "print(re.search(\"app[deisoc]e\", \"orange apple banana\"))\n",
    "print(\"---------------------\")\n",
    "print(re.search(\"app[a-z]e\", \"orange apple banana\"))\n",
    "print(re.search(\"app[A-Z]e\", \"orange appLe banana\"))\n",
    "print(re.search(\"app[a-z]e\", \"orange appLe banana\"))\n",
    "print(\"---------------------\")\n",
    "print(re.search(\"app[0-9]e\", \"orange app4e banana\"))\n",
    "print(re.search(\"app[0-9]e\", \"orange apple banana\"))\n",
    "print(re.search(\"app[^0-9]e\", \"orange apple banana\"))"
   ]
  },
  {
   "cell_type": "code",
   "execution_count": 16,
   "id": "7f02b5f9",
   "metadata": {},
   "outputs": [
    {
     "name": "stdout",
     "output_type": "stream",
     "text": [
      "<re.Match object; span=(12, 15), match=' ba'>\n",
      "<re.Match object; span=(7, 13), match='apple '>\n"
     ]
    }
   ],
   "source": [
    "# | : or\n",
    "print(re.search(\"ap.e | ba\", \"orange apple banana\"))\n",
    "print(re.search(\"app.e | ba\", \"orange apple banana\"))"
   ]
  },
  {
   "cell_type": "code",
   "execution_count": 23,
   "id": "da4e19c5",
   "metadata": {},
   "outputs": [
    {
     "name": "stdout",
     "output_type": "stream",
     "text": [
      "<re.Match object; span=(19, 32), match='010-1111-2222'>\n",
      "('010', '1111', '2222')\n",
      "010-1111-2222\n",
      "010\n",
      "1111\n",
      "2222\n"
     ]
    }
   ],
   "source": [
    "# {} : 괄호 안에 정규식을 그룹으로 생성\n",
    "\n",
    "a = \"my phone number is 010-1111-2222, 010-3333-4444. Call me!\"\n",
    "\n",
    "print(re.search(\"\\d{3}-\\d{4}-\\d{4}\",a))\n",
    "\n",
    "b = re.search(\"(\\d{3})-(\\d{4})-(\\d{4})\",a)\n",
    "\n",
    "\n",
    "print(b.groups())\n",
    "print(b.group(0))#0은 전체\n",
    "print(b.group(1))#1부터 시작\n",
    "print(b.group(2))\n",
    "print(b.group(3))"
   ]
  },
  {
   "cell_type": "code",
   "execution_count": 26,
   "id": "7f8a0e6e",
   "metadata": {},
   "outputs": [
    {
     "name": "stdout",
     "output_type": "stream",
     "text": [
      "<re.Match object; span=(0, 3), match='ale'>\n",
      "None\n",
      "<re.Match object; span=(0, 8), match='appppple'>\n",
      "None\n",
      "<re.Match object; span=(0, 4), match='aple'>\n",
      "<re.Match object; span=(0, 3), match='ale'>\n"
     ]
    }
   ],
   "source": [
    "# *, +, -\n",
    "print(re.search(\"ap*le\", \"ale\"))\n",
    "print(re.search(\"ap+le\", \"ale\"))\n",
    "print(re.search(\"ap+le\", \"appppple\"))\n",
    "print(re.search(\"ap?le\", \"apple\"))\n",
    "print(re.search(\"ap?le\", \"aple\"))\n",
    "print(re.search(\"ap?le\", \"ale\"))"
   ]
  },
  {
   "cell_type": "code",
   "execution_count": 33,
   "id": "95767522",
   "metadata": {},
   "outputs": [
    {
     "name": "stdout",
     "output_type": "stream",
     "text": [
      "<re.Match object; span=(11, 17), match='appple'>\n",
      "<re.Match object; span=(17, 24), match='apppple'>\n",
      "<re.Match object; span=(17, 24), match='apppple'>\n"
     ]
    }
   ],
   "source": [
    "# {m}, {m, n}, {m,}\n",
    "print(re.search(\"ap{3}le\", \"aple apple appple apppple\"))\n",
    "print(re.search(\"ap{3,4}le\", \"aple apple apple apppple\"))\n",
    "print(re.search(\"ap{3,}le\", \"aple apple apple apppple\")) #,뒤에 바로 닫기"
   ]
  },
  {
   "cell_type": "code",
   "execution_count": 37,
   "id": "23bb6ac2",
   "metadata": {},
   "outputs": [
    {
     "name": "stdout",
     "output_type": "stream",
     "text": [
      "<re.Match object; span=(5, 10), match='apple'>\n",
      "<re.Match object; span=(5, 10), match='a123e'>\n"
     ]
    }
   ],
   "source": [
    "# \\w, \\d\n",
    "print(re.search(\"a\\w{3}e\", \"aple apple appple apppple\"))\n",
    "print(re.search(\"a\\d{3}e\", \"aple a123e appple apppple\"))"
   ]
  },
  {
   "cell_type": "code",
   "execution_count": 42,
   "id": "38d07d71",
   "metadata": {},
   "outputs": [
    {
     "name": "stdout",
     "output_type": "stream",
     "text": [
      "<re.Match object; span=(6, 13), match=' apple '>\n",
      "<re.Match object; span=(7, 12), match='apple'>\n"
     ]
    }
   ],
   "source": [
    "# \\s \\b\n",
    "print(re.search(\"\\sapple\\s\", \"orange apple banana\"))\n",
    "print(re.search(r\"\\bapple\\b\", \"orange apple banana\"))#r을 붙여야 작동"
   ]
  },
  {
   "cell_type": "code",
   "execution_count": 55,
   "id": "310c16ae",
   "metadata": {},
   "outputs": [
    {
     "name": "stdout",
     "output_type": "stream",
     "text": [
      "<re.Match object; span=(2, 10), match='\\\\python\\\\'>\n"
     ]
    }
   ],
   "source": [
    "print(re.search(r\"\\\\python\\\\\", \"c:\\python\\sammple\"))"
   ]
  },
  {
   "cell_type": "markdown",
   "id": "c874b7f0",
   "metadata": {},
   "source": [
    "# 2) re모듈 함수"
   ]
  },
  {
   "cell_type": "code",
   "execution_count": 45,
   "id": "bd61e623",
   "metadata": {},
   "outputs": [
    {
     "name": "stdout",
     "output_type": "stream",
     "text": [
      "<re.Match object; span=(0, 7), match='apppple'>\n"
     ]
    }
   ],
   "source": [
    "#re.compile\n",
    "c = re.compile(\"ap*le\")\n",
    "print(c.search(\"apppple\"))"
   ]
  },
  {
   "cell_type": "code",
   "execution_count": 46,
   "id": "5b9410bb",
   "metadata": {},
   "outputs": [
    {
     "name": "stdout",
     "output_type": "stream",
     "text": [
      "['apple', 'orange', 'banana']\n",
      "['apple or', 'e banana']\n"
     ]
    }
   ],
   "source": [
    "#re.split\n",
    "print(re.split(\"\\s\", \"apple orange banana\"))\n",
    "print(re.split(\"a.g\", \"apple orange banana\"))"
   ]
  },
  {
   "cell_type": "code",
   "execution_count": 48,
   "id": "a901ecaf",
   "metadata": {},
   "outputs": [
    {
     "name": "stdout",
     "output_type": "stream",
     "text": [
      "kiwi orange banana kiwi orange banana\n",
      "kiwi orange banana apple orange banana\n"
     ]
    }
   ],
   "source": [
    "#sub\n",
    "print(re.sub(\"app.e\", \"kiwi\", \"apple orange banana apple orange banana\"))\n",
    "print(re.sub(\"app.e\", \"kiwi\", \"apple orange banana apple orange banana\",1))"
   ]
  },
  {
   "cell_type": "code",
   "execution_count": 49,
   "id": "24ecb15e",
   "metadata": {},
   "outputs": [
    {
     "data": {
      "text/plain": [
       "re.Pattern"
      ]
     },
     "execution_count": 49,
     "metadata": {},
     "output_type": "execute_result"
    }
   ],
   "source": [
    "type(c)"
   ]
  },
  {
   "cell_type": "markdown",
   "id": "75e472e8",
   "metadata": {},
   "source": [
    "# 3) 정규 표현식 객체"
   ]
  },
  {
   "cell_type": "code",
   "execution_count": 54,
   "id": "f68afde3",
   "metadata": {},
   "outputs": [
    {
     "name": "stdout",
     "output_type": "stream",
     "text": [
      "<re.Match object; span=(0, 16), match='appppppppppppple'>\n",
      "<re.Match object; span=(0, 16), match='appppppppppppple'>\n",
      "['appppppppppppple', 'apple', 'appppple', 'aple', 'ale']\n",
      "------------------\n",
      "<callable_iterator object at 0x000001A2DCA22410>\n",
      "appppppppppppple\n",
      "apple\n",
      "appppple\n",
      "aple\n",
      "ale\n"
     ]
    }
   ],
   "source": [
    "c = re.compile(\"ap*le\")\n",
    "print(c.search(\"appppppppppppple\"))\n",
    "print(c.match(\"appppppppppppple\"))\n",
    "print(c.findall(\"appppppppppppple apple appppple aple ale\"))\n",
    "print(\"------------------\")\n",
    "rs = c.finditer(\"appppppppppppple apple appppple aple ale\")\n",
    "print(rs)\n",
    "for r in rs:\n",
    "    print(r.group())"
   ]
  },
  {
   "cell_type": "code",
   "execution_count": 69,
   "id": "d5ec80df",
   "metadata": {},
   "outputs": [
    {
     "name": "stdout",
     "output_type": "stream",
     "text": [
      "<re.Match object; span=(19, 32), match='010-1111-2222'>\n",
      "('010', '1111', '2222')\n",
      "010-1111-2222\n",
      "010\n",
      "1111\n",
      "2222\n",
      "19\n",
      "22\n",
      "(19, 22)\n"
     ]
    }
   ],
   "source": [
    "a = \"my phone number is 010-1111-2222, 010-3333-4444. Call me!\"\n",
    "\n",
    "print(re.search(\"\\d{3}-\\d{4}-\\d{4}\",a))\n",
    "\n",
    "b = re.search(\"(\\d{3})-(\\d{4})-(\\d{4})\",a)\n",
    "\n",
    "\n",
    "print(b.groups())\n",
    "print(b.group(0))#0은 전체\n",
    "print(b.group(1))#1부터 시작\n",
    "print(b.group(2))\n",
    "print(b.group(3))\n",
    "print(b.start(1))\n",
    "print(b.end(1))\n",
    "print(b.span(1))"
   ]
  },
  {
   "cell_type": "markdown",
   "id": "b8166adf",
   "metadata": {},
   "source": [
    "# 4) 컴파이 옵션 "
   ]
  },
  {
   "cell_type": "code",
   "execution_count": 61,
   "id": "551ac0d4",
   "metadata": {},
   "outputs": [
    {
     "name": "stdout",
     "output_type": "stream",
     "text": [
      "['aple']\n",
      "['AppLe', 'apPPle', 'aple', 'ALE']\n"
     ]
    }
   ],
   "source": [
    "c = re.compile(\"ap*le\")\n",
    "a = \"AppLe apPPle orange banana aple ALE\"\n",
    "print(c.findall(a))\n",
    "\n",
    "c = re.compile(\"ap*le\", re.I)#대소문자 전부검색\n",
    "print(c.findall(a))"
   ]
  },
  {
   "cell_type": "code",
   "execution_count": 73,
   "id": "5d318917",
   "metadata": {},
   "outputs": [
    {
     "name": "stdout",
     "output_type": "stream",
     "text": [
      "[]\n",
      "['aple', 'apple']\n"
     ]
    }
   ],
   "source": [
    "a = \"\"\"Apple apple\n",
    "aple banana\n",
    "python is good\n",
    "Hello Python\n",
    "apple orange\n",
    "\"\"\"\n",
    "c = re.compile(\"^ap*le\")\n",
    "\n",
    "print(c.findall(a))\n",
    "\n",
    "c = re.compile(\"^ap*le\",re.M)\n",
    "\n",
    "print(c.findall(a))"
   ]
  },
  {
   "cell_type": "code",
   "execution_count": 65,
   "id": "35e06b5c",
   "metadata": {},
   "outputs": [
    {
     "name": "stdout",
     "output_type": "stream",
     "text": [
      "re.compile('\\n[0-9]+\\n[0-9]+\\n[0-9]+\\n', re.VERBOSE)\n",
      "['010', '1234', '5678', '123', '4567']\n"
     ]
    }
   ],
   "source": [
    "a = \"phone number : 010-1234-5678, tel number : 02.123.4567\"\n",
    "\n",
    "c = re.compile(r\"\"\"\n",
    "[0-9]+\n",
    "[0-9]+\n",
    "[0-9]+\n",
    "\"\"\",re.X)\n",
    "print(c)\n",
    "print(c.findall(a))"
   ]
  },
  {
   "cell_type": "code",
   "execution_count": null,
   "id": "18bb584d",
   "metadata": {},
   "outputs": [],
   "source": []
  }
 ],
 "metadata": {
  "kernelspec": {
   "display_name": "Python 3 (ipykernel)",
   "language": "python",
   "name": "python3"
  },
  "language_info": {
   "codemirror_mode": {
    "name": "ipython",
    "version": 3
   },
   "file_extension": ".py",
   "mimetype": "text/x-python",
   "name": "python",
   "nbconvert_exporter": "python",
   "pygments_lexer": "ipython3",
   "version": "3.10.6"
  }
 },
 "nbformat": 4,
 "nbformat_minor": 5
}
