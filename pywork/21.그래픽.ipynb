{
 "cells": [
  {
   "cell_type": "markdown",
   "id": "1faf19e1",
   "metadata": {},
   "source": [
    "# 1. 그래픽"
   ]
  },
  {
   "cell_type": "markdown",
   "id": "9e2f7549",
   "metadata": {},
   "source": [
    "# 1) 윈도우 생성"
   ]
  },
  {
   "cell_type": "code",
   "execution_count": 10,
   "id": "4ccd2aa4",
   "metadata": {},
   "outputs": [],
   "source": [
    "from tkinter import *\n",
    "main = Tk()\n",
    "main.title(\"window\")\n",
    "main.geometry(\"200x320\")\n",
    "\n",
    "lbl = Label(main, text=\"Label\",font=\"arial 20\")\n",
    "lbl.pack()\n",
    "def appleclick():\n",
    "    lbl[\"text\"] = \"Apple\"\n",
    "def orangeclick():\n",
    "    lbl[\"text\"] = \"Orange\"\n",
    "apple = Button(main, text=\"Apple\",foreground=\"Red\",command=appleclick)\n",
    "apple.pack()\n",
    "orange = Button(main, text=\"Orange\",foreground=\"Orange\",command=orangeclick)\n",
    "orange.pack()\n",
    "\n",
    "main.mainloop()"
   ]
  },
  {
   "cell_type": "markdown",
   "id": "f11f38f3",
   "metadata": {},
   "source": [
    "# 2) 대화상자"
   ]
  },
  {
   "cell_type": "code",
   "execution_count": 7,
   "id": "aa8f04ac",
   "metadata": {},
   "outputs": [],
   "source": [
    "from tkinter import *\n",
    "import tkinter.messagebox\n",
    "import tkinter.simpledialog\n",
    "\n",
    "main = Tk()\n",
    "main.title(\"window\")\n",
    "main.geometry(\"200x320\")\n",
    "\n",
    "lbl1 = Label(main, text=\"Label1\", font=\"arial 15\")\n",
    "lbl1.pack()\n",
    "lbl2 = Label(main, text=\"Label2\", font=\"arial 15\")\n",
    "lbl2.pack()\n",
    "lbl3 = Label(main, text=\"Label3\", font=\"arial 15\")\n",
    "lbl3.pack()\n",
    "lbl4 = Label(main, text=\"Label4\", font=\"arial 15\")\n",
    "lbl4.pack()\n",
    "lbl5 = Label(main, text=\"Label5\", font=\"arial 15\")\n",
    "lbl5.pack()\n",
    "lbl6 = Label(main, text=\"Label6\", font=\"arial 15\")\n",
    "lbl6.pack()\n",
    "lbl7 = Label(main, text=\"Label7\", font=\"arial 15\")\n",
    "lbl7.pack()\n",
    "\n",
    "tkinter.messagebox.showinfo(\"정보\", \"showinfo 함수\")\n",
    "tkinter.messagebox.showwarning(\"경고\", \"showwarning 함수\")\n",
    "\n",
    "main.mainloop()"
   ]
  },
  {
   "cell_type": "markdown",
   "id": "28d87064",
   "metadata": {},
   "source": [
    "# 3) 메뉴"
   ]
  },
  {
   "cell_type": "code",
   "execution_count": 10,
   "id": "22380b81",
   "metadata": {},
   "outputs": [],
   "source": [
    "from tkinter import *\n",
    "import tkinter.messagebox\n",
    "\n",
    "main = Tk()\n",
    "main.title(\"menu\")\n",
    "main.geometry(\"200x320\")\n",
    "\n",
    "def show():\n",
    "    tkinter.messagebox.showinfo(\"팝업확인\",\"팝업확인하였습니다\")\n",
    "menubar = Menu(main)\n",
    "main.config(menu=menubar)\n",
    "menubar.add_command(label=\"파일\")\n",
    "menubar.add_command(label=\"도구\")\n",
    "menubar.add_command(label=\"종료\")\n",
    "\n",
    "popup = Menu(menubar)\n",
    "menubar.add_cascade(label=\"팝업메뉴, menu=popup\")\n",
    "popup.add_command(label=\"팝업확인\",command=show())\n",
    "\n",
    "main.mainloop()"
   ]
  },
  {
   "cell_type": "code",
   "execution_count": null,
   "id": "bb7dda3c",
   "metadata": {},
   "outputs": [],
   "source": []
  }
 ],
 "metadata": {
  "kernelspec": {
   "display_name": "Python 3 (ipykernel)",
   "language": "python",
   "name": "python3"
  },
  "language_info": {
   "codemirror_mode": {
    "name": "ipython",
    "version": 3
   },
   "file_extension": ".py",
   "mimetype": "text/x-python",
   "name": "python",
   "nbconvert_exporter": "python",
   "pygments_lexer": "ipython3",
   "version": "3.10.6"
  }
 },
 "nbformat": 4,
 "nbformat_minor": 5
}
