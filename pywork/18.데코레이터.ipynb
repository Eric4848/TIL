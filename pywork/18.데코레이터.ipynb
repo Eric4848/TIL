{
 "cells": [
  {
   "cell_type": "markdown",
   "id": "85583a7c",
   "metadata": {},
   "source": [
    "# 1. 데코레이터"
   ]
  },
  {
   "cell_type": "markdown",
   "id": "ee94c1d1",
   "metadata": {},
   "source": [
    "# 1) 데코레이터"
   ]
  },
  {
   "cell_type": "code",
   "execution_count": 4,
   "id": "a70d6df3",
   "metadata": {},
   "outputs": [
    {
     "name": "stdout",
     "output_type": "stream",
     "text": [
      "Hello Eric\n"
     ]
    }
   ],
   "source": [
    "def hello(name):\n",
    "    return \"Hello \" + name\n",
    "\n",
    "a = hello\n",
    "print(a(\"Eric\"))"
   ]
  },
  {
   "cell_type": "code",
   "execution_count": null,
   "id": "4b3b7422",
   "metadata": {},
   "outputs": [],
   "source": [
    "def "
   ]
  },
  {
   "cell_type": "code",
   "execution_count": 2,
   "id": "d1d12737",
   "metadata": {},
   "outputs": [
    {
     "name": "stdout",
     "output_type": "stream",
     "text": [
      "<class 'function'>\n",
      "Hello Eric\n",
      "<class 'function'>\n",
      "Hi Eric\n"
     ]
    }
   ],
   "source": [
    "def hello(name):\n",
    "    return \"Hello \" + name\n",
    "def hi(name):\n",
    "    return \"Hi \" + name\n",
    "\n",
    "lista = [hello, hi]\n",
    "\n",
    "for item in lista:\n",
    "    print(type(item))\n",
    "    print(item(\"Eric\"))"
   ]
  },
  {
   "cell_type": "code",
   "execution_count": null,
   "id": "a7b13cf1",
   "metadata": {},
   "outputs": [],
   "source": []
  }
 ],
 "metadata": {
  "kernelspec": {
   "display_name": "Python 3 (ipykernel)",
   "language": "python",
   "name": "python3"
  },
  "language_info": {
   "codemirror_mode": {
    "name": "ipython",
    "version": 3
   },
   "file_extension": ".py",
   "mimetype": "text/x-python",
   "name": "python",
   "nbconvert_exporter": "python",
   "pygments_lexer": "ipython3",
   "version": "3.10.6"
  }
 },
 "nbformat": 4,
 "nbformat_minor": 5
}
