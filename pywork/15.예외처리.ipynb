{
 "cells": [
  {
   "cell_type": "markdown",
   "id": "3575e8df",
   "metadata": {},
   "source": [
    "# 1. 예외처리"
   ]
  },
  {
   "cell_type": "markdown",
   "id": "3ab9e1e4",
   "metadata": {},
   "source": [
    "# 1) 예외처리 구문 "
   ]
  },
  {
   "cell_type": "code",
   "execution_count": 5,
   "id": "03f89c84",
   "metadata": {},
   "outputs": [
    {
     "name": "stdout",
     "output_type": "stream",
     "text": [
      "Error !!!\n"
     ]
    }
   ],
   "source": [
    "a = 10\n",
    "b = 0\n",
    "\n",
    "try:\n",
    "    c = a / b\n",
    "except:\n",
    "    print(\"Error !!!\")"
   ]
  },
  {
   "cell_type": "markdown",
   "id": "240ee637",
   "metadata": {},
   "source": [
    "# 2) 예외명별 예외처리 구문"
   ]
  },
  {
   "cell_type": "code",
   "execution_count": 7,
   "id": "07f8b6a9",
   "metadata": {},
   "outputs": [
    {
     "name": "stdout",
     "output_type": "stream",
     "text": [
      "Error !!!\n"
     ]
    }
   ],
   "source": [
    "# ZeroDivisionError\n",
    "\n",
    "a = 10\n",
    "b = 0\n",
    "\n",
    "try :\n",
    "    c = a / b\n",
    "except ZeroDivisionError:\n",
    "    print(\"Error !!!\")"
   ]
  },
  {
   "cell_type": "code",
   "execution_count": 8,
   "id": "9fe270d2",
   "metadata": {},
   "outputs": [
    {
     "name": "stdout",
     "output_type": "stream",
     "text": [
      "NameError !!!\n"
     ]
    }
   ],
   "source": [
    "# NameError\n",
    "\n",
    "try:\n",
    "    print(aa)\n",
    "except NameError:\n",
    "    print(\"NameError !!!\")"
   ]
  },
  {
   "cell_type": "code",
   "execution_count": 9,
   "id": "56acb90a",
   "metadata": {},
   "outputs": [
    {
     "name": "stdout",
     "output_type": "stream",
     "text": [
      "ValueError !!!\n"
     ]
    }
   ],
   "source": [
    "# ValueError - 인자의 형식오류\n",
    "\n",
    "c = \"Eric\"\n",
    "try:\n",
    "    int(c)\n",
    "except ValueError:\n",
    "    print(\"ValueError !!!\")\n",
    "    "
   ]
  },
  {
   "cell_type": "code",
   "execution_count": 14,
   "id": "d67de8ef",
   "metadata": {},
   "outputs": [
    {
     "name": "stdout",
     "output_type": "stream",
     "text": [
      "IndexError !!!\n"
     ]
    }
   ],
   "source": [
    "# IndexError\n",
    "\n",
    "try:\n",
    "    print(c[10])\n",
    "except IndexError:\n",
    "    print(\"IndexError !!!\")"
   ]
  },
  {
   "cell_type": "code",
   "execution_count": 15,
   "id": "bd8c1c45",
   "metadata": {},
   "outputs": [
    {
     "name": "stdout",
     "output_type": "stream",
     "text": [
      "TypeError !!!\n"
     ]
    }
   ],
   "source": [
    "# TypeError\n",
    "\n",
    "try:\n",
    "    d = a + c\n",
    "except TypeError:\n",
    "    print(\"TypeError !!!\")"
   ]
  },
  {
   "cell_type": "code",
   "execution_count": 16,
   "id": "f1ce2b10",
   "metadata": {},
   "outputs": [
    {
     "name": "stdout",
     "output_type": "stream",
     "text": [
      "division by zero\n"
     ]
    }
   ],
   "source": [
    "#오류메세지 변수 활용\n",
    "\n",
    "try:\n",
    "    a = 1/0\n",
    "except ZeroDivisionError as e:\n",
    "    print(e)"
   ]
  },
  {
   "cell_type": "markdown",
   "id": "1fddfad3",
   "metadata": {},
   "source": [
    "# 3) 여러 개의 예외처리"
   ]
  },
  {
   "cell_type": "code",
   "execution_count": 27,
   "id": "0ee2d443",
   "metadata": {},
   "outputs": [
    {
     "name": "stdout",
     "output_type": "stream",
     "text": [
      "string index out of range occuerd\n"
     ]
    }
   ],
   "source": [
    "# 앞선 예외먼저 처리\n",
    "try:\n",
    "    c = \"hi\"\n",
    "    print(aa)\n",
    "    print(c[6])\n",
    "    \n",
    "except IndexError as e1:\n",
    "    print(e1, \"occuerd\")\n",
    "except NameError as e2:\n",
    "    print(e2, \"occured\")"
   ]
  },
  {
   "cell_type": "code",
   "execution_count": 28,
   "id": "b68fa29a",
   "metadata": {},
   "outputs": [
    {
     "name": "stdout",
     "output_type": "stream",
     "text": [
      "string index out of range occured\n"
     ]
    }
   ],
   "source": [
    "try:\n",
    "    c = \"hi\"\n",
    "    print(aa)\n",
    "    print(c[6])\n",
    "    \n",
    "except (IndexError,NameError) as e:\n",
    "    print(e, \"occured\")"
   ]
  },
  {
   "cell_type": "markdown",
   "id": "c33abf79",
   "metadata": {},
   "source": [
    "# 4) fianlly"
   ]
  },
  {
   "cell_type": "code",
   "execution_count": 22,
   "id": "7c9da161",
   "metadata": {},
   "outputs": [
    {
     "name": "stdout",
     "output_type": "stream",
     "text": [
      "division by zero occured\n",
      "File closed\n"
     ]
    }
   ],
   "source": [
    "try:\n",
    "    f = open(\"abc.txt\", \"w\")\n",
    "    c = 10/0\n",
    "    f.write(c)\n",
    "except ZeroDivisionError as e:\n",
    "    print(e, \"occured\")\n",
    "finally:\n",
    "    f.close()\n",
    "    print(\"File closed\")"
   ]
  },
  {
   "cell_type": "code",
   "execution_count": 31,
   "id": "08fb65df",
   "metadata": {},
   "outputs": [
    {
     "name": "stdout",
     "output_type": "stream",
     "text": [
      "File closed\n"
     ]
    },
    {
     "ename": "FileNotFoundError",
     "evalue": "[Errno 2] No such file or directory: 'abctest.txt'",
     "output_type": "error",
     "traceback": [
      "\u001b[1;31m---------------------------------------------------------------------------\u001b[0m",
      "\u001b[1;31mFileNotFoundError\u001b[0m                         Traceback (most recent call last)",
      "Cell \u001b[1;32mIn[31], line 2\u001b[0m\n\u001b[0;32m      1\u001b[0m \u001b[38;5;28;01mtry\u001b[39;00m:\n\u001b[1;32m----> 2\u001b[0m     f \u001b[38;5;241m=\u001b[39m \u001b[38;5;28;43mopen\u001b[39;49m\u001b[43m(\u001b[49m\u001b[38;5;124;43m\"\u001b[39;49m\u001b[38;5;124;43mabctest.txt\u001b[39;49m\u001b[38;5;124;43m\"\u001b[39;49m\u001b[43m,\u001b[49m\u001b[43m \u001b[49m\u001b[38;5;124;43m\"\u001b[39;49m\u001b[38;5;124;43mr\u001b[39;49m\u001b[38;5;124;43m\"\u001b[39;49m\u001b[43m)\u001b[49m\n\u001b[0;32m      3\u001b[0m     c \u001b[38;5;241m=\u001b[39m \u001b[38;5;241m10\u001b[39m\u001b[38;5;241m/\u001b[39m\u001b[38;5;241m0\u001b[39m\n\u001b[0;32m      4\u001b[0m     f\u001b[38;5;241m.\u001b[39mwrite(c)\n",
      "File \u001b[1;32mC:\\Python\\lib\\site-packages\\IPython\\core\\interactiveshell.py:282\u001b[0m, in \u001b[0;36m_modified_open\u001b[1;34m(file, *args, **kwargs)\u001b[0m\n\u001b[0;32m    275\u001b[0m \u001b[38;5;28;01mif\u001b[39;00m file \u001b[38;5;129;01min\u001b[39;00m {\u001b[38;5;241m0\u001b[39m, \u001b[38;5;241m1\u001b[39m, \u001b[38;5;241m2\u001b[39m}:\n\u001b[0;32m    276\u001b[0m     \u001b[38;5;28;01mraise\u001b[39;00m \u001b[38;5;167;01mValueError\u001b[39;00m(\n\u001b[0;32m    277\u001b[0m         \u001b[38;5;124mf\u001b[39m\u001b[38;5;124m\"\u001b[39m\u001b[38;5;124mIPython won\u001b[39m\u001b[38;5;124m'\u001b[39m\u001b[38;5;124mt let you open fd=\u001b[39m\u001b[38;5;132;01m{\u001b[39;00mfile\u001b[38;5;132;01m}\u001b[39;00m\u001b[38;5;124m by default \u001b[39m\u001b[38;5;124m\"\u001b[39m\n\u001b[0;32m    278\u001b[0m         \u001b[38;5;124m\"\u001b[39m\u001b[38;5;124mas it is likely to crash IPython. If you know what you are doing, \u001b[39m\u001b[38;5;124m\"\u001b[39m\n\u001b[0;32m    279\u001b[0m         \u001b[38;5;124m\"\u001b[39m\u001b[38;5;124myou can use builtins\u001b[39m\u001b[38;5;124m'\u001b[39m\u001b[38;5;124m open.\u001b[39m\u001b[38;5;124m\"\u001b[39m\n\u001b[0;32m    280\u001b[0m     )\n\u001b[1;32m--> 282\u001b[0m \u001b[38;5;28;01mreturn\u001b[39;00m io_open(file, \u001b[38;5;241m*\u001b[39margs, \u001b[38;5;241m*\u001b[39m\u001b[38;5;241m*\u001b[39mkwargs)\n",
      "\u001b[1;31mFileNotFoundError\u001b[0m: [Errno 2] No such file or directory: 'abctest.txt'"
     ]
    }
   ],
   "source": [
    "try:\n",
    "    f = open(\"abctest.txt\", \"r\")\n",
    "    c = 10/0\n",
    "    f.write(c)\n",
    "except ZeroDivisionError as e:\n",
    "    print(e, \"occured\")\n",
    "finally:\n",
    "    f.close()\n",
    "    print(\"File closed\")"
   ]
  },
  {
   "cell_type": "code",
   "execution_count": 30,
   "id": "9ee68382",
   "metadata": {},
   "outputs": [
    {
     "name": "stdout",
     "output_type": "stream",
     "text": [
      "Unknown Error occured\n",
      "File closed\n"
     ]
    }
   ],
   "source": [
    "try:\n",
    "    f = open(\"abctest.txt\", \"r\")\n",
    "    c = 10/0\n",
    "    f.write(c)\n",
    "except ZeroDivisionError as e:\n",
    "    print(e, \"occured\")\n",
    "except:\n",
    "    print(\"Unknown Error occured\")\n",
    "finally:\n",
    "    f.close()\n",
    "    print(\"File closed\")"
   ]
  },
  {
   "cell_type": "markdown",
   "id": "6fcd5a13",
   "metadata": {},
   "source": [
    "# 5) 예외회피"
   ]
  },
  {
   "cell_type": "code",
   "execution_count": 32,
   "id": "af65e338",
   "metadata": {},
   "outputs": [],
   "source": [
    "#예외 회피\n",
    "\n",
    "try:\n",
    "    f = open(\"asdfasdf.py\",\"r\")\n",
    "    content = f.read()\n",
    "    print(content)\n",
    "except FileNotFoundError:\n",
    "    pass"
   ]
  },
  {
   "cell_type": "code",
   "execution_count": 34,
   "id": "1c894f28",
   "metadata": {},
   "outputs": [
    {
     "name": "stdout",
     "output_type": "stream",
     "text": [
      "a\n"
     ]
    },
    {
     "ename": "NotImplementedError",
     "evalue": "",
     "output_type": "error",
     "traceback": [
      "\u001b[1;31m---------------------------------------------------------------------------\u001b[0m",
      "\u001b[1;31mNotImplementedError\u001b[0m                       Traceback (most recent call last)",
      "Cell \u001b[1;32mIn[34], line 7\u001b[0m\n\u001b[0;32m      5\u001b[0m         \u001b[38;5;28;01mraise\u001b[39;00m \u001b[38;5;167;01mNotImplementedError\u001b[39;00m\n\u001b[0;32m      6\u001b[0m p1 \u001b[38;5;241m=\u001b[39m Person()\n\u001b[1;32m----> 7\u001b[0m \u001b[43mp1\u001b[49m\u001b[38;5;241;43m.\u001b[39;49m\u001b[43mset_dat\u001b[49m\u001b[43m(\u001b[49m\u001b[43m)\u001b[49m\n",
      "Cell \u001b[1;32mIn[34], line 5\u001b[0m, in \u001b[0;36mPerson.set_dat\u001b[1;34m(self)\u001b[0m\n\u001b[0;32m      3\u001b[0m \u001b[38;5;28;01mdef\u001b[39;00m \u001b[38;5;21mset_dat\u001b[39m(\u001b[38;5;28mself\u001b[39m):\n\u001b[0;32m      4\u001b[0m     \u001b[38;5;28mprint\u001b[39m(\u001b[38;5;124m\"\u001b[39m\u001b[38;5;124ma\u001b[39m\u001b[38;5;124m\"\u001b[39m)\n\u001b[1;32m----> 5\u001b[0m     \u001b[38;5;28;01mraise\u001b[39;00m \u001b[38;5;167;01mNotImplementedError\u001b[39;00m\n",
      "\u001b[1;31mNotImplementedError\u001b[0m: "
     ]
    }
   ],
   "source": [
    "#예외 강제 발생\n",
    "class Person:\n",
    "    def set_dat(self):\n",
    "        print(\"a\")\n",
    "        raise NotImplementedError\n",
    "p1 = Person()\n",
    "p1.set_dat()"
   ]
  },
  {
   "cell_type": "markdown",
   "id": "0c46afec",
   "metadata": {},
   "source": [
    "# 6) 예외 만들기"
   ]
  },
  {
   "cell_type": "code",
   "execution_count": 67,
   "id": "d475091d",
   "metadata": {
    "scrolled": true
   },
   "outputs": [
    {
     "data": {
      "text/plain": [
       "['__cause__',\n",
       " '__class__',\n",
       " '__context__',\n",
       " '__delattr__',\n",
       " '__dict__',\n",
       " '__dir__',\n",
       " '__doc__',\n",
       " '__eq__',\n",
       " '__format__',\n",
       " '__ge__',\n",
       " '__getattribute__',\n",
       " '__gt__',\n",
       " '__hash__',\n",
       " '__init__',\n",
       " '__init_subclass__',\n",
       " '__le__',\n",
       " '__lt__',\n",
       " '__ne__',\n",
       " '__new__',\n",
       " '__reduce__',\n",
       " '__reduce_ex__',\n",
       " '__repr__',\n",
       " '__setattr__',\n",
       " '__setstate__',\n",
       " '__sizeof__',\n",
       " '__str__',\n",
       " '__subclasshook__',\n",
       " '__suppress_context__',\n",
       " '__traceback__',\n",
       " 'args',\n",
       " 'with_traceback']"
      ]
     },
     "execution_count": 67,
     "metadata": {},
     "output_type": "execute_result"
    }
   ],
   "source": [
    "dir(Exception)"
   ]
  },
  {
   "cell_type": "code",
   "execution_count": 39,
   "id": "bf342e2b",
   "metadata": {},
   "outputs": [
    {
     "name": "stdout",
     "output_type": "stream",
     "text": [
      "10\n"
     ]
    },
    {
     "ename": "CustomError",
     "evalue": "",
     "output_type": "error",
     "traceback": [
      "\u001b[1;31m---------------------------------------------------------------------------\u001b[0m",
      "\u001b[1;31mCustomError\u001b[0m                               Traceback (most recent call last)",
      "Cell \u001b[1;32mIn[39], line 11\u001b[0m\n\u001b[0;32m      8\u001b[0m a \u001b[38;5;241m=\u001b[39m \u001b[38;5;241m10\u001b[39m\n\u001b[0;32m      9\u001b[0m input_dat(a)\n\u001b[1;32m---> 11\u001b[0m \u001b[43minput_dat\u001b[49m\u001b[43m(\u001b[49m\u001b[38;5;241;43m0\u001b[39;49m\u001b[43m)\u001b[49m\n",
      "Cell \u001b[1;32mIn[39], line 6\u001b[0m, in \u001b[0;36minput_dat\u001b[1;34m(a)\u001b[0m\n\u001b[0;32m      4\u001b[0m \u001b[38;5;28;01mdef\u001b[39;00m \u001b[38;5;21minput_dat\u001b[39m(a):\n\u001b[0;32m      5\u001b[0m     \u001b[38;5;28;01mif\u001b[39;00m a \u001b[38;5;241m==\u001b[39m \u001b[38;5;241m0\u001b[39m:\n\u001b[1;32m----> 6\u001b[0m         \u001b[38;5;28;01mraise\u001b[39;00m CustomError\n\u001b[0;32m      7\u001b[0m     \u001b[38;5;28mprint\u001b[39m(a)\n",
      "\u001b[1;31mCustomError\u001b[0m: "
     ]
    }
   ],
   "source": [
    "class CustomError(Exception):\n",
    "    pass\n",
    "\n",
    "def input_dat(a):\n",
    "    if a == 0:\n",
    "        raise CustomError\n",
    "    print(a)\n",
    "a = 10\n",
    "input_dat(a)\n",
    "\n",
    "input_dat(0)"
   ]
  },
  {
   "cell_type": "code",
   "execution_count": 47,
   "id": "1737925b",
   "metadata": {},
   "outputs": [
    {
     "name": "stdout",
     "output_type": "stream",
     "text": [
      " occured\n"
     ]
    }
   ],
   "source": [
    "try:\n",
    "    input_dat(0)\n",
    "except CustomError as e:\n",
    "    print(e, \"occured\")"
   ]
  },
  {
   "cell_type": "code",
   "execution_count": 59,
   "id": "58159215",
   "metadata": {},
   "outputs": [
    {
     "name": "stdout",
     "output_type": "stream",
     "text": [
      "First Number : 23\n",
      "Second Number : 1\n",
      "Input single number\n"
     ]
    }
   ],
   "source": [
    "class BigNumberError(Exception):\n",
    "    pass\n",
    "\n",
    "def comp(a, b):\n",
    "    if a >= 10 or b >= 10:\n",
    "        raise BigNumberError\n",
    "    else:\n",
    "        print(f\"{a} + {b} = {a + b}\")\n",
    "\n",
    "a = int(input(\"First Number : \"))\n",
    "b = int(input(\"Second Number : \"))\n",
    "try:            \n",
    "    comp(a,b)\n",
    "except BigNumberError:\n",
    "    print(\"Input single number\")"
   ]
  },
  {
   "cell_type": "code",
   "execution_count": 63,
   "id": "12d187dc",
   "metadata": {},
   "outputs": [
    {
     "name": "stdout",
     "output_type": "stream",
     "text": [
      "First Number : 11\n",
      "Second Number : 1\n",
      "[Error Code : 01] BNE occured\n"
     ]
    }
   ],
   "source": [
    "# Customerror 오류메세지\n",
    "\n",
    "class BigNumberError(Exception):\n",
    "    def __init__(self, msg):\n",
    "        self.msg = msg\n",
    "    def __str__(self):\n",
    "        return \"[Error Code : 01] \" + self.msg\n",
    "\n",
    "def comp(a, b):\n",
    "    if a >= 10 or b >= 10:\n",
    "        raise BigNumberError(\"BNE\")\n",
    "    else:\n",
    "        print(f\"{a} + {b} = {a + b}\")\n",
    "\n",
    "a = int(input(\"First Number : \"))\n",
    "b = int(input(\"Second Number : \"))\n",
    "try:            \n",
    "    comp(a,b)\n",
    "except BigNumberError as e:\n",
    "    print(e, \"occured\")"
   ]
  },
  {
   "cell_type": "code",
   "execution_count": null,
   "id": "76573aee",
   "metadata": {},
   "outputs": [],
   "source": []
  }
 ],
 "metadata": {
  "kernelspec": {
   "display_name": "Python 3 (ipykernel)",
   "language": "python",
   "name": "python3"
  },
  "language_info": {
   "codemirror_mode": {
    "name": "ipython",
    "version": 3
   },
   "file_extension": ".py",
   "mimetype": "text/x-python",
   "name": "python",
   "nbconvert_exporter": "python",
   "pygments_lexer": "ipython3",
   "version": "3.10.6"
  }
 },
 "nbformat": 4,
 "nbformat_minor": 5
}
