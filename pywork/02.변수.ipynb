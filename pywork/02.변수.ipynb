{
 "cells": [
  {
   "cell_type": "markdown",
   "id": "14cba668",
   "metadata": {},
   "source": [
    "# 1)소스 작성 규칙"
   ]
  },
  {
   "cell_type": "code",
   "execution_count": null,
   "id": "5b12b646",
   "metadata": {},
   "outputs": [],
   "source": [
    "a = 10\n",
    "\n",
    "if a>5:\n",
    "    print(\"a는 5보다 큽니다\")\n",
    "else:\n",
    "    print(\"a는 5보다 작거나 같습니다\")"
   ]
  },
  {
   "cell_type": "markdown",
   "id": "563e490d",
   "metadata": {},
   "source": [
    "# 2)print()"
   ]
  },
  {
   "cell_type": "code",
   "execution_count": null,
   "id": "e7c08f23",
   "metadata": {},
   "outputs": [],
   "source": [
    "print(\"3*5\")"
   ]
  },
  {
   "cell_type": "code",
   "execution_count": null,
   "id": "7144ec01",
   "metadata": {},
   "outputs": [],
   "source": [
    "print(3*5)"
   ]
  },
  {
   "cell_type": "code",
   "execution_count": null,
   "id": "273844d0",
   "metadata": {},
   "outputs": [],
   "source": [
    "print(\"Python\" \"is\" \"powerful\")\n",
    "print(\"Python\" + \"is\" + \"powerful\")"
   ]
  },
  {
   "cell_type": "code",
   "execution_count": null,
   "id": "a34b5a99",
   "metadata": {},
   "outputs": [],
   "source": [
    "print(\"Python\", \"is\", \"powerful\")\n",
    "print(\"Python\", \"is\", \"powerful\",sep=\";\")"
   ]
  },
  {
   "cell_type": "code",
   "execution_count": null,
   "id": "7783eba6",
   "metadata": {},
   "outputs": [],
   "source": [
    "print(\"Python\", \"is\", \"powerful\",end=\";\")\n",
    "print(\"Python\", \"is\", \"powerful\",end=\";\")"
   ]
  },
  {
   "cell_type": "markdown",
   "id": "db9c5694",
   "metadata": {},
   "source": [
    "# 3)input()"
   ]
  },
  {
   "cell_type": "code",
   "execution_count": null,
   "id": "773f2d1c",
   "metadata": {
    "scrolled": true
   },
   "outputs": [],
   "source": [
    "name = input(\"이름을 입력하세요 : \")\n",
    "print (name)"
   ]
  },
  {
   "cell_type": "code",
   "execution_count": null,
   "id": "6cbabf57",
   "metadata": {},
   "outputs": [],
   "source": [
    "age = input(\"나이를 입력하세요 : \")\n",
    "print(age)"
   ]
  },
  {
   "cell_type": "code",
   "execution_count": null,
   "id": "6f027818",
   "metadata": {},
   "outputs": [],
   "source": [
    "age = int(input(\"나이를 입력하세요 : \"))\n",
    "age+=50\n",
    "print(age)"
   ]
  },
  {
   "cell_type": "markdown",
   "id": "33cc5fdf",
   "metadata": {},
   "source": [
    "# 4)변수"
   ]
  },
  {
   "cell_type": "code",
   "execution_count": null,
   "id": "7c2b68b3",
   "metadata": {},
   "outputs": [],
   "source": [
    "a = 10\n",
    "b = 20\n",
    "c = a + b\n",
    "print(c)"
   ]
  },
  {
   "cell_type": "code",
   "execution_count": null,
   "id": "fd692658",
   "metadata": {},
   "outputs": [],
   "source": [
    "inta = 3\n",
    "pi = 3.14\n",
    "boolean = True\n",
    "char = \"A\"\n",
    "str = \"Python\""
   ]
  },
  {
   "cell_type": "code",
   "execution_count": null,
   "id": "7c8d5e8a",
   "metadata": {},
   "outputs": [],
   "source": [
    "print(type(inta))\n",
    "print(type(pi))\n",
    "print(type(boolean))\n",
    "print(type(char))\n",
    "print(type(str))"
   ]
  },
  {
   "cell_type": "code",
   "execution_count": null,
   "id": "30f8d60c",
   "metadata": {},
   "outputs": [],
   "source": [
    "a = 10\n",
    "print(type(a))\n",
    "\n",
    "a = \"홍길동\"\n",
    "print(type(a))"
   ]
  },
  {
   "cell_type": "code",
   "execution_count": null,
   "id": "05910f23",
   "metadata": {},
   "outputs": [],
   "source": [
    "name, age, email = \"홍길동\", 30, \"hong123@naver.com\"\n",
    "print(name, age, email)"
   ]
  },
  {
   "cell_type": "code",
   "execution_count": null,
   "id": "03084ba4",
   "metadata": {},
   "outputs": [],
   "source": [
    "name = None\n",
    "print(name)\n",
    "print(type(name))"
   ]
  },
  {
   "cell_type": "code",
   "execution_count": null,
   "id": "65adc5fa",
   "metadata": {},
   "outputs": [],
   "source": [
    "del name\n",
    "print(name)"
   ]
  },
  {
   "cell_type": "code",
   "execution_count": null,
   "id": "b8c8d8bc",
   "metadata": {},
   "outputs": [],
   "source": []
  }
 ],
 "metadata": {
  "kernelspec": {
   "display_name": "Python 3 (ipykernel)",
   "language": "python",
   "name": "python3"
  },
  "language_info": {
   "codemirror_mode": {
    "name": "ipython",
    "version": 3
   },
   "file_extension": ".py",
   "mimetype": "text/x-python",
   "name": "python",
   "nbconvert_exporter": "python",
   "pygments_lexer": "ipython3",
   "version": "3.10.6"
  }
 },
 "nbformat": 4,
 "nbformat_minor": 5
}
