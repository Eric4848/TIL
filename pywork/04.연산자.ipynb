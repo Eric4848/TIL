{
 "cells": [
  {
   "cell_type": "markdown",
   "id": "921533c6",
   "metadata": {},
   "source": [
    "# 1. 연산자"
   ]
  },
  {
   "cell_type": "markdown",
   "id": "4cd92387",
   "metadata": {},
   "source": [
    "# 1) 대입 연산자"
   ]
  },
  {
   "cell_type": "code",
   "execution_count": 1,
   "id": "c1ecc80a",
   "metadata": {},
   "outputs": [
    {
     "name": "stdout",
     "output_type": "stream",
     "text": [
      "8\n",
      "8\n"
     ]
    }
   ],
   "source": [
    "a = 3\n",
    "b = 5\n",
    "c = a + b\n",
    "print(c)\n",
    "\n",
    "def color(a, b):\n",
    "    return a + b\n",
    "\n",
    "funca = color(a, b)\n",
    "print(funca)"
   ]
  },
  {
   "cell_type": "code",
   "execution_count": 2,
   "id": "8b81169b",
   "metadata": {},
   "outputs": [
    {
     "name": "stdout",
     "output_type": "stream",
     "text": [
      "15\n"
     ]
    }
   ],
   "source": [
    "a = 10\n",
    "a += 5\n",
    "print(a)"
   ]
  },
  {
   "cell_type": "markdown",
   "id": "227b88ce",
   "metadata": {},
   "source": [
    "# 2) 타입 변환"
   ]
  },
  {
   "cell_type": "code",
   "execution_count": 3,
   "id": "0f8224a0",
   "metadata": {},
   "outputs": [
    {
     "name": "stdout",
     "output_type": "stream",
     "text": [
      "Type name : Eric\n",
      "Type age : 25\n",
      "Name : Eric \n",
      "Age : 25 \n",
      "Age after decade : 35\n"
     ]
    }
   ],
   "source": [
    "name = input(\"Type name : \")\n",
    "age = input(\"Type age : \")\n",
    "a = 10\n",
    "\n",
    "print(\"Name :\", name, \"\\nAge :\", age, \"\\nAge after decade :\", int(age) + a)"
   ]
  },
  {
   "cell_type": "code",
   "execution_count": null,
   "id": "954d9cd5",
   "metadata": {},
   "outputs": [],
   "source": []
  }
 ],
 "metadata": {
  "kernelspec": {
   "display_name": "Python 3 (ipykernel)",
   "language": "python",
   "name": "python3"
  },
  "language_info": {
   "codemirror_mode": {
    "name": "ipython",
    "version": 3
   },
   "file_extension": ".py",
   "mimetype": "text/x-python",
   "name": "python",
   "nbconvert_exporter": "python",
   "pygments_lexer": "ipython3",
   "version": "3.10.6"
  }
 },
 "nbformat": 4,
 "nbformat_minor": 5
}
